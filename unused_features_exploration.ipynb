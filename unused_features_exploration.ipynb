{
 "cells": [
  {
   "cell_type": "code",
   "execution_count": 3,
   "metadata": {},
   "outputs": [],
   "source": [
    "from acquire import get_telco_data\n",
    "from prepare import prepare_telco\n",
    "import pandas as pd\n",
    "import numpy as np\n",
    "import scipy.stats as stats\n",
    "import matplotlib.pyplot as plt\n",
    "import seaborn as sns\n",
    "\n",
    "train, validate, test = prepare_telco(get_telco_data())"
   ]
  },
  {
   "cell_type": "markdown",
   "metadata": {},
   "source": [
    "# Unused Features\n",
    "The features below were initially thought to be strong drivers of churn but we eventually concluded that they were not. The exploration that we performed to come to this conclusion is shown below for each feature.\n",
    "\n",
    "## Senior_Citizen\n",
    "Are seniors leaving leaving us sooner or later than non-seniors on average? (And thus churning faster)\n",
    "<br>\n",
    "<br>\n",
    "H0: Monthly tenure of seniors = Monthly tenure of non seniors\n",
    "<br>\n",
    "Ha: Monthly tenure of seniors != Monthly tenure of non seniors"
   ]
  },
  {
   "cell_type": "code",
   "execution_count": 11,
   "metadata": {},
   "outputs": [
    {
     "name": "stdout",
     "output_type": "stream",
     "text": [
      "-0.8664210077532858 0.38648052790561027\n",
      "\n",
      "Since p > alpha (.05), we fail to reject the null hypothesis. The monthly tenure of seniors is no different than the monthly tenure of non-seniors.\n"
     ]
    }
   ],
   "source": [
    "alpha = .05\n",
    "senior_tenure = train[(train.senior_citizen == 1)].monthly_tenure\n",
    "nonsenior_tenure = train[(train.senior_citizen == 0)].monthly_tenure\n",
    "\n",
    "t, p = stats.ttest_ind(senior_tenure, nonsenior_tenure, equal_var = False)\n",
    "\n",
    "print(t,p)\n",
    "\n",
    "print('\\nSince p > alpha (.05), we fail to reject the null hypothesis. The monthly tenure of seniors is no different than the monthly tenure of non-seniors.')"
   ]
  },
  {
   "cell_type": "markdown",
   "metadata": {},
   "source": [
    "- Hypothesis test shows there is no difference in monthly tenure between seniors and non-seniors. \n",
    "- Given this, I won't explore senior status further as a driver of churn."
   ]
  },
  {
   "cell_type": "markdown",
   "metadata": {},
   "source": [
    "## Paperless Billing\n",
    "Are paperless billing customers leaving leaving us sooner or later than non-paperless billing customers on average? (And thus churning faster)\n",
    "<br>\n",
    "<br>\n",
    "H0: Monthly tenure of paperless billing customers = Monthly tenure of non-paperless billing customers\n",
    "<br>\n",
    "Ha: Monthly tenure of paperless billing customers != Monthly tenure of non-paperless billing customers"
   ]
  },
  {
   "cell_type": "code",
   "execution_count": 19,
   "metadata": {},
   "outputs": [
    {
     "name": "stdout",
     "output_type": "stream",
     "text": [
      "0.5820948135546641 0.5605403707371726\n",
      "\n",
      "Since p > alpha (.05), we fail to reject the null hypothesis. The monthly tenure of paperless billing customers is no different than the monthly tenure of non-paperless billing customers.\n"
     ]
    }
   ],
   "source": [
    "alpha = .05\n",
    "paperless_tenure = train[(train.paperless_billing == 1)].monthly_tenure\n",
    "nopaperless_tenure = train[(train.paperless_billing == 0)].monthly_tenure\n",
    "\n",
    "t, p = stats.ttest_ind(paperless_tenure, nopaperless_tenure, equal_var = False)\n",
    "\n",
    "print(t,p)\n",
    "\n",
    "print('\\nSince p > alpha (.05), we fail to reject the null hypothesis. The monthly tenure of paperless billing customers is no different than the monthly tenure of non-paperless billing customers.')"
   ]
  },
  {
   "cell_type": "markdown",
   "metadata": {},
   "source": [
    "- Hypothesis test above shows there is no difference in monthly tenure between paperless billing and non-paperless billing customers. Given this, we won't explore paperless billing further as a strong driver of churn."
   ]
  },
  {
   "cell_type": "code",
   "execution_count": null,
   "metadata": {},
   "outputs": [],
   "source": []
  }
 ],
 "metadata": {
  "kernelspec": {
   "display_name": "Python 3",
   "language": "python",
   "name": "python3"
  },
  "language_info": {
   "codemirror_mode": {
    "name": "ipython",
    "version": 3
   },
   "file_extension": ".py",
   "mimetype": "text/x-python",
   "name": "python",
   "nbconvert_exporter": "python",
   "pygments_lexer": "ipython3",
   "version": "3.7.6"
  }
 },
 "nbformat": 4,
 "nbformat_minor": 4
}
