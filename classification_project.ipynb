{
 "cells": [
  {
   "cell_type": "markdown",
   "metadata": {},
   "source": [
    "# Identifying the Drivers of Churn at Telco\n",
    "***\n",
    "# Goals"
   ]
  },
  {
   "cell_type": "markdown",
   "metadata": {},
   "source": [
    "My goal for this project is to create a model that will acurrately predict customer churn using the customer data provided. I will also be identifying the primary drivers of customer churn.\n",
    "\n",
    "I will deliver classification_project.ipynb, README.md, predictions.csv, acquire.py, prepare.py, model.py, a walkthrough-style presentation of the project. The deliverables listed here are detailed in-depth in the README file.\n",
    "\n",
    "A link to the presentation slides can be found below.\n",
    "\n",
    "https://docs.google.com/presentation/d/1fI64dzhV6jX33lD-tAv9IEc0MOXx1_ilWL54OKl9aRQ/edit?usp=sharing"
   ]
  },
  {
   "cell_type": "markdown",
   "metadata": {},
   "source": [
    "\n",
    "# Acquire\n",
    "Acquire data from the customers table from the telco_churn database on the codeup data science database server.\n",
    "***"
   ]
  },
  {
   "cell_type": "code",
   "execution_count": null,
   "metadata": {},
   "outputs": [],
   "source": [
    "# preparing environment\n",
    "import pandas as pd\n",
    "import numpy as np\n",
    "import scipy.stats as stats\n",
    "import matplotlib.pyplot as plt\n",
    "import seaborn as sns\n",
    "\n",
    "#import acquire as ac\n",
    "from acquire import get_telco_data\n",
    "from prepare import prepare_telco\n",
    "\n",
    "from sklearn.model_selection import train_test_split\n",
    "from sklearn.metrics import classification_report, confusion_matrix\n",
    "from sklearn.linear_model import LogisticRegression\n",
    "from sklearn.tree import DecisionTreeClassifier\n",
    "from sklearn.tree import export_graphviz\n",
    "from sklearn.ensemble import RandomForestClassifier\n",
    "from sklearn.neighbors import KNeighborsClassifier\n",
    "from sklearn.metrics import f1_score"
   ]
  },
  {
   "cell_type": "code",
   "execution_count": 2,
   "metadata": {
    "scrolled": true
   },
   "outputs": [
    {
     "data": {
      "text/html": [
       "<div>\n",
       "<style scoped>\n",
       "    .dataframe tbody tr th:only-of-type {\n",
       "        vertical-align: middle;\n",
       "    }\n",
       "\n",
       "    .dataframe tbody tr th {\n",
       "        vertical-align: top;\n",
       "    }\n",
       "\n",
       "    .dataframe thead th {\n",
       "        text-align: right;\n",
       "    }\n",
       "</style>\n",
       "<table border=\"1\" class=\"dataframe\">\n",
       "  <thead>\n",
       "    <tr style=\"text-align: right;\">\n",
       "      <th></th>\n",
       "      <th>customer_id</th>\n",
       "      <th>gender</th>\n",
       "      <th>senior_citizen</th>\n",
       "      <th>partner</th>\n",
       "      <th>dependents</th>\n",
       "      <th>tenure</th>\n",
       "      <th>phone_service</th>\n",
       "      <th>multiple_lines</th>\n",
       "      <th>internet_service_type_id</th>\n",
       "      <th>online_security</th>\n",
       "      <th>...</th>\n",
       "      <th>device_protection</th>\n",
       "      <th>tech_support</th>\n",
       "      <th>streaming_tv</th>\n",
       "      <th>streaming_movies</th>\n",
       "      <th>contract_type_id</th>\n",
       "      <th>paperless_billing</th>\n",
       "      <th>payment_type_id</th>\n",
       "      <th>monthly_charges</th>\n",
       "      <th>total_charges</th>\n",
       "      <th>churn</th>\n",
       "    </tr>\n",
       "  </thead>\n",
       "  <tbody>\n",
       "    <tr>\n",
       "      <th>0</th>\n",
       "      <td>0002-ORFBO</td>\n",
       "      <td>Female</td>\n",
       "      <td>0</td>\n",
       "      <td>Yes</td>\n",
       "      <td>Yes</td>\n",
       "      <td>9</td>\n",
       "      <td>Yes</td>\n",
       "      <td>No</td>\n",
       "      <td>1</td>\n",
       "      <td>No</td>\n",
       "      <td>...</td>\n",
       "      <td>No</td>\n",
       "      <td>Yes</td>\n",
       "      <td>Yes</td>\n",
       "      <td>No</td>\n",
       "      <td>2</td>\n",
       "      <td>Yes</td>\n",
       "      <td>2</td>\n",
       "      <td>65.6</td>\n",
       "      <td>593.3</td>\n",
       "      <td>No</td>\n",
       "    </tr>\n",
       "    <tr>\n",
       "      <th>1</th>\n",
       "      <td>0003-MKNFE</td>\n",
       "      <td>Male</td>\n",
       "      <td>0</td>\n",
       "      <td>No</td>\n",
       "      <td>No</td>\n",
       "      <td>9</td>\n",
       "      <td>Yes</td>\n",
       "      <td>Yes</td>\n",
       "      <td>1</td>\n",
       "      <td>No</td>\n",
       "      <td>...</td>\n",
       "      <td>No</td>\n",
       "      <td>No</td>\n",
       "      <td>No</td>\n",
       "      <td>Yes</td>\n",
       "      <td>1</td>\n",
       "      <td>No</td>\n",
       "      <td>2</td>\n",
       "      <td>59.9</td>\n",
       "      <td>542.4</td>\n",
       "      <td>No</td>\n",
       "    </tr>\n",
       "    <tr>\n",
       "      <th>2</th>\n",
       "      <td>0004-TLHLJ</td>\n",
       "      <td>Male</td>\n",
       "      <td>0</td>\n",
       "      <td>No</td>\n",
       "      <td>No</td>\n",
       "      <td>4</td>\n",
       "      <td>Yes</td>\n",
       "      <td>No</td>\n",
       "      <td>2</td>\n",
       "      <td>No</td>\n",
       "      <td>...</td>\n",
       "      <td>Yes</td>\n",
       "      <td>No</td>\n",
       "      <td>No</td>\n",
       "      <td>No</td>\n",
       "      <td>1</td>\n",
       "      <td>Yes</td>\n",
       "      <td>1</td>\n",
       "      <td>73.9</td>\n",
       "      <td>280.85</td>\n",
       "      <td>Yes</td>\n",
       "    </tr>\n",
       "  </tbody>\n",
       "</table>\n",
       "<p>3 rows × 21 columns</p>\n",
       "</div>"
      ],
      "text/plain": [
       "  customer_id  gender  senior_citizen partner dependents  tenure  \\\n",
       "0  0002-ORFBO  Female               0     Yes        Yes       9   \n",
       "1  0003-MKNFE    Male               0      No         No       9   \n",
       "2  0004-TLHLJ    Male               0      No         No       4   \n",
       "\n",
       "  phone_service multiple_lines  internet_service_type_id online_security  ...  \\\n",
       "0           Yes             No                         1              No  ...   \n",
       "1           Yes            Yes                         1              No  ...   \n",
       "2           Yes             No                         2              No  ...   \n",
       "\n",
       "  device_protection tech_support streaming_tv streaming_movies  \\\n",
       "0                No          Yes          Yes               No   \n",
       "1                No           No           No              Yes   \n",
       "2               Yes           No           No               No   \n",
       "\n",
       "  contract_type_id  paperless_billing payment_type_id  monthly_charges  \\\n",
       "0                2                Yes               2             65.6   \n",
       "1                1                 No               2             59.9   \n",
       "2                1                Yes               1             73.9   \n",
       "\n",
       "   total_charges churn  \n",
       "0          593.3    No  \n",
       "1          542.4    No  \n",
       "2         280.85   Yes  \n",
       "\n",
       "[3 rows x 21 columns]"
      ]
     },
     "execution_count": 2,
     "metadata": {},
     "output_type": "execute_result"
    }
   ],
   "source": [
    "# display data frame\n",
    "df = get_telco_data()\n",
    "\n",
    "df.head(3)"
   ]
  },
  {
   "cell_type": "markdown",
   "metadata": {},
   "source": [
    "# Prepare\n",
    "Prepare, tidy, and clean the data so it can be explored and analyzed\n",
    "***"
   ]
  },
  {
   "cell_type": "code",
   "execution_count": 3,
   "metadata": {
    "scrolled": true
   },
   "outputs": [
    {
     "name": "stdout",
     "output_type": "stream",
     "text": [
      "<class 'pandas.core.frame.DataFrame'>\n",
      "RangeIndex: 7043 entries, 0 to 7042\n",
      "Data columns (total 21 columns):\n",
      " #   Column                    Non-Null Count  Dtype  \n",
      "---  ------                    --------------  -----  \n",
      " 0   customer_id               7043 non-null   object \n",
      " 1   gender                    7043 non-null   object \n",
      " 2   senior_citizen            7043 non-null   int64  \n",
      " 3   partner                   7043 non-null   object \n",
      " 4   dependents                7043 non-null   object \n",
      " 5   tenure                    7043 non-null   int64  \n",
      " 6   phone_service             7043 non-null   object \n",
      " 7   multiple_lines            7043 non-null   object \n",
      " 8   internet_service_type_id  7043 non-null   int64  \n",
      " 9   online_security           7043 non-null   object \n",
      " 10  online_backup             7043 non-null   object \n",
      " 11  device_protection         7043 non-null   object \n",
      " 12  tech_support              7043 non-null   object \n",
      " 13  streaming_tv              7043 non-null   object \n",
      " 14  streaming_movies          7043 non-null   object \n",
      " 15  contract_type_id          7043 non-null   int64  \n",
      " 16  paperless_billing         7043 non-null   object \n",
      " 17  payment_type_id           7043 non-null   int64  \n",
      " 18  monthly_charges           7043 non-null   float64\n",
      " 19  total_charges             7043 non-null   object \n",
      " 20  churn                     7043 non-null   object \n",
      "dtypes: float64(1), int64(5), object(15)\n",
      "memory usage: 1.1+ MB\n"
     ]
    }
   ],
   "source": [
    "# displaying column names, dtypes, etc.\n",
    "df.info()"
   ]
  },
  {
   "cell_type": "markdown",
   "metadata": {},
   "source": [
    "- Categorical object variables such as gender, churn and dependents may need to be converted to 0s and 1s\n",
    "- No missing values\n",
    "    - Values with only white space may exist however\n",
    "- Rename tenure to reflect unit of measurement\n",
    "- Convert total_charges to float"
   ]
  },
  {
   "cell_type": "code",
   "execution_count": 4,
   "metadata": {
    "scrolled": true
   },
   "outputs": [
    {
     "data": {
      "text/html": [
       "<div>\n",
       "<style scoped>\n",
       "    .dataframe tbody tr th:only-of-type {\n",
       "        vertical-align: middle;\n",
       "    }\n",
       "\n",
       "    .dataframe tbody tr th {\n",
       "        vertical-align: top;\n",
       "    }\n",
       "\n",
       "    .dataframe thead th {\n",
       "        text-align: right;\n",
       "    }\n",
       "</style>\n",
       "<table border=\"1\" class=\"dataframe\">\n",
       "  <thead>\n",
       "    <tr style=\"text-align: right;\">\n",
       "      <th></th>\n",
       "      <th>count</th>\n",
       "      <th>mean</th>\n",
       "      <th>std</th>\n",
       "      <th>min</th>\n",
       "      <th>25%</th>\n",
       "      <th>50%</th>\n",
       "      <th>75%</th>\n",
       "      <th>max</th>\n",
       "    </tr>\n",
       "  </thead>\n",
       "  <tbody>\n",
       "    <tr>\n",
       "      <th>senior_citizen</th>\n",
       "      <td>7043.0</td>\n",
       "      <td>0.162147</td>\n",
       "      <td>0.368612</td>\n",
       "      <td>0.00</td>\n",
       "      <td>0.0</td>\n",
       "      <td>0.00</td>\n",
       "      <td>0.00</td>\n",
       "      <td>1.00</td>\n",
       "    </tr>\n",
       "    <tr>\n",
       "      <th>tenure</th>\n",
       "      <td>7043.0</td>\n",
       "      <td>32.371149</td>\n",
       "      <td>24.559481</td>\n",
       "      <td>0.00</td>\n",
       "      <td>9.0</td>\n",
       "      <td>29.00</td>\n",
       "      <td>55.00</td>\n",
       "      <td>72.00</td>\n",
       "    </tr>\n",
       "    <tr>\n",
       "      <th>internet_service_type_id</th>\n",
       "      <td>7043.0</td>\n",
       "      <td>1.872923</td>\n",
       "      <td>0.737796</td>\n",
       "      <td>1.00</td>\n",
       "      <td>1.0</td>\n",
       "      <td>2.00</td>\n",
       "      <td>2.00</td>\n",
       "      <td>3.00</td>\n",
       "    </tr>\n",
       "    <tr>\n",
       "      <th>contract_type_id</th>\n",
       "      <td>7043.0</td>\n",
       "      <td>1.690473</td>\n",
       "      <td>0.833755</td>\n",
       "      <td>1.00</td>\n",
       "      <td>1.0</td>\n",
       "      <td>1.00</td>\n",
       "      <td>2.00</td>\n",
       "      <td>3.00</td>\n",
       "    </tr>\n",
       "    <tr>\n",
       "      <th>payment_type_id</th>\n",
       "      <td>7043.0</td>\n",
       "      <td>2.315633</td>\n",
       "      <td>1.148907</td>\n",
       "      <td>1.00</td>\n",
       "      <td>1.0</td>\n",
       "      <td>2.00</td>\n",
       "      <td>3.00</td>\n",
       "      <td>4.00</td>\n",
       "    </tr>\n",
       "    <tr>\n",
       "      <th>monthly_charges</th>\n",
       "      <td>7043.0</td>\n",
       "      <td>64.761692</td>\n",
       "      <td>30.090047</td>\n",
       "      <td>18.25</td>\n",
       "      <td>35.5</td>\n",
       "      <td>70.35</td>\n",
       "      <td>89.85</td>\n",
       "      <td>118.75</td>\n",
       "    </tr>\n",
       "  </tbody>\n",
       "</table>\n",
       "</div>"
      ],
      "text/plain": [
       "                           count       mean        std    min   25%    50%  \\\n",
       "senior_citizen            7043.0   0.162147   0.368612   0.00   0.0   0.00   \n",
       "tenure                    7043.0  32.371149  24.559481   0.00   9.0  29.00   \n",
       "internet_service_type_id  7043.0   1.872923   0.737796   1.00   1.0   2.00   \n",
       "contract_type_id          7043.0   1.690473   0.833755   1.00   1.0   1.00   \n",
       "payment_type_id           7043.0   2.315633   1.148907   1.00   1.0   2.00   \n",
       "monthly_charges           7043.0  64.761692  30.090047  18.25  35.5  70.35   \n",
       "\n",
       "                            75%     max  \n",
       "senior_citizen             0.00    1.00  \n",
       "tenure                    55.00   72.00  \n",
       "internet_service_type_id   2.00    3.00  \n",
       "contract_type_id           2.00    3.00  \n",
       "payment_type_id            3.00    4.00  \n",
       "monthly_charges           89.85  118.75  "
      ]
     },
     "execution_count": 4,
     "metadata": {},
     "output_type": "execute_result"
    }
   ],
   "source": [
    "# displaying various values for numerical columns (average, quartiles, min, max, etc)\n",
    "# this allows us to get a rough idea of the values within the columns\n",
    "df.describe().T"
   ]
  },
  {
   "cell_type": "markdown",
   "metadata": {},
   "source": [
    "- Senior_citizen: seniors are a minority\n",
    "- Tenure: 72 month max means we have no records older than 6 years\n",
    "- Type_ids for internet_service, contract, and paymenta are already numerical so no need to convert\n",
    "- Monthly_charges: the average monthly payment is 64.76"
   ]
  },
  {
   "cell_type": "code",
   "execution_count": 5,
   "metadata": {
    "scrolled": false
   },
   "outputs": [
    {
     "name": "stdout",
     "output_type": "stream",
     "text": [
      "Male      3555\n",
      "Female    3488\n",
      "Name: gender, dtype: int64\n",
      "0    5901\n",
      "1    1142\n",
      "Name: senior_citizen, dtype: int64\n",
      "No     3641\n",
      "Yes    3402\n",
      "Name: partner, dtype: int64\n",
      "No     4933\n",
      "Yes    2110\n",
      "Name: dependents, dtype: int64\n",
      "Yes    6361\n",
      "No      682\n",
      "Name: phone_service, dtype: int64\n",
      "No                  3390\n",
      "Yes                 2971\n",
      "No phone service     682\n",
      "Name: multiple_lines, dtype: int64\n",
      "2    3096\n",
      "1    2421\n",
      "3    1526\n",
      "Name: internet_service_type_id, dtype: int64\n",
      "No                     3498\n",
      "Yes                    2019\n",
      "No internet service    1526\n",
      "Name: online_security, dtype: int64\n",
      "No                     3088\n",
      "Yes                    2429\n",
      "No internet service    1526\n",
      "Name: online_backup, dtype: int64\n",
      "No                     3095\n",
      "Yes                    2422\n",
      "No internet service    1526\n",
      "Name: device_protection, dtype: int64\n",
      "No                     3473\n",
      "Yes                    2044\n",
      "No internet service    1526\n",
      "Name: tech_support, dtype: int64\n",
      "No                     2810\n",
      "Yes                    2707\n",
      "No internet service    1526\n",
      "Name: streaming_tv, dtype: int64\n",
      "No                     2785\n",
      "Yes                    2732\n",
      "No internet service    1526\n",
      "Name: streaming_movies, dtype: int64\n",
      "1    3875\n",
      "3    1695\n",
      "2    1473\n",
      "Name: contract_type_id, dtype: int64\n",
      "Yes    4171\n",
      "No     2872\n",
      "Name: paperless_billing, dtype: int64\n",
      "1    2365\n",
      "2    1612\n",
      "3    1544\n",
      "4    1522\n",
      "Name: payment_type_id, dtype: int64\n",
      "No     5174\n",
      "Yes    1869\n",
      "Name: churn, dtype: int64\n"
     ]
    }
   ],
   "source": [
    "# displaying unique values per column to identify categorical variables\n",
    "for col in df:\n",
    "    if col != 'customer_id' and col != 'total_charges' and col != 'monthly_charges' and col != 'tenure':\n",
    "        print(df[col].value_counts())"
   ]
  },
  {
   "cell_type": "markdown",
   "metadata": {},
   "source": [
    "- convert columns with 2 values to 0s and 1s\n",
    "- \"no x service\" values can be converted to \"No\" (soon to be 0)"
   ]
  },
  {
   "cell_type": "markdown",
   "metadata": {},
   "source": [
    "__Outliers and distributions__"
   ]
  },
  {
   "cell_type": "code",
   "execution_count": null,
   "metadata": {
    "scrolled": false
   },
   "outputs": [],
   "source": [
    "# plotting data to identify outliers and distributions\n",
    "for col in df.columns:\n",
    "    if col != 'customer_id':\n",
    "        plt.figure(figsize=(4,3))\n",
    "        plt.hist(df[col])\n",
    "        plt.title(col)\n",
    "        plt.show()"
   ]
  },
  {
   "cell_type": "markdown",
   "metadata": {},
   "source": [
    "- No outliers found\n",
    "- Customers without phone service and seniors are minorities\n",
    "- Fairly even split between male and female\n",
    "- Monthly_charges would be a somewhat normal distribution if not for the extremely high amount of low payment customers"
   ]
  },
  {
   "cell_type": "markdown",
   "metadata": {},
   "source": [
    "### Preparing data with changes outlined in prepare takeaways"
   ]
  },
  {
   "cell_type": "code",
   "execution_count": null,
   "metadata": {},
   "outputs": [],
   "source": [
    "train, validate, test = prepare_telco(get_telco_data())"
   ]
  },
  {
   "cell_type": "markdown",
   "metadata": {},
   "source": [
    "### Prepare Takeaways"
   ]
  },
  {
   "cell_type": "markdown",
   "metadata": {},
   "source": [
    "- converted object columns with binary values to 0s and 1s\n",
    "- renamed gender column to female (female = 1)\n",
    "- renamed tenure to tenure_months\n",
    "- added column for tenure years\n",
    "- removed duplicates\n",
    "- converted total_charges to float\n",
    "- no null values found\n",
    "- 11 white space values in total_charges filed with 0 since client has not been charged yet\n",
    "- split into train, validate, test"
   ]
  },
  {
   "cell_type": "markdown",
   "metadata": {},
   "source": [
    "# Explore\n",
    "We begin exploring our prepped data to identify drivers of churn and relationships between variables.\n",
    "***"
   ]
  },
  {
   "cell_type": "code",
   "execution_count": null,
   "metadata": {},
   "outputs": [],
   "source": [
    "# creating a heatmap that will show each features correlation to one another\n",
    "# specifically, we are interested in the correlation between churn and each other feature\n",
    "corr = train.corr()\n",
    "mask = np.triu(np.ones_like(corr, dtype=bool))\n",
    "f, ax = plt.subplots(figsize=(13, 11))\n",
    "cmap = sns.diverging_palette(230, 20, as_cmap=True)\n",
    "sns.heatmap(corr, mask=mask, cmap=cmap, vmax=.3, center=0, square=True, linewidths=.5, cbar_kws={\"shrink\": .5})"
   ]
  },
  {
   "cell_type": "markdown",
   "metadata": {},
   "source": [
    "- __These features show strong connections to churn but we did not explore them further for various reasons__\n",
    "    * contract_type_id \n",
    "        * Can't change\n",
    "    * monthly_tenure / tenure_years \n",
    "        * Increases as churn lowers but we can only influence it by convincing clients to stay via other      features\n",
    "    * total_charges\n",
    "        * Builds up over time the longer a customer has been with us. Not something we can control directly.\n",
    "<br>\n",
    "<br>\n",
    "- __These features were explored but were found to have weak or little connection to churn <br>(exploration of these features can be found in the unused_features_exploration.ipynb file) located in the same repository as this notebook__\n",
    "    * senior_citizen\n",
    "    * paperless_billing\n",
    "<br>\n",
    "<br>\n",
    "- __These features are believed to be strong drivers of churn after exploration was completed__\n",
    "    * is_automatic_payment\n",
    "        * Payment type split into two categories, automatic | manual\n",
    "    * dependents\n",
    "    * partner\n",
    "    * monthly_charges"
   ]
  },
  {
   "cell_type": "markdown",
   "metadata": {},
   "source": [
    "## Exploring Individual Variables\n",
    "Note: For all hypothesis tests, all assumptions were met. In cases of differing variance, the equal_var argument was set to \"false\".\n",
    "***"
   ]
  },
  {
   "cell_type": "markdown",
   "metadata": {},
   "source": [
    "## Variable: Monthly_Charge\n",
    "Our clients may be cost sensitive and as a result, they may be leaving us in order to save money by paying less to a competitor.\n",
    "***"
   ]
  },
  {
   "cell_type": "markdown",
   "metadata": {},
   "source": [
    "### Monthly_charge (Plot)"
   ]
  },
  {
   "cell_type": "markdown",
   "metadata": {},
   "source": [
    " Lets plot to see if a majority clients who have churned have also had high monthly charges. "
   ]
  },
  {
   "cell_type": "code",
   "execution_count": null,
   "metadata": {
    "scrolled": false
   },
   "outputs": [],
   "source": [
    "# setting figure size\n",
    "plt.figure(figsize=(14,12))\n",
    "\n",
    "# plotting churned customer monthly charges data\n",
    "plt.subplot(221)\n",
    "churn_vs_monthly_charges = train[train.churn == 1].monthly_charges\n",
    "churn_vs_monthly_charges.hist(color='orange')\n",
    "plt.xlabel('monthly_charge', fontsize = 20)\n",
    "plt.ylabel('# of clients', fontsize = 20)\n",
    "plt.title('Churned Clients', fontsize = 20)\n",
    "\n",
    "# plotting non-churned customer monthly charges data\n",
    "plt.subplot(222)\n",
    "churn_vs_monthly_charges = train[train.churn == 0].monthly_charges\n",
    "churn_vs_monthly_charges.hist(color = 'green')\n",
    "plt.xlabel('monthly_charge', fontsize = 20)\n",
    "plt.ylabel('# of clients', fontsize = 20)\n",
    "plt.title('Non-Churned Clients', fontsize = 20)"
   ]
  },
  {
   "cell_type": "markdown",
   "metadata": {},
   "source": [
    "Plot takeaway: It appears that clients who have churned payed more per month that clients who have not churned."
   ]
  },
  {
   "cell_type": "markdown",
   "metadata": {},
   "source": [
    "### Monthly_charge (Hypothesis Test)\n",
    "We'll now run a hypothesis test to confirm if our findings from the plots are valid."
   ]
  },
  {
   "cell_type": "markdown",
   "metadata": {},
   "source": [
    "Idea: I believe churned clients have had higher monthly charges on average than clients who have not churned\n",
    "<br>\n",
    "H0: Churned customer average monthly_charges <=  Non-Churned customer average monthly_charges\n",
    "<br>\n",
    "Ha: Churned customer average monthly_charges >  Non-Churned customer average monthly_charges"
   ]
  },
  {
   "cell_type": "code",
   "execution_count": null,
   "metadata": {},
   "outputs": [],
   "source": [
    "# Running a one-tailed, two-sample t-test to test hypothesis\n",
    "\n",
    "# setting alpha\n",
    "test_1_alpha = .05\n",
    "\n",
    "# creating DFs for churned and non-churned monthly charges\n",
    "churn_monthly_charge = train[(train.churn == 1)].monthly_charges\n",
    "no_churn_monthly_charge = train[(train.churn == 0)].monthly_charges\n",
    "\n",
    "# running test\n",
    "t_1, p_1 = stats.ttest_ind(churn_monthly_charge, no_churn_monthly_charge, equal_var = False)\n",
    "\n",
    "# printing results\n",
    "print('t = ',t_1,'\\n')\n",
    "print('p = ',p_1/2,'\\n')\n",
    "\n",
    "if p_1/2 > test_1_alpha:\n",
    "    print('We fail to reject H0, there is no difference in monthly charges between churned and non-churned clients')\n",
    "elif t_1 < 0:\n",
    "    print('We fail to reject H0, there is no difference in monthly charges between churned and non-churned clients')\n",
    "else:\n",
    "    print('t > 0 and p < alpha so we reject the null hypothesis.')"
   ]
  },
  {
   "cell_type": "markdown",
   "metadata": {},
   "source": [
    "###  Monthly Charges Takeaways\n",
    "#### - Our plots and hypothesis test found that churned clients were paying more per month than our non-churned customers on average.\n",
    "#### - This suggests our customers are price sensitive and high monthly charges are driving churn."
   ]
  },
  {
   "cell_type": "markdown",
   "metadata": {},
   "source": [
    "## Variable: Partner\n",
    "Partners being on an account together can create an exit barrier for clients because they prefer to be on an account with their partner and don't want to have to both go through the process of signing up for a new service. \n",
    "***"
   ]
  },
  {
   "cell_type": "markdown",
   "metadata": {},
   "source": [
    "### Partner (Plot)"
   ]
  },
  {
   "cell_type": "markdown",
   "metadata": {},
   "source": [
    "Lets plot to see if clients who have a partner on their account stay with us longer than clients without partners."
   ]
  },
  {
   "cell_type": "code",
   "execution_count": null,
   "metadata": {
    "scrolled": true
   },
   "outputs": [],
   "source": [
    "# setting figure size\n",
    "plt.figure(figsize=(14,12))\n",
    "\n",
    "# creating plot of clients w/partner monthly tenure\n",
    "plt.subplot(221)\n",
    "partner_tenure = (train[train.partner == 1].monthly_tenure)\n",
    "partner_tenure.hist(color = 'purple')\n",
    "plt.xlabel('monthly_tenure', fontsize = 20)\n",
    "plt.ylabel('# of clients', fontsize = 20)\n",
    "plt.title('Clients w/ Partner', fontsize = 20)\n",
    "\n",
    "# creating plot of clients w/partner monthly tenure\n",
    "plt.subplot(222)\n",
    "no_partner_tenure = (train[train.partner == 0].monthly_tenure)\n",
    "no_partner_tenure.hist(color = 'teal')\n",
    "plt.xlabel('monthly_tenure', fontsize = 20)\n",
    "plt.ylabel('# of clients', fontsize = 20)\n",
    "plt.title('Clients w/o Partner', fontsize = 20)"
   ]
  },
  {
   "cell_type": "markdown",
   "metadata": {},
   "source": [
    "Plot takeaway: Clients with partners on their accounts seem to have higher monthly tenure than clients without partners. In other words, they stay with us longer."
   ]
  },
  {
   "cell_type": "markdown",
   "metadata": {},
   "source": [
    "### Partner (Hypothesis Test)\n",
    "We'll now run a hypothesis test to confirm if our findings from the plots are valid."
   ]
  },
  {
   "cell_type": "markdown",
   "metadata": {},
   "source": [
    "Idea: Clients with partners stay with us longer than those without partners.\n",
    "<br>\n",
    "H0: Average monthly tenure of clients with partners <= monthly tenure of clients without partners\n",
    "<br>\n",
    "Ha: Average monthly tenure of clients with partners > monthly tenure of clients without partners"
   ]
  },
  {
   "cell_type": "code",
   "execution_count": null,
   "metadata": {},
   "outputs": [],
   "source": [
    "# Running a one-tailed, two-sample t-test to test hypothesis\n",
    "\n",
    "# setting alpha\n",
    "test_2_alpha = .05\n",
    "\n",
    "# creating DFs for monthly tenure of clients with and without partners\n",
    "partner_tenure = train[(train.partner == 1)].monthly_tenure\n",
    "nopartner_tenure = train[(train.partner == 0)].monthly_tenure\n",
    "\n",
    "# running t-test\n",
    "t_2, p_2 = stats.ttest_ind(partner_tenure, nopartner_tenure, equal_var = False)\n",
    "\n",
    "\n",
    "# printing results\n",
    "print('t = ',t_2,'\\n')\n",
    "print('p = ',p_2/2,'\\n')\n",
    "\n",
    "if p_2/2 > test_2_alpha:\n",
    "    print('We fail to reject H0, there is no difference in monthly tenure between clients with partners and those without')\n",
    "elif t_2 < 0:\n",
    "    print('We fail to reject H0, there is no difference in monthly tenure between clients with partners and those without')\n",
    "else:\n",
    "    print('t > 0 and p < alpha so we reject the null hypothesis.')"
   ]
  },
  {
   "cell_type": "markdown",
   "metadata": {},
   "source": [
    "### Partner Takeaways\n",
    "#### - Our plots and hypothesis test found that clients with partners have longer monthly tenures than those without partners. In other words, clients with partners tend to stay with us longer.\n",
    "#### - This suggests our customers are motivated to stay with us when their partner is on their account because they'd prefer to avoid the process of switching over both of their services a different provider."
   ]
  },
  {
   "cell_type": "markdown",
   "metadata": {},
   "source": [
    "## Variable: Dependents\n",
    "Just as having a partner on an account can create an exit barrier for a customer, the same can hold true for dependents. Our clients may prefer to remain with us in order to avoid having to switch all of their depedents along with themselves to a new service.\n",
    "***"
   ]
  },
  {
   "cell_type": "markdown",
   "metadata": {},
   "source": [
    "### Depedents (plot)\n",
    "Lets plot to see if clients who have a partner on their account stay with us longer than clients without partners."
   ]
  },
  {
   "cell_type": "code",
   "execution_count": null,
   "metadata": {},
   "outputs": [],
   "source": [
    "# setting figure size\n",
    "plt.figure(figsize=(14,12))\n",
    "\n",
    "# creating plot of clients w/dependents monthly tenure\n",
    "plt.subplot(221)\n",
    "dependent_tenure = (train[train.dependents == 1].monthly_tenure)\n",
    "dependent_tenure.hist(color = 'cyan')\n",
    "plt.xlabel('monthly_tenure', fontsize = 20)\n",
    "plt.ylabel('# of clients', fontsize = 20)\n",
    "plt.title('Clients w/ dependent', fontsize = 20)\n",
    "\n",
    "# creating plot of clients w/dependents monthly tenure\n",
    "plt.subplot(222)\n",
    "no_dependent_tenure = (train[train.dependents == 0].monthly_tenure)\n",
    "no_dependent_tenure.hist(color = 'brown')\n",
    "plt.xlabel('monthly_tenure', fontsize = 20)\n",
    "plt.ylabel('# of clients', fontsize = 20)\n",
    "plt.title('Clients w/o dependent', fontsize = 20)"
   ]
  },
  {
   "cell_type": "markdown",
   "metadata": {},
   "source": [
    "Plot takeaway: Clients with dependents on their accounts seem to have higher monthly tenure than clients without dependents. In other words, they stay with us longer."
   ]
  },
  {
   "cell_type": "markdown",
   "metadata": {},
   "source": [
    "### Dependent (Hypothesis Test)\n",
    "We'll now run a hypothesis test to confirm if our findings from the plots are valid."
   ]
  },
  {
   "cell_type": "markdown",
   "metadata": {},
   "source": [
    "Idea: Clients with dependents stay with us longer than those without dependents.\n",
    "\n",
    "H0: Monthly tenure of clients with dependents <= monthly tenure of clients without dependents\n",
    "<br>\n",
    "Ha: Monthly tenure of clients with dependents > monthly tenure of clients without dependents"
   ]
  },
  {
   "cell_type": "code",
   "execution_count": null,
   "metadata": {},
   "outputs": [],
   "source": [
    "# Running a one-tailed, two-sample t-test to test hypothesis\n",
    "\n",
    "# setting alpha\n",
    "test_3_alpha = .05\n",
    "\n",
    "# creating DFs for monthly tenure of clients with and without dependents\n",
    "dependent_tenure = train[(train.dependents == 1)].monthly_tenure\n",
    "nodependent_tenure = train[(train.dependents == 0)].monthly_tenure\n",
    "\n",
    "# running t-test\n",
    "t_3, p_3 = stats.ttest_ind(dependent_tenure, nodependent_tenure, equal_var = False)\n",
    "\n",
    "\n",
    "# printing results\n",
    "print('t = ',t_3,'\\n')\n",
    "print('p = ',p_3/2,'\\n')\n",
    "\n",
    "if p_3/2 > test_3_alpha:\n",
    "    print('We fail to reject H0, there is no difference in monthly tenure between clients with dependents and those without')\n",
    "elif t_3 < 0:\n",
    "    print('We fail to reject H0, there is no difference in monthly tenure between clients with dependents and those without')\n",
    "else:\n",
    "    print('t > 0 and p < alpha so we reject the null hypothesis.')"
   ]
  },
  {
   "cell_type": "markdown",
   "metadata": {},
   "source": [
    "### Dependents Takeaways\n",
    "#### - Our plots and hypothesis test found that clients with dependents have longer monthly tenures than those without dependents. In other words, clients with dependents tend to stay with us longer.\n",
    "#### - This suggests our customers are motivated to stay with us when a dependent is on their account because they'd prefer to avoid the process of switching over both of their services to a different provider."
   ]
  },
  {
   "cell_type": "markdown",
   "metadata": {},
   "source": [
    "## Varialbe: Automatic_payment\n",
    "***\n",
    "Convenience is a major selling point for many consumers. The vlaue our clients' glean from using our automatic payment methods may play a significant role in our ability to retain them"
   ]
  },
  {
   "cell_type": "markdown",
   "metadata": {},
   "source": [
    "### Automatic_payment (plot)\n",
    "Lets plot to see if clients who use automatic payments stay with us longer than clients who make payments manually."
   ]
  },
  {
   "cell_type": "code",
   "execution_count": null,
   "metadata": {
    "scrolled": true
   },
   "outputs": [],
   "source": [
    "# setting figure size\n",
    "plt.figure(figsize=(14,12))\n",
    "\n",
    "# creating plot of clients w/automatic payment monthly tenure\n",
    "plt.subplot(221)\n",
    "automatic_tenure = (train[train.is_automatic_payment == 1].monthly_tenure)\n",
    "automatic_tenure.hist(color = 'skyblue')\n",
    "plt.xlabel('monthly_tenure', fontsize = 20)\n",
    "plt.ylabel('# of clients', fontsize = 20)\n",
    "plt.title('Clients w/ Automatic Payments', fontsize = 20)\n",
    "\n",
    "# creating plot of clients w/manual payment monthly tenure\n",
    "plt.subplot(222)\n",
    "manual_tenure = (train[train.is_automatic_payment == 0].monthly_tenure)\n",
    "manual_tenure.hist(color = 'violet')\n",
    "plt.xlabel('monthly_tenure', fontsize = 20)\n",
    "plt.ylabel('# of clients', fontsize = 20)\n",
    "plt.title('Clients w/ Manual Payments', fontsize = 20)"
   ]
  },
  {
   "cell_type": "markdown",
   "metadata": {},
   "source": [
    "Plot takeaway: Clients with dependents on their accounts seem to have higher monthly tenure than clients without dependents. In other words, they stay with us longer."
   ]
  },
  {
   "cell_type": "markdown",
   "metadata": {},
   "source": [
    "### Automatic Payment (Hypothesis Test)\n",
    "We'll now run a hypothesis test to confirm if our findings from the plots are valid."
   ]
  },
  {
   "cell_type": "markdown",
   "metadata": {},
   "source": [
    "Idea: Clients who make payments automatically stay with us longer than those who make payments manually.\n",
    "<br>\n",
    "<br>\n",
    "H0: Monthly tenure of clients making automatic payments <= monthly tenure of clients making payments manually \n",
    "<br>\n",
    "Ha: Monthly tenure of clients making automatic payments > monthly tenure of clients making payments manually "
   ]
  },
  {
   "cell_type": "code",
   "execution_count": null,
   "metadata": {
    "scrolled": true
   },
   "outputs": [],
   "source": [
    "# Running a one-tailed, two-sample t-test to test hypothesis\n",
    "\n",
    "# setting alpha\n",
    "test_4_alpha = .05\n",
    "\n",
    "# creating DFs for monthly tenure of clients who make automatic and manual payments\n",
    "automatic_tenure = train[(train.is_automatic_payment == 1)].monthly_tenure\n",
    "manual_tenure = train[(train.is_automatic_payment  == 0)].monthly_tenure\n",
    "\n",
    "# running t-test\n",
    "t_4, p_4 = stats.ttest_ind(automatic_tenure, manual_tenure, equal_var = False)\n",
    "\n",
    "# printing results\n",
    "print('t = ',t_4,'\\n')\n",
    "print('p = ',p_4/2,'\\n')\n",
    "\n",
    "if p_4/2 > test_4_alpha:\n",
    "    print('We fail to reject H0, there is no difference in monthly tenure between clients with automatic payments and those with manual.')\n",
    "elif t_4 < 0:\n",
    "    print('We fail to reject H0, there is no difference in monthly tenure between clients with automatic payments and those with manual.')\n",
    "else:\n",
    "    print('t > 0 and p < alpha so we reject the null hypothesis.')"
   ]
  },
  {
   "cell_type": "markdown",
   "metadata": {},
   "source": [
    "### Automatic Payment Takeaways\n",
    "#### - Our plots and hypothesis test found that clients who make payments automatically have longer monthly tenures than those who do so manually. In other words, clients with automatic payments tend to stay with us longer.\n",
    "#### - This suggests our customers appreciate the convenience of automatic payments and find value in it."
   ]
  },
  {
   "cell_type": "markdown",
   "metadata": {},
   "source": [
    "## Variable: Senior_Citizen\n",
    "Are seniors leaving leaving us sooner or later than non-seniors on average? (And thus churning faster)\n",
    "<br>\n",
    "<br>\n",
    "H0: Monthly tenure of seniors = Monthly tenure of non seniors\n",
    "<br>\n",
    "Ha: Monthly tenure of seniors != Monthly tenure of non seniors"
   ]
  },
  {
   "cell_type": "code",
   "execution_count": null,
   "metadata": {},
   "outputs": [],
   "source": [
    "alpha = .05\n",
    "senior_tenure = train[(train.senior_citizen == 1)].monthly_tenure\n",
    "nonsenior_tenure = train[(train.senior_citizen == 0)].monthly_tenure\n",
    "\n",
    "t, p = stats.ttest_ind(senior_tenure, nonsenior_tenure, equal_var = False)\n",
    "\n",
    "print('alpha = .05')\n",
    "print(f'p: {p}')\n",
    "\n",
    "print('\\nSince p > alpha (.05), we fail to reject the null hypothesis. The monthly tenure of seniors is no different than the monthly tenure of non-seniors.')"
   ]
  },
  {
   "cell_type": "markdown",
   "metadata": {},
   "source": [
    "- Hypothesis test shows there is no difference in monthly tenure between seniors and non-seniors. \n",
    "- Given this, I won't explore senior status further as a driver of churn."
   ]
  },
  {
   "cell_type": "markdown",
   "metadata": {},
   "source": [
    "## Variable: Paperless Billing\n",
    "Are paperless billing customers leaving leaving us sooner or later than non-paperless billing customers on average? (And thus churning faster)\n",
    "<br>\n",
    "<br>\n",
    "H0: Monthly tenure of paperless billing customers = Monthly tenure of non-paperless billing customers\n",
    "<br>\n",
    "Ha: Monthly tenure of paperless billing customers != Monthly tenure of non-paperless billing customers"
   ]
  },
  {
   "cell_type": "code",
   "execution_count": null,
   "metadata": {},
   "outputs": [],
   "source": [
    "alpha = .05\n",
    "paperless_tenure = train[(train.paperless_billing == 1)].monthly_tenure\n",
    "nopaperless_tenure = train[(train.paperless_billing == 0)].monthly_tenure\n",
    "\n",
    "t, p = stats.ttest_ind(paperless_tenure, nopaperless_tenure, equal_var = False)\n",
    "\n",
    "print('alpha = .05')\n",
    "print(f'p: {p}')\n",
    "\n",
    "print('\\nSince p > alpha (.05), we fail to reject the null hypothesis. The monthly tenure of paperless billing customers is no different than the monthly tenure of non-paperless billing customers.')"
   ]
  },
  {
   "cell_type": "markdown",
   "metadata": {},
   "source": [
    "- Hypothesis test shows there is no difference in monthly tenure between paperless billing and non-paperless billing customers\n",
    "- Given this, I won't explore paperless billing further as a driver of churn."
   ]
  },
  {
   "cell_type": "markdown",
   "metadata": {},
   "source": [
    "## Overall Exploration Takeaways\n",
    "- Via plotting and hypothesis testing we made the following discoveries:\n",
    "    - Clients who have churned had larger monthly charges than those who have not churned\n",
    "    - Clients with partners and/or dependants stay with us longer than those without\n",
    "    - Clients who make automatic payments stay with us longer than those who make payments manually\n",
    "<br>\n",
    "<br>\n",
    "- All of this information suggest that our most reliable customers are price sensitive, people with families who greatly value the convenience of automatic payments.\n",
    "<br>\n",
    "<br>\n",
    "- These findings suggest that the following are strong drivers of churn:\n",
    "    - Large monthly charges (monthly_charges)\n",
    "    - No partner on account (partner)\n",
    "    - No dependents on account (dependents)\n",
    "    - Making payments manually (is_payment_automatic)"
   ]
  },
  {
   "cell_type": "markdown",
   "metadata": {},
   "source": [
    "# Modeling\n",
    "We use these variables that we believe strongly correlate with churn to create a model that will allow us to predict churn\n",
    "***"
   ]
  },
  {
   "cell_type": "markdown",
   "metadata": {},
   "source": [
    "## Baseline\n",
    "We'll now construct a baseline and gauge its accuracy to determine what accuracy an alternate model would need in order to be viable.\n",
    "***"
   ]
  },
  {
   "cell_type": "code",
   "execution_count": null,
   "metadata": {},
   "outputs": [],
   "source": [
    "# copying train DF since we're going to add a new column and we don't want to alter our train table just yet\n",
    "train_bl = train\n",
    "\n",
    "# adding \"baseline_prediction column\" that predicts no one will churn since not churning (0), is the most common value\n",
    "train_bl['baseline_prediction'] = 0\n",
    "\n",
    "train_bl.head()"
   ]
  },
  {
   "cell_type": "code",
   "execution_count": null,
   "metadata": {},
   "outputs": [],
   "source": [
    "# calculating accuracy of baseline model\n",
    "baseline_accuracy = (train_bl['baseline_prediction'] == train_bl['churn']).mean()\n",
    "\n",
    "print('Accuracy of baseline model is',round(baseline_accuracy,2)*100,'%')"
   ]
  },
  {
   "cell_type": "markdown",
   "metadata": {},
   "source": [
    "### Baseline Takeaways\n",
    "- Since we are not prioritizing the detection of false positives, false negatives, true positives, or true negatives and our main goal is to build a model that accurately predicts whether a customer will churn or not, we will be focusing on accuracy.\n",
    "- The baseline model's accuracy of 73% is the metric that our alternate models will need to surpass."
   ]
  },
  {
   "cell_type": "markdown",
   "metadata": {},
   "source": [
    "## Modeling (Training)\n",
    "In this phase we will create 3 models that will attempt to predict which customers churn in the train data set. Any models that surpass the baseline model's accuracy (73%) will be taken to the next phase, validation.\n",
    "***"
   ]
  },
  {
   "cell_type": "markdown",
   "metadata": {},
   "source": [
    "## Model 1"
   ]
  },
  {
   "cell_type": "markdown",
   "metadata": {},
   "source": [
    "__Name__: Model 1\n",
    "<br>\n",
    "<br>\n",
    "__Type__: K-Nearest Neighbor\n",
    "<br>\n",
    "<br>\n",
    "__Features__:\n",
    "- is_automatic_payment\n",
    "- dependents\n",
    "- partner\n",
    "- monthly_charges\n",
    "<br>\n",
    "\n",
    "__Hyper Parameters__:\n",
    "- n_neighbors = 3\n",
    "- weights = 'uniform'"
   ]
  },
  {
   "cell_type": "code",
   "execution_count": null,
   "metadata": {},
   "outputs": [],
   "source": [
    "# creating logistic regression object\n",
    "knn = KNeighborsClassifier(n_neighbors=5, weights = 'uniform')\n",
    "\n",
    "# creating DF with selected features for logistic regression model\n",
    "m1_X_train = train[['is_automatic_payment','dependents','partner','monthly_charges']]\n",
    "m1_y_train = train['churn']\n",
    "\n",
    "# fitting model to data\n",
    "knn.fit(m1_X_train, m1_y_train)\n",
    "\n",
    "# making predictions on x train\n",
    "m1_y_pred = pd.DataFrame(knn.predict(m1_X_train))\n",
    "\n",
    "# previewing predictions of model\n",
    "m1_y_pred.head()"
   ]
  },
  {
   "cell_type": "code",
   "execution_count": null,
   "metadata": {},
   "outputs": [],
   "source": [
    "print(classification_report(m1_y_train, m1_y_pred))\n",
    "\n",
    "print(\"Model 1's accuracy is 80%.\\n\")\n",
    "print('Baseline models accuracy surpassed by a fair margin (7%). This model will move to validation')"
   ]
  },
  {
   "cell_type": "markdown",
   "metadata": {},
   "source": [
    "## Model 2"
   ]
  },
  {
   "cell_type": "markdown",
   "metadata": {},
   "source": [
    "__Name__: Model 2\n",
    "<br>\n",
    "<br>\n",
    "__Type__: Decision Tree\n",
    "<br>\n",
    "<br>\n",
    "__Features__:\n",
    "- is_automatic_payment\n",
    "- monthly_charges\n",
    "<br>\n",
    "\n",
    "__Hyper Parameters__:\n",
    "- max depth = 2"
   ]
  },
  {
   "cell_type": "code",
   "execution_count": null,
   "metadata": {},
   "outputs": [],
   "source": [
    "# creating decision tree object\n",
    "m2_dtree = DecisionTreeClassifier(max_depth = 3, random_state=123)\n",
    "\n",
    "# creating DF with selected features for d tree\n",
    "m2_X_train = train[['is_automatic_payment','monthly_charges']]\n",
    "m2_y_train = train['churn']\n",
    "\n",
    "# fitting d tree to data\n",
    "m2_dtree.fit(m2_X_train, m2_y_train)\n",
    "\n",
    "# making predictions about churn on train data\n",
    "m2_y_pred = pd.DataFrame(m2_dtree.predict(m2_X_train))\n",
    "\n",
    "# previewing predictions\n",
    "m2_y_pred.head()"
   ]
  },
  {
   "cell_type": "code",
   "execution_count": null,
   "metadata": {},
   "outputs": [],
   "source": [
    "print(classification_report(m2_y_train, m2_y_pred))\n",
    "\n",
    "print(\"Model 2's accuracy is 73%.\\n\")\n",
    "print(\"Baseline models accuracy matched. This model won't move to validation if our other model surpasses the baseline.\")"
   ]
  },
  {
   "cell_type": "markdown",
   "metadata": {},
   "source": [
    "## Model 3"
   ]
  },
  {
   "cell_type": "markdown",
   "metadata": {},
   "source": [
    "__Name__: Model 3\n",
    "<br>\n",
    "<br>\n",
    "__Type__: Logistic Regression\n",
    "<br>\n",
    "<br>\n",
    "__Features__:\n",
    "- is_automatic_payment\n",
    "- dependents\n",
    "- partner\n",
    "- monthly_charges\n",
    "<br>\n",
    "\n",
    "\n",
    "__Hyper Parameters__:\n",
    "None\n",
    "\n",
    "__Note__: Changed model type to Logistic Regression from Decision Tree"
   ]
  },
  {
   "cell_type": "code",
   "execution_count": null,
   "metadata": {},
   "outputs": [],
   "source": [
    "# creating logistic regression object\n",
    "m3_logit = LogisticRegression(random_state=123)\n",
    "\n",
    "# creating DF with selected features for logistic regression model\n",
    "m3_X_train = train[['is_automatic_payment','dependents','partner','monthly_charges']]\n",
    "m3_y_train = train['churn']\n",
    "\n",
    "# fitting model to data\n",
    "m3_logit.fit(m3_X_train, m3_y_train)\n",
    "\n",
    "# making predictions on train dataset\n",
    "m3_y_pred = pd.DataFrame(m3_logit.predict(m3_X_train))\n",
    "\n",
    "# previewing predictions of model\n",
    "m3_y_pred.head()"
   ]
  },
  {
   "cell_type": "code",
   "execution_count": null,
   "metadata": {
    "scrolled": true
   },
   "outputs": [],
   "source": [
    "print(classification_report(m3_y_train, m3_y_pred))\n",
    "\n",
    "print('Model 3''s accuracy is 74%.\\n')\n",
    "print('Baseline models accuracy surpassed. This model may move to the validation.')"
   ]
  },
  {
   "cell_type": "markdown",
   "metadata": {},
   "source": [
    "### Modeling (Training) Takeaways\n",
    "- Baseline model accuracy: 73%\n",
    "<br>\n",
    "- Model 1 accuracy (training): 80%\n",
    "<br>\n",
    "- Model 2 accuracy (training): 73%\n",
    "<br>\n",
    "- Model 3 accuracy (training): 74%\n",
    "<br>\n",
    "<br>\n",
    "- Models 1 and 3 outperformed the baseline, they will be used in the validation phase to discern which is our overall best model."
   ]
  },
  {
   "cell_type": "markdown",
   "metadata": {},
   "source": [
    "## Modeling (Validation)\n",
    "We will now be applying our most promising models, models 2 and 3 to the validation dataset. This will give us an idea of how our models would perform on data they have not yet seen.\n",
    "***"
   ]
  },
  {
   "cell_type": "markdown",
   "metadata": {},
   "source": [
    "### Model 1 (K Nearest Neighbors)"
   ]
  },
  {
   "cell_type": "code",
   "execution_count": null,
   "metadata": {},
   "outputs": [],
   "source": [
    "# creating DF with selected features for logistic regression model\n",
    "m1_X_validate = validate[['is_automatic_payment','dependents','partner','monthly_charges']]\n",
    "m1_y_validate = validate['churn']\n",
    "\n",
    "# making predictions on x validate\n",
    "m1_y_pred_val = pd.DataFrame(knn.predict(m1_X_validate))\n",
    "\n",
    "# previewing predictions of model\n",
    "m1_y_pred.head()"
   ]
  },
  {
   "cell_type": "code",
   "execution_count": null,
   "metadata": {
    "scrolled": false
   },
   "outputs": [],
   "source": [
    "print(classification_report(m1_y_validate, m1_y_pred_val))\n",
    "\n",
    "print(\"Model 1's accuracy is 72%.\\n\")\n",
    "\n",
    "print('The accuracy of this model has dropped ~10% from the training dataset results.')\n",
    "print('This is a sign that the model may have been overtuned and despite its solid performance earlier, its not consistent with data it has not seen before.')"
   ]
  },
  {
   "cell_type": "markdown",
   "metadata": {},
   "source": [
    "### Model 3"
   ]
  },
  {
   "cell_type": "code",
   "execution_count": null,
   "metadata": {},
   "outputs": [],
   "source": [
    "# creating DF with selected features for logistic regression model\n",
    "m3_X_validate = validate[['is_automatic_payment','dependents','partner','monthly_charges']]\n",
    "m3_y_validate = validate['churn']\n",
    "\n",
    "# making predictions on validate dataset\n",
    "m3_y_pred_val = pd.DataFrame(m3_logit.predict(m3_X_validate))\n",
    "\n",
    "# previewing predictions of model\n",
    "m3_y_pred_val.head()"
   ]
  },
  {
   "cell_type": "code",
   "execution_count": null,
   "metadata": {},
   "outputs": [],
   "source": [
    "print(classification_report(m3_y_validate, m3_y_pred_val))\n",
    "\n",
    "print(\"Model 3's accuracy is 74%.\\n\")\n",
    "print(\"This is our best model. It has outperformed every other model thus far. Its ready for use on the test data set.\")"
   ]
  },
  {
   "cell_type": "markdown",
   "metadata": {},
   "source": [
    "### Modeling (Validation) Takeaways\n",
    "\n",
    "- Model 1 accuracy (validation): 71%\n",
    "<br>\n",
    "- Model 3 accuracy (validation): 74%\n",
    "<br>\n",
    "<br>\n",
    "- Our goal is to create a model that makes as accurate of predictions as possible, we deem model 3 to be our best model since it has the highest accuracy and is still outperforming our baseline model's accuracy."
   ]
  },
  {
   "cell_type": "markdown",
   "metadata": {},
   "source": [
    "## Test\n",
    "Our best model, model 3, will now applied to the test dataset. Its performance here will give us a solid idea of how it will perform on unseen data.\n",
    "***"
   ]
  },
  {
   "cell_type": "code",
   "execution_count": null,
   "metadata": {},
   "outputs": [],
   "source": [
    "# creating DF with selected features for logistic regression model\n",
    "m3_X_test = test[['is_automatic_payment','dependents','partner','monthly_charges']]\n",
    "m3_y_test = test['churn']\n",
    "\n",
    "# making predictions on test data set\n",
    "m3_y_pred_test = pd.DataFrame(m3_logit.predict(m3_X_test))\n",
    "\n",
    "# previewing predictions of model\n",
    "m3_y_pred_test.head()"
   ]
  },
  {
   "cell_type": "code",
   "execution_count": null,
   "metadata": {},
   "outputs": [],
   "source": [
    "print(classification_report(m3_y_test, m3_y_pred_test))\n",
    "\n",
    "print(\"Model 3's accuracy is 74%.\\n\")\n",
    "print(\"Success. Our model's accuracy has remained consistent on two sets of unseen data.\")\n",
    "print(\"Since it's accuracy is higher than that of the baseline model, we are confident that this model should be used instead of it.\")"
   ]
  },
  {
   "cell_type": "markdown",
   "metadata": {},
   "source": [
    "### Modeling (Test) Takeaways\n",
    "- Model 3 has proven to be the best model\n",
    "- We expect it to predict churn on unseen (out of sample) data with an accuracy of 74%"
   ]
  },
  {
   "cell_type": "markdown",
   "metadata": {},
   "source": [
    "# Predictions\n",
    "Now we'll take model and use it to make predictions on the entire original dataset that we have, observe its performance metrics and confusion matrix.\n",
    "***"
   ]
  },
  {
   "cell_type": "code",
   "execution_count": null,
   "metadata": {
    "scrolled": true
   },
   "outputs": [],
   "source": [
    "# recreating df before split via concat of all 3 split data sets\n",
    "modeling_dfs = [train, validate, test]\n",
    "rebuilt_prepped_df = pd.concat(modeling_dfs)\n",
    "\n",
    "# creating DF with selected features for logistic regression model\n",
    "m3_X_complete = rebuilt_prepped_df[['is_automatic_payment','dependents','partner','monthly_charges']]\n",
    "m3_y_complete = rebuilt_prepped_df['churn']\n",
    "\n",
    "# making predictions on x train\n",
    "m3_y_pred_complete = pd.DataFrame(m3_logit.predict(m3_X_complete))\n",
    "\n",
    "# writing model 3 prediction, probability of churn, and customer IDs to csv\n",
    "m3_y_pred_prob = pd.DataFrame(m3_logit.predict_proba(m3_X_complete))\n",
    "m3_y_pred_prob = m3_y_pred_prob.drop(0, axis=1)\n",
    "m3_y_pred_prob['customer_id'] = rebuilt_prepped_df.customer_id\n",
    "m3_y_pred_prob['model_3_prediction'] = m3_y_pred_complete\n",
    "m3_y_pred_prob.rename(columns={1:'probability_of_churn'}, inplace=True)\n",
    "m3_y_pred_prob = m3_y_pred_prob[['customer_id', 'probability_of_churn', 'model_3_prediction']]\n",
    "m3_y_pred_prob.to_csv('predictions.csv')\n",
    "\n",
    "# creating DF that holds predictions for churn in complete dataset\n",
    "rebuilt_prepped_df['model_3_predictions'] = m3_y_pred_complete\n",
    "rebuilt_prepped_df.head()"
   ]
  },
  {
   "cell_type": "code",
   "execution_count": null,
   "metadata": {},
   "outputs": [],
   "source": [
    "# printing classification report to see statistics of model performance\n",
    "print(classification_report(m3_y_complete, m3_y_pred_complete))\n",
    "print('Model 3 still maintaining 74% accuracy while predicting churn in the entire original data frame.')"
   ]
  },
  {
   "cell_type": "code",
   "execution_count": null,
   "metadata": {},
   "outputs": [],
   "source": [
    "# creating confusion matrix of all actual churned customers vs all predicted churned customers\n",
    "model_3_cmatrix = pd.DataFrame(confusion_matrix(m3_y_complete, m3_y_pred_complete))\n",
    "\n",
    "model_3_cmatrix.columns = [\"Predict_No_Churn\", \"Predict_Churn\"]\n",
    "model_3_cmatrix.index = [\"Actual_No_Churn\", \"Acutal_Churn\"]\n",
    "\n",
    "model_3_cmatrix"
   ]
  },
  {
   "cell_type": "code",
   "execution_count": null,
   "metadata": {},
   "outputs": [],
   "source": [
    "# Showing sample confusion matrix for reference\n",
    "d = pd.DataFrame()\n",
    "d[\"Predict_No_Churn\"] = ['True Negative', 'False Negative']\n",
    "d['Predict_Churn'] = ['False Positive', 'True Postive']\n",
    "d.index = ['Actual_No_Churn', \"Actual_Churn\"]\n",
    "d"
   ]
  },
  {
   "cell_type": "code",
   "execution_count": null,
   "metadata": {},
   "outputs": [],
   "source": [
    "# setting variables for true pos, true negative, false pos, false neg\n",
    "tn, fp, fn, tp = confusion_matrix(m3_y_complete, m3_y_pred_complete).ravel()\n",
    "\n",
    "print('Model 3 Metrics\\n')\n",
    "# calculating accuracy\n",
    "accuracy = (tp + tn) / (tp + tn + fp + fn)\n",
    "# displaying results\n",
    "print('Accuracy:', round(accuracy,2),'\\n') # overall accuracy, positive and negative predictions\n",
    "\n",
    "# calculating recall\n",
    "recall = tp / (tp + fn)\n",
    "# displaying results\n",
    "print('Recall:',round(recall,2),'\\n') # aka true positive rate aka sensitivity\n",
    "\n",
    "# calculating specificity\n",
    "specificity = tn / (tn + fp) \n",
    "# displaying results\n",
    "print('Specificity:',round(specificity,2),'\\n') # aka true negative rate\n",
    "\n",
    "# calculating precision\n",
    "precision = tp / (tp + fp)\n",
    "# displaying results\n",
    "print('Precision:',round(precision,2),'\\n')\n",
    "\n",
    "# calculating f score\n",
    "f1 = f1_score(m3_y_complete, m3_y_pred_complete)\n",
    "# displaying results\n",
    "print('F1 score:',round(f1,2),) # the mean of precision and recall"
   ]
  },
  {
   "cell_type": "markdown",
   "metadata": {},
   "source": [
    "### Prediction Takeaways\n",
    "- Model 3's performance metrics on overall data\n",
    "    - Accuracy: 74%\n",
    "    - Recall: 20%\n",
    "        - Has trouble predicting churn when a customer actually will churn\n",
    "    - Specificity: 93%\n",
    "        - Is very good a predicting no churn in cases where a customer doesn't churn\n",
    "    - Precision: 52%\n",
    "        - Roughly half the time that the model predicts a positive, it is correct\n",
    "    - F1 Score: 29%\n",
    "        - Score reflects balance of recall and precision while leaning towards the lower of the two. Our best method to improve this is by improving our weaker metric, recall. "
   ]
  },
  {
   "cell_type": "markdown",
   "metadata": {},
   "source": [
    "# Conclusion\n",
    "We'll now summarize what we learned from analysis and modeling, make recommendations, discuss what to do next, and summarize our model.\n",
    "***\n",
    "- Exploration uncovered that some of the strongest drivers of churn include:\n",
    "    - Dependents\n",
    "    - Partners\n",
    "    - Automatic vs Manual Payments\n",
    "    - Monthly Charges\n",
    "    \n",
    "- All of this information suggest that our most reliable customers are price sensitive, people with families who greatly value the convenience of automatic payments.\n",
    "\n",
    "- Recommendations to reduce churn:\n",
    "    - Lower monthly charges because our customers appear to be price sensitive\n",
    "    - Offer promotions that encourage clients to add partners and dependents to account. Once signed up, switching multiple people to a competitor becomes a barrier to exit and increases tenure.\n",
    "    - Invest in marketing that promotes the use of automatic payments because our clients will leave us for our competitors if they don't feel our services meet their convenience needs.\n",
    "\n",
    "- We created a model that identifies these variables and uses logistic regression to make predictions about churn.\n",
    "    - The model maintained an accuracy of roughly 74% on both in and out of sample data\n",
    "    - We expect it to perform with same accuracy on more unseen data in the future\n",
    "    - If our churn rate increases in the future, the model will become less accurate as it's recall metric is low so it tends to predict incorrectly when a customer churns.\n",
    "    \n",
    "- In the near future I would like to use what we learned from this project to build a new, more refined model that will improve it's ability to predict when a customer is churning, when they actually are (ie. improved recall) as this is our current model's largest area of opportunity."
   ]
  }
 ],
 "metadata": {
  "kernelspec": {
   "display_name": "Python 3",
   "language": "python",
   "name": "python3"
  },
  "language_info": {
   "codemirror_mode": {
    "name": "ipython",
    "version": 3
   },
   "file_extension": ".py",
   "mimetype": "text/x-python",
   "name": "python",
   "nbconvert_exporter": "python",
   "pygments_lexer": "ipython3",
   "version": "3.7.6"
  }
 },
 "nbformat": 4,
 "nbformat_minor": 4
}
