{
 "cells": [
  {
   "cell_type": "markdown",
   "metadata": {},
   "source": [
    "# Identifying the Drivers of Churn at Telco\n",
    "***\n",
    "***\n",
    "# Goals\n",
    "***"
   ]
  },
  {
   "cell_type": "markdown",
   "metadata": {},
   "source": [
    "My goals for this project are as follows\n",
    "- Create a model that will acurrately predict customer churn using the customer data provided\n",
    "- Deliver a presentation that summarizes this project\n",
    "\n",
    "A link to the presentation slides can be found below.\n",
    "\n",
    "https://docs.google.com/presentation/d/1fI64dzhV6jX33lD-tAv9IEc0MOXx1_ilWL54OKl9aRQ/edit?usp=sharing"
   ]
  },
  {
   "cell_type": "markdown",
   "metadata": {},
   "source": [
    "# Setup\n",
    "***"
   ]
  },
  {
   "cell_type": "code",
   "execution_count": 3,
   "metadata": {},
   "outputs": [],
   "source": [
    "# preparing environment\n",
    "import pandas as pd\n",
    "import numpy as np\n",
    "import scipy.stats as stats\n",
    "import matplotlib.pyplot as plt\n",
    "import seaborn as sns\n",
    "\n",
    "#import acquire as ac\n",
    "from acquire import get_telco_data\n",
    "from prepare import prepare_telco\n",
    "\n",
    "from sklearn.model_selection import train_test_split\n",
    "from sklearn.metrics import classification_report, confusion_matrix\n",
    "from sklearn.linear_model import LogisticRegression\n",
    "from sklearn.tree import DecisionTreeClassifier\n",
    "from sklearn.tree import export_graphviz\n",
    "from sklearn.ensemble import RandomForestClassifier\n",
    "from sklearn.neighbors import KNeighborsClassifier\n",
    "from sklearn.metrics import f1_score"
   ]
  },
  {
   "cell_type": "markdown",
   "metadata": {},
   "source": [
    "\n",
    "# Acquire\n",
    "Acquire data from the customers table from the telco_churn database on the codeup data science database server.\n",
    "***"
   ]
  },
  {
   "cell_type": "code",
   "execution_count": 4,
   "metadata": {
    "scrolled": true
   },
   "outputs": [
    {
     "data": {
      "text/html": [
       "<div>\n",
       "<style scoped>\n",
       "    .dataframe tbody tr th:only-of-type {\n",
       "        vertical-align: middle;\n",
       "    }\n",
       "\n",
       "    .dataframe tbody tr th {\n",
       "        vertical-align: top;\n",
       "    }\n",
       "\n",
       "    .dataframe thead th {\n",
       "        text-align: right;\n",
       "    }\n",
       "</style>\n",
       "<table border=\"1\" class=\"dataframe\">\n",
       "  <thead>\n",
       "    <tr style=\"text-align: right;\">\n",
       "      <th></th>\n",
       "      <th>customer_id</th>\n",
       "      <th>gender</th>\n",
       "      <th>senior_citizen</th>\n",
       "      <th>partner</th>\n",
       "      <th>dependents</th>\n",
       "      <th>tenure</th>\n",
       "      <th>phone_service</th>\n",
       "      <th>multiple_lines</th>\n",
       "      <th>internet_service_type_id</th>\n",
       "      <th>online_security</th>\n",
       "      <th>...</th>\n",
       "      <th>device_protection</th>\n",
       "      <th>tech_support</th>\n",
       "      <th>streaming_tv</th>\n",
       "      <th>streaming_movies</th>\n",
       "      <th>contract_type_id</th>\n",
       "      <th>paperless_billing</th>\n",
       "      <th>payment_type_id</th>\n",
       "      <th>monthly_charges</th>\n",
       "      <th>total_charges</th>\n",
       "      <th>churn</th>\n",
       "    </tr>\n",
       "  </thead>\n",
       "  <tbody>\n",
       "    <tr>\n",
       "      <th>0</th>\n",
       "      <td>0002-ORFBO</td>\n",
       "      <td>Female</td>\n",
       "      <td>0</td>\n",
       "      <td>Yes</td>\n",
       "      <td>Yes</td>\n",
       "      <td>9</td>\n",
       "      <td>Yes</td>\n",
       "      <td>No</td>\n",
       "      <td>1</td>\n",
       "      <td>No</td>\n",
       "      <td>...</td>\n",
       "      <td>No</td>\n",
       "      <td>Yes</td>\n",
       "      <td>Yes</td>\n",
       "      <td>No</td>\n",
       "      <td>2</td>\n",
       "      <td>Yes</td>\n",
       "      <td>2</td>\n",
       "      <td>65.6</td>\n",
       "      <td>593.3</td>\n",
       "      <td>No</td>\n",
       "    </tr>\n",
       "    <tr>\n",
       "      <th>1</th>\n",
       "      <td>0003-MKNFE</td>\n",
       "      <td>Male</td>\n",
       "      <td>0</td>\n",
       "      <td>No</td>\n",
       "      <td>No</td>\n",
       "      <td>9</td>\n",
       "      <td>Yes</td>\n",
       "      <td>Yes</td>\n",
       "      <td>1</td>\n",
       "      <td>No</td>\n",
       "      <td>...</td>\n",
       "      <td>No</td>\n",
       "      <td>No</td>\n",
       "      <td>No</td>\n",
       "      <td>Yes</td>\n",
       "      <td>1</td>\n",
       "      <td>No</td>\n",
       "      <td>2</td>\n",
       "      <td>59.9</td>\n",
       "      <td>542.4</td>\n",
       "      <td>No</td>\n",
       "    </tr>\n",
       "    <tr>\n",
       "      <th>2</th>\n",
       "      <td>0004-TLHLJ</td>\n",
       "      <td>Male</td>\n",
       "      <td>0</td>\n",
       "      <td>No</td>\n",
       "      <td>No</td>\n",
       "      <td>4</td>\n",
       "      <td>Yes</td>\n",
       "      <td>No</td>\n",
       "      <td>2</td>\n",
       "      <td>No</td>\n",
       "      <td>...</td>\n",
       "      <td>Yes</td>\n",
       "      <td>No</td>\n",
       "      <td>No</td>\n",
       "      <td>No</td>\n",
       "      <td>1</td>\n",
       "      <td>Yes</td>\n",
       "      <td>1</td>\n",
       "      <td>73.9</td>\n",
       "      <td>280.85</td>\n",
       "      <td>Yes</td>\n",
       "    </tr>\n",
       "  </tbody>\n",
       "</table>\n",
       "<p>3 rows × 21 columns</p>\n",
       "</div>"
      ],
      "text/plain": [
       "  customer_id  gender  senior_citizen partner dependents  tenure  \\\n",
       "0  0002-ORFBO  Female               0     Yes        Yes       9   \n",
       "1  0003-MKNFE    Male               0      No         No       9   \n",
       "2  0004-TLHLJ    Male               0      No         No       4   \n",
       "\n",
       "  phone_service multiple_lines  internet_service_type_id online_security  ...  \\\n",
       "0           Yes             No                         1              No  ...   \n",
       "1           Yes            Yes                         1              No  ...   \n",
       "2           Yes             No                         2              No  ...   \n",
       "\n",
       "  device_protection tech_support streaming_tv streaming_movies  \\\n",
       "0                No          Yes          Yes               No   \n",
       "1                No           No           No              Yes   \n",
       "2               Yes           No           No               No   \n",
       "\n",
       "  contract_type_id  paperless_billing payment_type_id  monthly_charges  \\\n",
       "0                2                Yes               2             65.6   \n",
       "1                1                 No               2             59.9   \n",
       "2                1                Yes               1             73.9   \n",
       "\n",
       "   total_charges churn  \n",
       "0          593.3    No  \n",
       "1          542.4    No  \n",
       "2         280.85   Yes  \n",
       "\n",
       "[3 rows x 21 columns]"
      ]
     },
     "execution_count": 4,
     "metadata": {},
     "output_type": "execute_result"
    }
   ],
   "source": [
    "# display data frame\n",
    "df = get_telco_data()\n",
    "\n",
    "df.head(3)"
   ]
  },
  {
   "cell_type": "markdown",
   "metadata": {},
   "source": [
    "# Prepare\n",
    "Prepare, tidy, and clean the data so it can be explored and analyzed\n",
    "***"
   ]
  },
  {
   "cell_type": "markdown",
   "metadata": {},
   "source": [
    "### Checking column names, data types, and null counts"
   ]
  },
  {
   "cell_type": "code",
   "execution_count": 5,
   "metadata": {
    "scrolled": true
   },
   "outputs": [
    {
     "name": "stdout",
     "output_type": "stream",
     "text": [
      "<class 'pandas.core.frame.DataFrame'>\n",
      "RangeIndex: 7043 entries, 0 to 7042\n",
      "Data columns (total 21 columns):\n",
      " #   Column                    Non-Null Count  Dtype  \n",
      "---  ------                    --------------  -----  \n",
      " 0   customer_id               7043 non-null   object \n",
      " 1   gender                    7043 non-null   object \n",
      " 2   senior_citizen            7043 non-null   int64  \n",
      " 3   partner                   7043 non-null   object \n",
      " 4   dependents                7043 non-null   object \n",
      " 5   tenure                    7043 non-null   int64  \n",
      " 6   phone_service             7043 non-null   object \n",
      " 7   multiple_lines            7043 non-null   object \n",
      " 8   internet_service_type_id  7043 non-null   int64  \n",
      " 9   online_security           7043 non-null   object \n",
      " 10  online_backup             7043 non-null   object \n",
      " 11  device_protection         7043 non-null   object \n",
      " 12  tech_support              7043 non-null   object \n",
      " 13  streaming_tv              7043 non-null   object \n",
      " 14  streaming_movies          7043 non-null   object \n",
      " 15  contract_type_id          7043 non-null   int64  \n",
      " 16  paperless_billing         7043 non-null   object \n",
      " 17  payment_type_id           7043 non-null   int64  \n",
      " 18  monthly_charges           7043 non-null   float64\n",
      " 19  total_charges             7043 non-null   object \n",
      " 20  churn                     7043 non-null   object \n",
      "dtypes: float64(1), int64(5), object(15)\n",
      "memory usage: 1.1+ MB\n"
     ]
    }
   ],
   "source": [
    "df.info()"
   ]
  },
  {
   "cell_type": "markdown",
   "metadata": {},
   "source": [
    "- Categorical object variables such as gender, churn and dependents may need to be converted to 0s and 1s\n",
    "- No missing values\n",
    "    - Values with only white space may exist however\n",
    "- Rename tenure to reflect unit of measurement\n",
    "- Convert total_charges to float"
   ]
  },
  {
   "cell_type": "code",
   "execution_count": 5,
   "metadata": {
    "scrolled": false
   },
   "outputs": [
    {
     "name": "stdout",
     "output_type": "stream",
     "text": [
      "Male      3555\n",
      "Female    3488\n",
      "Name: gender, dtype: int64\n",
      "0    5901\n",
      "1    1142\n",
      "Name: senior_citizen, dtype: int64\n",
      "No     3641\n",
      "Yes    3402\n",
      "Name: partner, dtype: int64\n",
      "No     4933\n",
      "Yes    2110\n",
      "Name: dependents, dtype: int64\n",
      "Yes    6361\n",
      "No      682\n",
      "Name: phone_service, dtype: int64\n",
      "No                  3390\n",
      "Yes                 2971\n",
      "No phone service     682\n",
      "Name: multiple_lines, dtype: int64\n",
      "2    3096\n",
      "1    2421\n",
      "3    1526\n",
      "Name: internet_service_type_id, dtype: int64\n",
      "No                     3498\n",
      "Yes                    2019\n",
      "No internet service    1526\n",
      "Name: online_security, dtype: int64\n",
      "No                     3088\n",
      "Yes                    2429\n",
      "No internet service    1526\n",
      "Name: online_backup, dtype: int64\n",
      "No                     3095\n",
      "Yes                    2422\n",
      "No internet service    1526\n",
      "Name: device_protection, dtype: int64\n",
      "No                     3473\n",
      "Yes                    2044\n",
      "No internet service    1526\n",
      "Name: tech_support, dtype: int64\n",
      "No                     2810\n",
      "Yes                    2707\n",
      "No internet service    1526\n",
      "Name: streaming_tv, dtype: int64\n",
      "No                     2785\n",
      "Yes                    2732\n",
      "No internet service    1526\n",
      "Name: streaming_movies, dtype: int64\n",
      "1    3875\n",
      "3    1695\n",
      "2    1473\n",
      "Name: contract_type_id, dtype: int64\n",
      "Yes    4171\n",
      "No     2872\n",
      "Name: paperless_billing, dtype: int64\n",
      "1    2365\n",
      "2    1612\n",
      "3    1544\n",
      "4    1522\n",
      "Name: payment_type_id, dtype: int64\n",
      "No     5174\n",
      "Yes    1869\n",
      "Name: churn, dtype: int64\n"
     ]
    }
   ],
   "source": [
    "# displaying unique values per column to identify categorical variables\n",
    "for col in df:\n",
    "    if col != 'customer_id' and col != 'total_charges' and col != 'monthly_charges' and col != 'tenure':\n",
    "        print(df[col].value_counts())"
   ]
  },
  {
   "cell_type": "markdown",
   "metadata": {},
   "source": [
    "- convert columns with 2 values to 0s and 1s\n",
    "- \"no x service\" values can be converted to \"No\" (soon to be 0)"
   ]
  },
  {
   "cell_type": "markdown",
   "metadata": {},
   "source": [
    "### Preparing data with changes outlined in \"prepare takeaways\" section below using prepare_teclo function from prepare.py"
   ]
  },
  {
   "cell_type": "code",
   "execution_count": 7,
   "metadata": {},
   "outputs": [],
   "source": [
    "train, validate, test = prepare_telco(df)"
   ]
  },
  {
   "cell_type": "markdown",
   "metadata": {},
   "source": [
    "### Prepare Takeaways"
   ]
  },
  {
   "cell_type": "markdown",
   "metadata": {},
   "source": [
    "- converted object columns with binary values to 0s and 1s\n",
    "- renamed gender column to female (female = 1)\n",
    "- renamed tenure to tenure_months\n",
    "- added column for tenure years\n",
    "- removed duplicates\n",
    "- converted total_charges to float\n",
    "- no null values found\n",
    "- 11 white space values in total_charges filed with 0 since client has not been charged yet\n",
    "- split into train, validate, test"
   ]
  },
  {
   "cell_type": "markdown",
   "metadata": {},
   "source": [
    "# Explore\n",
    "I'll begin exploring the prepped data to identify drivers of churn and relationships between variables.\n",
    "***"
   ]
  },
  {
   "cell_type": "code",
   "execution_count": 6,
   "metadata": {
    "scrolled": true
   },
   "outputs": [
    {
     "data": {
      "text/html": [
       "<div>\n",
       "<style scoped>\n",
       "    .dataframe tbody tr th:only-of-type {\n",
       "        vertical-align: middle;\n",
       "    }\n",
       "\n",
       "    .dataframe tbody tr th {\n",
       "        vertical-align: top;\n",
       "    }\n",
       "\n",
       "    .dataframe thead th {\n",
       "        text-align: right;\n",
       "    }\n",
       "</style>\n",
       "<table border=\"1\" class=\"dataframe\">\n",
       "  <thead>\n",
       "    <tr style=\"text-align: right;\">\n",
       "      <th></th>\n",
       "      <th>count</th>\n",
       "      <th>mean</th>\n",
       "      <th>std</th>\n",
       "      <th>min</th>\n",
       "      <th>25%</th>\n",
       "      <th>50%</th>\n",
       "      <th>75%</th>\n",
       "      <th>max</th>\n",
       "    </tr>\n",
       "  </thead>\n",
       "  <tbody>\n",
       "    <tr>\n",
       "      <th>senior_citizen</th>\n",
       "      <td>7043.0</td>\n",
       "      <td>0.162147</td>\n",
       "      <td>0.368612</td>\n",
       "      <td>0.00</td>\n",
       "      <td>0.0</td>\n",
       "      <td>0.00</td>\n",
       "      <td>0.00</td>\n",
       "      <td>1.00</td>\n",
       "    </tr>\n",
       "    <tr>\n",
       "      <th>tenure</th>\n",
       "      <td>7043.0</td>\n",
       "      <td>32.371149</td>\n",
       "      <td>24.559481</td>\n",
       "      <td>0.00</td>\n",
       "      <td>9.0</td>\n",
       "      <td>29.00</td>\n",
       "      <td>55.00</td>\n",
       "      <td>72.00</td>\n",
       "    </tr>\n",
       "    <tr>\n",
       "      <th>internet_service_type_id</th>\n",
       "      <td>7043.0</td>\n",
       "      <td>1.872923</td>\n",
       "      <td>0.737796</td>\n",
       "      <td>1.00</td>\n",
       "      <td>1.0</td>\n",
       "      <td>2.00</td>\n",
       "      <td>2.00</td>\n",
       "      <td>3.00</td>\n",
       "    </tr>\n",
       "    <tr>\n",
       "      <th>contract_type_id</th>\n",
       "      <td>7043.0</td>\n",
       "      <td>1.690473</td>\n",
       "      <td>0.833755</td>\n",
       "      <td>1.00</td>\n",
       "      <td>1.0</td>\n",
       "      <td>1.00</td>\n",
       "      <td>2.00</td>\n",
       "      <td>3.00</td>\n",
       "    </tr>\n",
       "    <tr>\n",
       "      <th>payment_type_id</th>\n",
       "      <td>7043.0</td>\n",
       "      <td>2.315633</td>\n",
       "      <td>1.148907</td>\n",
       "      <td>1.00</td>\n",
       "      <td>1.0</td>\n",
       "      <td>2.00</td>\n",
       "      <td>3.00</td>\n",
       "      <td>4.00</td>\n",
       "    </tr>\n",
       "    <tr>\n",
       "      <th>monthly_charges</th>\n",
       "      <td>7043.0</td>\n",
       "      <td>64.761692</td>\n",
       "      <td>30.090047</td>\n",
       "      <td>18.25</td>\n",
       "      <td>35.5</td>\n",
       "      <td>70.35</td>\n",
       "      <td>89.85</td>\n",
       "      <td>118.75</td>\n",
       "    </tr>\n",
       "  </tbody>\n",
       "</table>\n",
       "</div>"
      ],
      "text/plain": [
       "                           count       mean        std    min   25%    50%  \\\n",
       "senior_citizen            7043.0   0.162147   0.368612   0.00   0.0   0.00   \n",
       "tenure                    7043.0  32.371149  24.559481   0.00   9.0  29.00   \n",
       "internet_service_type_id  7043.0   1.872923   0.737796   1.00   1.0   2.00   \n",
       "contract_type_id          7043.0   1.690473   0.833755   1.00   1.0   1.00   \n",
       "payment_type_id           7043.0   2.315633   1.148907   1.00   1.0   2.00   \n",
       "monthly_charges           7043.0  64.761692  30.090047  18.25  35.5  70.35   \n",
       "\n",
       "                            75%     max  \n",
       "senior_citizen             0.00    1.00  \n",
       "tenure                    55.00   72.00  \n",
       "internet_service_type_id   2.00    3.00  \n",
       "contract_type_id           2.00    3.00  \n",
       "payment_type_id            3.00    4.00  \n",
       "monthly_charges           89.85  118.75  "
      ]
     },
     "execution_count": 6,
     "metadata": {},
     "output_type": "execute_result"
    }
   ],
   "source": [
    "# displaying various values for numerical columns (average, quartiles, min, max, etc)\n",
    "# this allows us to get a rough idea of the values within the columns\n",
    "df.describe().T"
   ]
  },
  {
   "cell_type": "markdown",
   "metadata": {},
   "source": [
    "- Senior_citizen: seniors are a minority\n",
    "- Tenure: 72 month max means there are no records older than 6 years\n",
    "- Type_ids for internet_service, contract, and paymenta are already numerical so no need to convert\n",
    "- Monthly_charges: the average monthly payment is 64.76"
   ]
  },
  {
   "cell_type": "code",
   "execution_count": 8,
   "metadata": {},
   "outputs": [
    {
     "data": {
      "text/plain": [
       "<matplotlib.axes._subplots.AxesSubplot at 0x7fe4cab522d0>"
      ]
     },
     "execution_count": 8,
     "metadata": {},
     "output_type": "execute_result"
    },
    {
     "data": {
      "image/png": "[encoded data removed]",
      "text/plain": [
       "<Figure size 936x792 with 2 Axes>"
      ]
     },
     "metadata": {
      "needs_background": "light"
     },
     "output_type": "display_data"
    }
   ],
   "source": [
    "# creating a heatmap that will show the correlation of the variables to one another\n",
    "# specifically, I'm interested in the correlation between churn and each other variable\n",
    "corr = train.corr()\n",
    "mask = np.triu(np.ones_like(corr, dtype=bool))\n",
    "f, ax = plt.subplots(figsize=(13, 11))\n",
    "cmap = sns.diverging_palette(230, 20, as_cmap=True)\n",
    "sns.heatmap(corr, mask=mask, cmap=cmap, vmax=.3, center=0, square=True, linewidths=.5, cbar_kws={\"shrink\": .5})"
   ]
  },
  {
   "cell_type": "markdown",
   "metadata": {},
   "source": [
    "These variables show strong connections to churn but I won't explore them for various reasons\n",
    "- contract_type_id\n",
    "    - Can't change per project specifications\n",
    "- monthly_tenure / tenure_years\n",
    "    - Increase as churn lowers but we can only influence it by convincing clients to stay via other variables\n",
    "- total_charges\n",
    "    - Builds up over time the longer a customer has been with us. Not something we can control directly.\n",
    "    \n",
    "The variables that I'll be exploring further because they appear to have strong correlations with churn are\n",
    "- senior citizen\n",
    "- partner\n",
    "- dependents\n",
    "- paperless_billing\n",
    "- is_automatic_payment\n",
    "- monthly_charges"
   ]
  },
  {
   "cell_type": "markdown",
   "metadata": {},
   "source": [
    "## Exploring Individual Variables\n",
    "Note: For all hypothesis tests, all assumptions were met. In cases of differing variance, the equal_var argument was set to \"false\".\n",
    "***"
   ]
  },
  {
   "cell_type": "markdown",
   "metadata": {},
   "source": [
    "## Variable: Monthly_Charges\n",
    "Clients may be cost sensitive and as a result, they may be leaving Telco in order to save money by paying less to a competitor."
   ]
  },
  {
   "cell_type": "markdown",
   "metadata": {},
   "source": [
    "### Monthly_charge (Plot)"
   ]
  },
  {
   "cell_type": "markdown",
   "metadata": {},
   "source": [
    "Plotting to see if a majority of clients who have churned have also had high monthly charges. "
   ]
  },
  {
   "cell_type": "code",
   "execution_count": 9,
   "metadata": {
    "scrolled": false
   },
   "outputs": [
    {
     "data": {
      "text/plain": [
       "Text(0.5, 1.0, 'Non-Churned Clients')"
      ]
     },
     "execution_count": 9,
     "metadata": {},
     "output_type": "execute_result"
    },
    {
     "data": {
      "image/png": "[encoded data removed]",
      "text/plain": [
       "<Figure size 1008x864 with 2 Axes>"
      ]
     },
     "metadata": {
      "needs_background": "light"
     },
     "output_type": "display_data"
    }
   ],
   "source": [
    "# setting figure size\n",
    "plt.figure(figsize=(14,12))\n",
    "\n",
    "# plotting churned customer monthly charges data\n",
    "plt.subplot(221)\n",
    "churn_vs_monthly_charges = train[train.churn == 1].monthly_charges\n",
    "churn_vs_monthly_charges.hist(color='orange')\n",
    "plt.xlabel('monthly_charge', fontsize = 20)\n",
    "plt.ylabel('# of clients', fontsize = 20)\n",
    "plt.title('Churned Clients', fontsize = 20)\n",
    "\n",
    "# plotting non-churned customer monthly charges data\n",
    "plt.subplot(222)\n",
    "churn_vs_monthly_charges = train[train.churn == 0].monthly_charges\n",
    "churn_vs_monthly_charges.hist(color = 'green')\n",
    "plt.xlabel('monthly_charge', fontsize = 20)\n",
    "plt.ylabel('# of clients', fontsize = 20)\n",
    "plt.title('Non-Churned Clients', fontsize = 20)"
   ]
  },
  {
   "cell_type": "markdown",
   "metadata": {},
   "source": [
    "- It appears that clients who have churned payed more per month that clients who have not churned."
   ]
  },
  {
   "cell_type": "markdown",
   "metadata": {},
   "source": [
    "### Monthly_charge (Hypothesis Test)\n",
    "Running a one-tailed, two-sample t-test to further explore this variable."
   ]
  },
  {
   "cell_type": "markdown",
   "metadata": {},
   "source": [
    "__Idea:__ I believe churned clients have had higher monthly charges on average than clients who have not churned\n",
    "<br>\n",
    "__H0:__ Churned customer average monthly_charges <=  Non-Churned customer average monthly_charges\n",
    "<br>\n",
    "__Ha:__ Churned customer average monthly_charges >  Non-Churned customer average monthly_charges"
   ]
  },
  {
   "cell_type": "code",
   "execution_count": 14,
   "metadata": {},
   "outputs": [
    {
     "name": "stdout",
     "output_type": "stream",
     "text": [
      "t =  13.714038979262032 \n",
      "\n",
      "p =  1.6002099781261748e-41 \n",
      "\n",
      "t > 0 and p < alpha so I reject the null hypothesis.\n",
      "\n",
      "The sign of the t value (negative or positive) matters since this is a \"greater than\" test\n"
     ]
    }
   ],
   "source": [
    "# Running a one-tailed, two-sample t-test\n",
    "\n",
    "# setting alpha\n",
    "test_1_alpha = .05\n",
    "\n",
    "# creating DFs for churned and non-churned monthly charges\n",
    "churn_monthly_charge = train[(train.churn == 1)].monthly_charges\n",
    "no_churn_monthly_charge = train[(train.churn == 0)].monthly_charges\n",
    "\n",
    "# running test\n",
    "t_1, p_1 = stats.ttest_ind(churn_monthly_charge, no_churn_monthly_charge, equal_var = False)\n",
    "\n",
    "# printing results\n",
    "print('t = ',t_1,'\\n')\n",
    "print('p = ',p_1/2,'\\n')\n",
    "\n",
    "if p_1/2 > test_1_alpha:\n",
    "    print('We fail to reject H0, there is no difference in monthly charges between churned and non-churned clients')\n",
    "elif t_1 < 0:\n",
    "    print('We fail to reject H0, there is no difference in monthly charges between churned and non-churned clients')\n",
    "else:\n",
    "    print('t > 0 and p < alpha so I reject the null hypothesis.\\n')\n",
    "    print('The sign of the t value (negative or positive) matters since this is a \"greater than\" test.')"
   ]
  },
  {
   "cell_type": "markdown",
   "metadata": {},
   "source": [
    "###  Monthly Charges Takeaways\n",
    "- Plot showed that churned clients were paying more per month than non-churned customers on average.\n",
    "    - Hypothesis test reinforced this finding\n",
    "- This could mean that many of our customers are price sensitive and as a result, high monthly charges were at least a moderate factor in the decision to leave."
   ]
  },
  {
   "cell_type": "markdown",
   "metadata": {},
   "source": [
    "## Variable: Partner\n",
    "Partners being on an account together can create an exit barrier for clients because they prefer to be on an account with their partner and don't want to have to both go through the process of signing up for a new service. \n",
    "***"
   ]
  },
  {
   "cell_type": "markdown",
   "metadata": {},
   "source": [
    "### Partner (Plot)"
   ]
  },
  {
   "cell_type": "markdown",
   "metadata": {},
   "source": [
    "Plotting to see if clients who have a partner on their account are retained longer than clients without partners."
   ]
  },
  {
   "cell_type": "code",
   "execution_count": 11,
   "metadata": {
    "scrolled": false
   },
   "outputs": [
    {
     "data": {
      "text/plain": [
       "Text(0.5, 1.0, 'Clients w/o Partner')"
      ]
     },
     "execution_count": 11,
     "metadata": {},
     "output_type": "execute_result"
    },
    {
     "data": {
      "image/png": "[encoded data removed]",
      "text/plain": [
       "<Figure size 1008x864 with 2 Axes>"
      ]
     },
     "metadata": {
      "needs_background": "light"
     },
     "output_type": "display_data"
    }
   ],
   "source": [
    "# setting figure size\n",
    "plt.figure(figsize=(14,12))\n",
    "\n",
    "# creating plot of clients w/partner monthly tenure\n",
    "plt.subplot(221)\n",
    "partner_tenure = (train[train.partner == 1].monthly_tenure)\n",
    "partner_tenure.hist(color = 'purple')\n",
    "plt.xlabel('monthly_tenure', fontsize = 20)\n",
    "plt.ylabel('# of clients', fontsize = 20)\n",
    "plt.title('Clients w/ Partner', fontsize = 20)\n",
    "\n",
    "# creating plot of clients w/partner monthly tenure\n",
    "plt.subplot(222)\n",
    "no_partner_tenure = (train[train.partner == 0].monthly_tenure)\n",
    "no_partner_tenure.hist(color = 'teal')\n",
    "plt.xlabel('monthly_tenure', fontsize = 20)\n",
    "plt.ylabel('# of clients', fontsize = 20)\n",
    "plt.title('Clients w/o Partner', fontsize = 20)"
   ]
  },
  {
   "cell_type": "markdown",
   "metadata": {},
   "source": [
    "Plot takeaway: Clients with partners on their accounts seem to have higher monthly tenure than clients without partners."
   ]
  },
  {
   "cell_type": "markdown",
   "metadata": {},
   "source": [
    "### Partner (Hypothesis Test)\n",
    "Running a one-tailed, two-sample t-test to further explore this variable."
   ]
  },
  {
   "cell_type": "markdown",
   "metadata": {},
   "source": [
    "__Idea:__ Clients with partners stay with us longer than those without partners.\n",
    "<br>\n",
    "__H0:__ Average monthly tenure of clients with partners <= monthly tenure of clients without partners\n",
    "<br>\n",
    "__Ha:__ Average monthly tenure of clients with partners > monthly tenure of clients without partners"
   ]
  },
  {
   "cell_type": "code",
   "execution_count": 13,
   "metadata": {},
   "outputs": [
    {
     "name": "stdout",
     "output_type": "stream",
     "text": [
      "t =  26.69141466582996 \n",
      "\n",
      "p =  1.7388736395136545e-144 \n",
      "\n",
      "t > 0 and p < alpha so we reject the null hypothesis.\n",
      "\n",
      "The sign of the t value (negative or positive) matters since this is a \"greater than\" test\n"
     ]
    }
   ],
   "source": [
    "# Running a one-tailed, two-sample t-test \n",
    "\n",
    "# setting alpha\n",
    "test_2_alpha = .05\n",
    "\n",
    "# creating DFs for monthly tenure of clients with and without partners\n",
    "partner_tenure = train[(train.partner == 1)].monthly_tenure\n",
    "nopartner_tenure = train[(train.partner == 0)].monthly_tenure\n",
    "\n",
    "# running t-test\n",
    "t_2, p_2 = stats.ttest_ind(partner_tenure, nopartner_tenure, equal_var = False)\n",
    "\n",
    "\n",
    "# printing results\n",
    "print('t = ',t_2,'\\n')\n",
    "print('p = ',p_2/2,'\\n')\n",
    "\n",
    "if p_2/2 > test_2_alpha:\n",
    "    print('I fail to reject H0, there is no difference in monthly tenure between clients with partners and those without')\n",
    "elif t_2 < 0:\n",
    "    print('I fail to reject H0, there is no difference in monthly tenure between clients with partners and those without')\n",
    "else:\n",
    "    print('t > 0 and p < alpha so we reject the null hypothesis.\\n')\n",
    "    print('The sign of the t value (negative or positive) matters since this is a \"greater than\" test')"
   ]
  },
  {
   "cell_type": "markdown",
   "metadata": {},
   "source": [
    "### Partner Takeaways\n",
    "- Plots showed that clients with partners have longer monthly tenures than those without partners.\n",
    "    - Hypothesis tests gave further evidence of this\n",
    "- This could mean that customers are motivated to stay with Telco when their partner is on their account because they'd prefer to avoid the process of switching over both of their services a different provider."
   ]
  },
  {
   "cell_type": "markdown",
   "metadata": {},
   "source": [
    "## Variable: Dependents\n",
    "Just as having a partner on an account can create an exit barrier for a customer, the same can hold true for dependents. Some clients may prefer to remain with Telco in order to avoid having to switch all of their depedents along with themselves to a new service.\n",
    "***"
   ]
  },
  {
   "cell_type": "markdown",
   "metadata": {},
   "source": [
    "### Depedents (plot)\n",
    "Plotting to see if clients who have a partner on their account stay with Telco longer than clients without partners."
   ]
  },
  {
   "cell_type": "code",
   "execution_count": 13,
   "metadata": {},
   "outputs": [
    {
     "data": {
      "text/plain": [
       "Text(0.5, 1.0, 'Clients w/o dependent')"
      ]
     },
     "execution_count": 13,
     "metadata": {},
     "output_type": "execute_result"
    },
    {
     "data": {
      "image/png": "[encoded data removed]",
      "text/plain": [
       "<Figure size 1008x864 with 2 Axes>"
      ]
     },
     "metadata": {
      "needs_background": "light"
     },
     "output_type": "display_data"
    }
   ],
   "source": [
    "# setting figure size\n",
    "plt.figure(figsize=(14,12))\n",
    "\n",
    "# creating plot of clients w/dependents monthly tenure\n",
    "plt.subplot(221)\n",
    "dependent_tenure = (train[train.dependents == 1].monthly_tenure)\n",
    "dependent_tenure.hist(color = 'cyan')\n",
    "plt.xlabel('monthly_tenure', fontsize = 20)\n",
    "plt.ylabel('# of clients', fontsize = 20)\n",
    "plt.title('Clients w/ dependent', fontsize = 20)\n",
    "\n",
    "# creating plot of clients w/dependents monthly tenure\n",
    "plt.subplot(222)\n",
    "no_dependent_tenure = (train[train.dependents == 0].monthly_tenure)\n",
    "no_dependent_tenure.hist(color = 'brown')\n",
    "plt.xlabel('monthly_tenure', fontsize = 20)\n",
    "plt.ylabel('# of clients', fontsize = 20)\n",
    "plt.title('Clients w/o dependent', fontsize = 20)"
   ]
  },
  {
   "cell_type": "markdown",
   "metadata": {},
   "source": [
    "Plot takeaway: Clients with dependents on their accounts seem to have higher monthly tenure than clients without dependents."
   ]
  },
  {
   "cell_type": "markdown",
   "metadata": {},
   "source": [
    "### Dependent (Hypothesis Test)\n",
    "Running a one-tailed, two-sample t-test to further explore this variable."
   ]
  },
  {
   "cell_type": "markdown",
   "metadata": {},
   "source": [
    "__Idea__: Clients with dependents stay with Telco longer than those without dependents.\n",
    "<br>\n",
    "__H0__: Monthly tenure of clients with dependents <= monthly tenure of clients without dependents\n",
    "<br>\n",
    "__Ha__: Monthly tenure of clients with dependents > monthly tenure of clients without dependents"
   ]
  },
  {
   "cell_type": "code",
   "execution_count": 15,
   "metadata": {},
   "outputs": [
    {
     "name": "stdout",
     "output_type": "stream",
     "text": [
      "t =  11.308630261450755 \n",
      "\n",
      "p =  3.517064650495694e-29 \n",
      "\n",
      "t > 0 and p < alpha so we reject the null hypothesis.\n",
      "\n",
      "The sign of the t value (negative or positive) matters since this is a \"greater than\" test\n"
     ]
    }
   ],
   "source": [
    "# Running a one-tailed, two-sample t-test\n",
    "\n",
    "# setting alpha\n",
    "test_3_alpha = .05\n",
    "\n",
    "# creating DFs for monthly tenure of clients with and without dependents\n",
    "dependent_tenure = train[(train.dependents == 1)].monthly_tenure\n",
    "nodependent_tenure = train[(train.dependents == 0)].monthly_tenure\n",
    "\n",
    "# running t-test\n",
    "t_3, p_3 = stats.ttest_ind(dependent_tenure, nodependent_tenure, equal_var = False)\n",
    "\n",
    "\n",
    "# printing results\n",
    "print('t = ',t_3,'\\n')\n",
    "print('p = ',p_3/2,'\\n')\n",
    "\n",
    "if p_3/2 > test_3_alpha:\n",
    "    print('I fail to reject H0, there is no difference in monthly tenure between clients with dependents and those without')\n",
    "elif t_3 < 0:\n",
    "    print('I fail to reject H0, there is no difference in monthly tenure between clients with dependents and those without')\n",
    "else:\n",
    "    print('t > 0 and p < alpha so we reject the null hypothesis.\\n')\n",
    "    print('The sign of the t value (negative or positive) matters since this is a \"greater than\" test')"
   ]
  },
  {
   "cell_type": "markdown",
   "metadata": {},
   "source": [
    "### Dependents Takeaways\n",
    "- Plots showed that clients with dependents have longer monthly tenures than those without dependents.\n",
    "    - Hypothesis gave further evidence of this\n",
    "- This suggests Telco's customers are motivated to stay when a dependent is on their account because they'd prefer to avoid the process of switching their services to a different provider."
   ]
  },
  {
   "cell_type": "markdown",
   "metadata": {},
   "source": [
    "## Varialbe: Automatic_payment\n",
    "***\n",
    "Convenience is a major selling point for many consumers. The value that clients glean from using automatic payment methods may play a significant role in Telco's ability to retain them."
   ]
  },
  {
   "cell_type": "markdown",
   "metadata": {},
   "source": [
    "### Automatic_payment (plot)\n",
    "Plotting to see if clients who use automatic payments stay with Telco longer than clients who make payments manually."
   ]
  },
  {
   "cell_type": "code",
   "execution_count": 15,
   "metadata": {
    "scrolled": true
   },
   "outputs": [
    {
     "data": {
      "text/plain": [
       "Text(0.5, 1.0, 'Clients w/ Manual Payments')"
      ]
     },
     "execution_count": 15,
     "metadata": {},
     "output_type": "execute_result"
    },
    {
     "data": {
      "image/png": "[encoded data removed]",
      "text/plain": [
       "<Figure size 1008x864 with 2 Axes>"
      ]
     },
     "metadata": {
      "needs_background": "light"
     },
     "output_type": "display_data"
    }
   ],
   "source": [
    "# setting figure size\n",
    "plt.figure(figsize=(14,12))\n",
    "\n",
    "# creating plot of clients w/automatic payment monthly tenure\n",
    "plt.subplot(221)\n",
    "automatic_tenure = (train[train.is_automatic_payment == 1].monthly_tenure)\n",
    "automatic_tenure.hist(color = 'skyblue')\n",
    "plt.xlabel('monthly_tenure', fontsize = 20)\n",
    "plt.ylabel('# of clients', fontsize = 20)\n",
    "plt.title('Clients w/ Automatic Payments', fontsize = 20)\n",
    "\n",
    "# creating plot of clients w/manual payment monthly tenure\n",
    "plt.subplot(222)\n",
    "manual_tenure = (train[train.is_automatic_payment == 0].monthly_tenure)\n",
    "manual_tenure.hist(color = 'violet')\n",
    "plt.xlabel('monthly_tenure', fontsize = 20)\n",
    "plt.ylabel('# of clients', fontsize = 20)\n",
    "plt.title('Clients w/ Manual Payments', fontsize = 20)"
   ]
  },
  {
   "cell_type": "markdown",
   "metadata": {},
   "source": [
    "Plot takeaway: Clients with dependents on their accounts seem to have higher monthly tenure than clients without dependents."
   ]
  },
  {
   "cell_type": "markdown",
   "metadata": {},
   "source": [
    "### Automatic Payment (Hypothesis Test)\n",
    "Running a two-sample one-tailed t-test to explore this variable further"
   ]
  },
  {
   "cell_type": "markdown",
   "metadata": {},
   "source": [
    "__Idea:__ Clients who make payments automatically stay with us longer than those who make payments manually.\n",
    "<br>\n",
    "__H0:__ Monthly tenure of clients making automatic payments <= monthly tenure of clients making payments manually \n",
    "<br>\n",
    "__Ha:__ Monthly tenure of clients making automatic payments > monthly tenure of clients making payments manually "
   ]
  },
  {
   "cell_type": "code",
   "execution_count": 17,
   "metadata": {
    "scrolled": true
   },
   "outputs": [
    {
     "name": "stdout",
     "output_type": "stream",
     "text": [
      "t =  27.876885462659963 \n",
      "\n",
      "p =  2.1306049814062135e-155 \n",
      "\n",
      "t > 0 and p < alpha so we reject the null hypothesis.\n",
      "\n",
      "The sign of the t value (negative or positive) matters since this is a \"greater than\" test\n"
     ]
    }
   ],
   "source": [
    "# Running a one-tailed, two-sample t-test\n",
    "\n",
    "# setting alpha\n",
    "alpha = .05\n",
    "\n",
    "# creating DFs for monthly tenure of clients who make automatic and manual payments\n",
    "automatic_tenure = train[(train.is_automatic_payment == 1)].monthly_tenure\n",
    "manual_tenure = train[(train.is_automatic_payment  == 0)].monthly_tenure\n",
    "\n",
    "# running t-test\n",
    "t_4, p_4 = stats.ttest_ind(automatic_tenure, manual_tenure, equal_var = False)\n",
    "\n",
    "# printing results\n",
    "print('t = ',t_4,'\\n')\n",
    "print('p = ',p_4/2,'\\n')\n",
    "\n",
    "if p_4/2 > alpha:\n",
    "    print('I fail to reject H0, there is no difference in monthly tenure between clients with automatic payments and those with manual.')\n",
    "elif t_4 < 0:\n",
    "    print('I fail to reject H0, there is no difference in monthly tenure between clients with automatic payments and those with manual.')\n",
    "else:\n",
    "    print('t > 0 and p < alpha so we reject the null hypothesis.\\n')\n",
    "    print('The sign of the t value (negative or positive) matters since this is a \"greater than\" test')"
   ]
  },
  {
   "cell_type": "markdown",
   "metadata": {},
   "source": [
    "### Automatic Payment Takeaways\n",
    "- Plots showed that clients who make payments automatically have longer monthly tenures than those who do so manually.\n",
    "    -  Hypothesis test provided further evidence of this\n",
    "- It's possible that our customers appreciate the convenience of automatic payments and find value in it."
   ]
  },
  {
   "cell_type": "markdown",
   "metadata": {},
   "source": [
    "## Variable: Senior_Citizen"
   ]
  },
  {
   "cell_type": "markdown",
   "metadata": {},
   "source": [
    "### Senior Citizen (Hypothesis Test)\n",
    "Running a two-sample two-tailed t-test to explore this variable further"
   ]
  },
  {
   "cell_type": "markdown",
   "metadata": {},
   "source": [
    "__Idea:__ Are seniors leaving Telco sooner or later than non-seniors on average?\n",
    "<br>\n",
    "__H0:__ Monthly tenure of seniors = Monthly tenure of non seniors\n",
    "<br>\n",
    "__Ha:__ Monthly tenure of seniors != Monthly tenure of non seniors"
   ]
  },
  {
   "cell_type": "code",
   "execution_count": 18,
   "metadata": {},
   "outputs": [
    {
     "name": "stdout",
     "output_type": "stream",
     "text": [
      "alpha = .05\n",
      "p: 0.38648052790561027\n",
      "\n",
      "Since p > alpha (.05), I fail to reject the null hypothesis.\n"
     ]
    }
   ],
   "source": [
    "# creating DFs for seniors and non-seniors\n",
    "senior_tenure = train[(train.senior_citizen == 1)].monthly_tenure\n",
    "nonsenior_tenure = train[(train.senior_citizen == 0)].monthly_tenure\n",
    "\n",
    "# performing two-tailed, two-sample t-test\n",
    "t, p = stats.ttest_ind(senior_tenure, nonsenior_tenure, equal_var = False)\n",
    "\n",
    "# printing results\n",
    "print('alpha = .05')\n",
    "print(f'p: {p}')\n",
    "\n",
    "print('\\nSince p > alpha (.05), I fail to reject the null hypothesis.')"
   ]
  },
  {
   "cell_type": "markdown",
   "metadata": {},
   "source": [
    "- Hypothesis test shows there is no difference in monthly tenure between seniors and non-seniors. \n",
    "- Given this, I won't explore senior status further as a driver of churn."
   ]
  },
  {
   "cell_type": "markdown",
   "metadata": {},
   "source": [
    "## Variable: Paperless Billing"
   ]
  },
  {
   "cell_type": "markdown",
   "metadata": {},
   "source": [
    "### Paperless Billing (Hypothesis Test)\n",
    "Running a two-sample two-tailed t-test to explore this variable further"
   ]
  },
  {
   "cell_type": "markdown",
   "metadata": {},
   "source": [
    "__Idea:__ Are paperless billing customers leaving leaving us sooner or later than non-paperless billing customers on average?\n",
    "<br>\n",
    "__H0:__ Monthly tenure of paperless billing customers = Monthly tenure of non-paperless billing customers\n",
    "<br>\n",
    "__Ha:__ Monthly tenure of paperless billing customers != Monthly tenure of non-paperless billing customers"
   ]
  },
  {
   "cell_type": "code",
   "execution_count": 39,
   "metadata": {},
   "outputs": [
    {
     "name": "stdout",
     "output_type": "stream",
     "text": [
      "alpha = .05\n",
      "p: 0.5605403707371726\n",
      "\n",
      "Since p > alpha (.05), I fail to reject the null hypothesis. The monthly tenure of paperless billing customers is no different than the monthly tenure of non-paperless billing customers.\n"
     ]
    }
   ],
   "source": [
    "# creating DFs for customers with paperless billing and without paperless billing\n",
    "paperless_tenure = train[(train.paperless_billing == 1)].monthly_tenure\n",
    "nopaperless_tenure = train[(train.paperless_billing == 0)].monthly_tenure\n",
    "\n",
    "# performing two-sample two-tailed t-test\n",
    "t, p = stats.ttest_ind(paperless_tenure, nopaperless_tenure, equal_var = False)\n",
    "\n",
    "# printing results\n",
    "print('alpha = .05')\n",
    "print(f'p: {p}')\n",
    "\n",
    "print('\\nSince p > alpha (.05), I fail to reject the null hypothesis. The monthly tenure of paperless billing customers is no different than the monthly tenure of non-paperless billing customers.')"
   ]
  },
  {
   "cell_type": "markdown",
   "metadata": {},
   "source": [
    "- Hypothesis test shows there is no difference in monthly tenure between paperless billing and non-paperless billing customers\n",
    "- Given this, I won't explore paperless billing further as a driver of churn."
   ]
  },
  {
   "cell_type": "markdown",
   "metadata": {},
   "source": [
    "## Overall Exploration Takeaways\n",
    "\n",
    "- These variables were explored but were found to have weak or little connection to churn\n",
    "    * senior_citizen\n",
    "    * paperless_billing\n",
    "<br>\n",
    "<br>\n",
    "- These variables show strong connections to churn but I did not explore them further for various reasons\n",
    "    * contract_type_id \n",
    "        * Can't change per project specifications\n",
    "    * monthly_tenure / tenure_years \n",
    "        * Increases as churn lowers but we can only influence it by convincing clients to stay via other      variables\n",
    "    * total_charges\n",
    "        * Builds up over time the longer a customer has been with us. Not something we can control directly.\n",
    "<br>\n",
    "<br>\n",
    "- Via plotting and hypothesis testing I found evidence that suggests the following:\n",
    "    - Clients who have churned had larger monthly charges than those who have not churned\n",
    "    - Clients with partners stay with Telco longer than those without\n",
    "    - Clients with dependents stay with Telco longer than those without\n",
    "    - Clients who make automatic payments stay with Telco longer than those who make payments manually\n",
    "<br>\n",
    "<br>\n",
    "- These findings suggest that the following are drivers of churn:\n",
    "    - Large monthly charges (monthly_charges)\n",
    "    - No partner on account (partner)\n",
    "    - No dependents on account (dependents)\n",
    "    - Making payments manually (is_payment_automatic)"
   ]
  },
  {
   "cell_type": "markdown",
   "metadata": {},
   "source": [
    "# Modeling\n",
    "I will use the variables that I have found to be related to churn to create a model that will predict if a customer will churn.\n",
    "***"
   ]
  },
  {
   "cell_type": "markdown",
   "metadata": {},
   "source": [
    "## Baseline\n",
    "Constructing a baseline and gauge its accuracy to determine what accuracy an alternate model would need in order to be viable.\n",
    "***"
   ]
  },
  {
   "cell_type": "code",
   "execution_count": 19,
   "metadata": {},
   "outputs": [
    {
     "data": {
      "text/html": [
       "<div>\n",
       "<style scoped>\n",
       "    .dataframe tbody tr th:only-of-type {\n",
       "        vertical-align: middle;\n",
       "    }\n",
       "\n",
       "    .dataframe tbody tr th {\n",
       "        vertical-align: top;\n",
       "    }\n",
       "\n",
       "    .dataframe thead th {\n",
       "        text-align: right;\n",
       "    }\n",
       "</style>\n",
       "<table border=\"1\" class=\"dataframe\">\n",
       "  <thead>\n",
       "    <tr style=\"text-align: right;\">\n",
       "      <th></th>\n",
       "      <th>customer_id</th>\n",
       "      <th>female</th>\n",
       "      <th>senior_citizen</th>\n",
       "      <th>partner</th>\n",
       "      <th>dependents</th>\n",
       "      <th>monthly_tenure</th>\n",
       "      <th>phone_service</th>\n",
       "      <th>multiple_lines</th>\n",
       "      <th>internet_service_type_id</th>\n",
       "      <th>online_security</th>\n",
       "      <th>...</th>\n",
       "      <th>streaming_tv</th>\n",
       "      <th>streaming_movies</th>\n",
       "      <th>contract_type_id</th>\n",
       "      <th>paperless_billing</th>\n",
       "      <th>is_automatic_payment</th>\n",
       "      <th>monthly_charges</th>\n",
       "      <th>total_charges</th>\n",
       "      <th>tenure_years</th>\n",
       "      <th>churn</th>\n",
       "      <th>baseline_prediction</th>\n",
       "    </tr>\n",
       "  </thead>\n",
       "  <tbody>\n",
       "    <tr>\n",
       "      <th>4604</th>\n",
       "      <td>6490-FGZAT</td>\n",
       "      <td>0</td>\n",
       "      <td>0</td>\n",
       "      <td>0</td>\n",
       "      <td>0</td>\n",
       "      <td>6</td>\n",
       "      <td>1</td>\n",
       "      <td>0</td>\n",
       "      <td>3</td>\n",
       "      <td>0</td>\n",
       "      <td>...</td>\n",
       "      <td>0</td>\n",
       "      <td>0</td>\n",
       "      <td>1</td>\n",
       "      <td>0</td>\n",
       "      <td>0</td>\n",
       "      <td>20.65</td>\n",
       "      <td>109.30</td>\n",
       "      <td>0.5</td>\n",
       "      <td>0</td>\n",
       "      <td>0</td>\n",
       "    </tr>\n",
       "    <tr>\n",
       "      <th>5566</th>\n",
       "      <td>7841-FCRQD</td>\n",
       "      <td>1</td>\n",
       "      <td>0</td>\n",
       "      <td>1</td>\n",
       "      <td>0</td>\n",
       "      <td>33</td>\n",
       "      <td>1</td>\n",
       "      <td>0</td>\n",
       "      <td>1</td>\n",
       "      <td>0</td>\n",
       "      <td>...</td>\n",
       "      <td>0</td>\n",
       "      <td>0</td>\n",
       "      <td>2</td>\n",
       "      <td>1</td>\n",
       "      <td>1</td>\n",
       "      <td>53.75</td>\n",
       "      <td>1857.30</td>\n",
       "      <td>2.8</td>\n",
       "      <td>0</td>\n",
       "      <td>0</td>\n",
       "    </tr>\n",
       "    <tr>\n",
       "      <th>6204</th>\n",
       "      <td>8777-MBMTS</td>\n",
       "      <td>1</td>\n",
       "      <td>1</td>\n",
       "      <td>1</td>\n",
       "      <td>0</td>\n",
       "      <td>65</td>\n",
       "      <td>1</td>\n",
       "      <td>0</td>\n",
       "      <td>2</td>\n",
       "      <td>0</td>\n",
       "      <td>...</td>\n",
       "      <td>1</td>\n",
       "      <td>1</td>\n",
       "      <td>3</td>\n",
       "      <td>1</td>\n",
       "      <td>1</td>\n",
       "      <td>105.85</td>\n",
       "      <td>6725.50</td>\n",
       "      <td>5.4</td>\n",
       "      <td>0</td>\n",
       "      <td>0</td>\n",
       "    </tr>\n",
       "    <tr>\n",
       "      <th>5837</th>\n",
       "      <td>8212-CRQXP</td>\n",
       "      <td>1</td>\n",
       "      <td>0</td>\n",
       "      <td>1</td>\n",
       "      <td>0</td>\n",
       "      <td>22</td>\n",
       "      <td>1</td>\n",
       "      <td>0</td>\n",
       "      <td>2</td>\n",
       "      <td>0</td>\n",
       "      <td>...</td>\n",
       "      <td>1</td>\n",
       "      <td>0</td>\n",
       "      <td>1</td>\n",
       "      <td>1</td>\n",
       "      <td>1</td>\n",
       "      <td>80.00</td>\n",
       "      <td>1706.45</td>\n",
       "      <td>1.8</td>\n",
       "      <td>0</td>\n",
       "      <td>0</td>\n",
       "    </tr>\n",
       "    <tr>\n",
       "      <th>1276</th>\n",
       "      <td>1897-OKVMW</td>\n",
       "      <td>1</td>\n",
       "      <td>0</td>\n",
       "      <td>1</td>\n",
       "      <td>1</td>\n",
       "      <td>64</td>\n",
       "      <td>1</td>\n",
       "      <td>1</td>\n",
       "      <td>1</td>\n",
       "      <td>1</td>\n",
       "      <td>...</td>\n",
       "      <td>1</td>\n",
       "      <td>1</td>\n",
       "      <td>3</td>\n",
       "      <td>1</td>\n",
       "      <td>0</td>\n",
       "      <td>90.60</td>\n",
       "      <td>5817.45</td>\n",
       "      <td>5.3</td>\n",
       "      <td>0</td>\n",
       "      <td>0</td>\n",
       "    </tr>\n",
       "  </tbody>\n",
       "</table>\n",
       "<p>5 rows × 23 columns</p>\n",
       "</div>"
      ],
      "text/plain": [
       "     customer_id  female  senior_citizen  partner  dependents  monthly_tenure  \\\n",
       "4604  6490-FGZAT       0               0        0           0               6   \n",
       "5566  7841-FCRQD       1               0        1           0              33   \n",
       "6204  8777-MBMTS       1               1        1           0              65   \n",
       "5837  8212-CRQXP       1               0        1           0              22   \n",
       "1276  1897-OKVMW       1               0        1           1              64   \n",
       "\n",
       "      phone_service  multiple_lines  internet_service_type_id  \\\n",
       "4604              1               0                         3   \n",
       "5566              1               0                         1   \n",
       "6204              1               0                         2   \n",
       "5837              1               0                         2   \n",
       "1276              1               1                         1   \n",
       "\n",
       "      online_security  ...  streaming_tv  streaming_movies  contract_type_id  \\\n",
       "4604                0  ...             0                 0                 1   \n",
       "5566                0  ...             0                 0                 2   \n",
       "6204                0  ...             1                 1                 3   \n",
       "5837                0  ...             1                 0                 1   \n",
       "1276                1  ...             1                 1                 3   \n",
       "\n",
       "      paperless_billing  is_automatic_payment  monthly_charges  total_charges  \\\n",
       "4604                  0                     0            20.65         109.30   \n",
       "5566                  1                     1            53.75        1857.30   \n",
       "6204                  1                     1           105.85        6725.50   \n",
       "5837                  1                     1            80.00        1706.45   \n",
       "1276                  1                     0            90.60        5817.45   \n",
       "\n",
       "      tenure_years  churn  baseline_prediction  \n",
       "4604           0.5      0                    0  \n",
       "5566           2.8      0                    0  \n",
       "6204           5.4      0                    0  \n",
       "5837           1.8      0                    0  \n",
       "1276           5.3      0                    0  \n",
       "\n",
       "[5 rows x 23 columns]"
      ]
     },
     "execution_count": 19,
     "metadata": {},
     "output_type": "execute_result"
    }
   ],
   "source": [
    "# copying train DF since I'm going to add a new column and I don't want to alter the train table yet\n",
    "train_bl = train\n",
    "\n",
    "# adding \"baseline_prediction column\" that predicts no one will churn since not churning (0), is the most common value\n",
    "train_bl['baseline_prediction'] = 0\n",
    "\n",
    "train_bl.head()"
   ]
  },
  {
   "cell_type": "code",
   "execution_count": 20,
   "metadata": {},
   "outputs": [
    {
     "name": "stdout",
     "output_type": "stream",
     "text": [
      "Accuracy of baseline model is 73.0 %\n"
     ]
    }
   ],
   "source": [
    "# calculating accuracy of baseline model\n",
    "baseline_accuracy = (train_bl['baseline_prediction'] == train_bl['churn']).mean()\n",
    "\n",
    "print('Accuracy of baseline model is',round(baseline_accuracy,2)*100,'%')"
   ]
  },
  {
   "cell_type": "markdown",
   "metadata": {},
   "source": [
    "### Baseline Takeaways\n",
    "- Since I'm prioritizing the detection of false positives, false negatives, true positives, or true negatives and our main goal is to build a model that accurately predicts whether a customer will churn or not, I will be focusing on accuracy.\n",
    "- The baseline model's accuracy of 73% is the metric that our alternate models will need to surpass."
   ]
  },
  {
   "cell_type": "markdown",
   "metadata": {},
   "source": [
    "## Modeling (Training)\n",
    "In this phase I will create 3 models that will attempt to predict which customers churn in the train data set. Any models that surpass the baseline model's accuracy (73%) will be taken to the next phase, validation.\n",
    "***"
   ]
  },
  {
   "cell_type": "markdown",
   "metadata": {},
   "source": [
    "## Model 1"
   ]
  },
  {
   "cell_type": "markdown",
   "metadata": {},
   "source": [
    "__Name__: Model 1\n",
    "<br>\n",
    "<br>\n",
    "__Type__: K-Nearest Neighbor\n",
    "<br>\n",
    "<br>\n",
    "__Features__:\n",
    "- is_automatic_payment\n",
    "- dependents\n",
    "- partner\n",
    "- monthly_charges\n",
    "<br>\n",
    "\n",
    "__Hyper Parameters__:\n",
    "- n_neighbors = 3\n",
    "- weights = 'uniform'"
   ]
  },
  {
   "cell_type": "code",
   "execution_count": 21,
   "metadata": {},
   "outputs": [
    {
     "data": {
      "text/html": [
       "<div>\n",
       "<style scoped>\n",
       "    .dataframe tbody tr th:only-of-type {\n",
       "        vertical-align: middle;\n",
       "    }\n",
       "\n",
       "    .dataframe tbody tr th {\n",
       "        vertical-align: top;\n",
       "    }\n",
       "\n",
       "    .dataframe thead th {\n",
       "        text-align: right;\n",
       "    }\n",
       "</style>\n",
       "<table border=\"1\" class=\"dataframe\">\n",
       "  <thead>\n",
       "    <tr style=\"text-align: right;\">\n",
       "      <th></th>\n",
       "      <th>0</th>\n",
       "    </tr>\n",
       "  </thead>\n",
       "  <tbody>\n",
       "    <tr>\n",
       "      <th>0</th>\n",
       "      <td>0</td>\n",
       "    </tr>\n",
       "    <tr>\n",
       "      <th>1</th>\n",
       "      <td>0</td>\n",
       "    </tr>\n",
       "    <tr>\n",
       "      <th>2</th>\n",
       "      <td>0</td>\n",
       "    </tr>\n",
       "    <tr>\n",
       "      <th>3</th>\n",
       "      <td>0</td>\n",
       "    </tr>\n",
       "    <tr>\n",
       "      <th>4</th>\n",
       "      <td>0</td>\n",
       "    </tr>\n",
       "  </tbody>\n",
       "</table>\n",
       "</div>"
      ],
      "text/plain": [
       "   0\n",
       "0  0\n",
       "1  0\n",
       "2  0\n",
       "3  0\n",
       "4  0"
      ]
     },
     "execution_count": 21,
     "metadata": {},
     "output_type": "execute_result"
    }
   ],
   "source": [
    "# creating logistic regression object\n",
    "knn = KNeighborsClassifier(n_neighbors=5, weights = 'uniform')\n",
    "\n",
    "# creating DF with selected features for logistic regression model\n",
    "m1_X_train = train[['is_automatic_payment','dependents','partner','monthly_charges']]\n",
    "m1_y_train = train['churn']\n",
    "\n",
    "# fitting model to data\n",
    "knn.fit(m1_X_train, m1_y_train)\n",
    "\n",
    "# making predictions on x train\n",
    "m1_y_pred = pd.DataFrame(knn.predict(m1_X_train))\n",
    "\n",
    "# previewing predictions of model\n",
    "m1_y_pred.head()"
   ]
  },
  {
   "cell_type": "code",
   "execution_count": 22,
   "metadata": {},
   "outputs": [
    {
     "name": "stdout",
     "output_type": "stream",
     "text": [
      "              precision    recall  f1-score   support\n",
      "\n",
      "           0       0.84      0.91      0.87      2893\n",
      "           1       0.68      0.51      0.58      1050\n",
      "\n",
      "    accuracy                           0.80      3943\n",
      "   macro avg       0.76      0.71      0.73      3943\n",
      "weighted avg       0.79      0.80      0.80      3943\n",
      "\n",
      "Model 1's accuracy is 80%.\n",
      "\n",
      "Baseline models accuracy surpassed by a fair margin (7%). This model will move to validation\n"
     ]
    }
   ],
   "source": [
    "print(classification_report(m1_y_train, m1_y_pred))\n",
    "\n",
    "print(\"Model 1's accuracy is 80%.\\n\")\n",
    "print('Baseline models accuracy surpassed by a fair margin (7%). This model will move to validation')"
   ]
  },
  {
   "cell_type": "markdown",
   "metadata": {},
   "source": [
    "## Model 2"
   ]
  },
  {
   "cell_type": "markdown",
   "metadata": {},
   "source": [
    "__Name__: Model 2\n",
    "<br>\n",
    "<br>\n",
    "__Type__: Decision Tree\n",
    "<br>\n",
    "<br>\n",
    "__Features__:\n",
    "- is_automatic_payment\n",
    "- monthly_charges\n",
    "<br>\n",
    "\n",
    "__Hyper Parameters__:\n",
    "- max depth = 2"
   ]
  },
  {
   "cell_type": "code",
   "execution_count": 23,
   "metadata": {},
   "outputs": [
    {
     "data": {
      "text/html": [
       "<div>\n",
       "<style scoped>\n",
       "    .dataframe tbody tr th:only-of-type {\n",
       "        vertical-align: middle;\n",
       "    }\n",
       "\n",
       "    .dataframe tbody tr th {\n",
       "        vertical-align: top;\n",
       "    }\n",
       "\n",
       "    .dataframe thead th {\n",
       "        text-align: right;\n",
       "    }\n",
       "</style>\n",
       "<table border=\"1\" class=\"dataframe\">\n",
       "  <thead>\n",
       "    <tr style=\"text-align: right;\">\n",
       "      <th></th>\n",
       "      <th>0</th>\n",
       "    </tr>\n",
       "  </thead>\n",
       "  <tbody>\n",
       "    <tr>\n",
       "      <th>0</th>\n",
       "      <td>0</td>\n",
       "    </tr>\n",
       "    <tr>\n",
       "      <th>1</th>\n",
       "      <td>0</td>\n",
       "    </tr>\n",
       "    <tr>\n",
       "      <th>2</th>\n",
       "      <td>0</td>\n",
       "    </tr>\n",
       "    <tr>\n",
       "      <th>3</th>\n",
       "      <td>0</td>\n",
       "    </tr>\n",
       "    <tr>\n",
       "      <th>4</th>\n",
       "      <td>1</td>\n",
       "    </tr>\n",
       "  </tbody>\n",
       "</table>\n",
       "</div>"
      ],
      "text/plain": [
       "   0\n",
       "0  0\n",
       "1  0\n",
       "2  0\n",
       "3  0\n",
       "4  1"
      ]
     },
     "execution_count": 23,
     "metadata": {},
     "output_type": "execute_result"
    }
   ],
   "source": [
    "# creating decision tree object\n",
    "m2_dtree = DecisionTreeClassifier(max_depth = 3, random_state=123)\n",
    "\n",
    "# creating DF with selected features for d tree\n",
    "m2_X_train = train[['is_automatic_payment','monthly_charges']]\n",
    "m2_y_train = train['churn']\n",
    "\n",
    "# fitting d tree to data\n",
    "m2_dtree.fit(m2_X_train, m2_y_train)\n",
    "\n",
    "# making predictions about churn on train data\n",
    "m2_y_pred = pd.DataFrame(m2_dtree.predict(m2_X_train))\n",
    "\n",
    "# previewing predictions\n",
    "m2_y_pred.head()"
   ]
  },
  {
   "cell_type": "code",
   "execution_count": 24,
   "metadata": {},
   "outputs": [
    {
     "name": "stdout",
     "output_type": "stream",
     "text": [
      "              precision    recall  f1-score   support\n",
      "\n",
      "           0       0.82      0.82      0.82      2893\n",
      "           1       0.50      0.49      0.49      1050\n",
      "\n",
      "    accuracy                           0.73      3943\n",
      "   macro avg       0.66      0.66      0.66      3943\n",
      "weighted avg       0.73      0.73      0.73      3943\n",
      "\n",
      "Model 2's accuracy is 73%.\n",
      "\n",
      "Baseline models accuracy matched. This model won't move to validation if our other model surpasses the baseline.\n"
     ]
    }
   ],
   "source": [
    "print(classification_report(m2_y_train, m2_y_pred))\n",
    "\n",
    "print(\"Model 2's accuracy is 73%.\\n\")\n",
    "print(\"Baseline models accuracy matched. This model won't move to validation if our other model surpasses the baseline.\")"
   ]
  },
  {
   "cell_type": "markdown",
   "metadata": {},
   "source": [
    "## Model 3"
   ]
  },
  {
   "cell_type": "markdown",
   "metadata": {},
   "source": [
    "__Name__: Model 3\n",
    "<br>\n",
    "<br>\n",
    "__Type__: Logistic Regression\n",
    "<br>\n",
    "<br>\n",
    "__Features__:\n",
    "- is_automatic_payment\n",
    "- dependents\n",
    "- partner\n",
    "- monthly_charges\n",
    "<br>\n",
    "\n",
    "\n",
    "__Hyper Parameters__:\n",
    "None\n",
    "\n",
    "__Note__: Changed model type to Logistic Regression from Decision Tree"
   ]
  },
  {
   "cell_type": "code",
   "execution_count": 25,
   "metadata": {},
   "outputs": [
    {
     "data": {
      "text/html": [
       "<div>\n",
       "<style scoped>\n",
       "    .dataframe tbody tr th:only-of-type {\n",
       "        vertical-align: middle;\n",
       "    }\n",
       "\n",
       "    .dataframe tbody tr th {\n",
       "        vertical-align: top;\n",
       "    }\n",
       "\n",
       "    .dataframe thead th {\n",
       "        text-align: right;\n",
       "    }\n",
       "</style>\n",
       "<table border=\"1\" class=\"dataframe\">\n",
       "  <thead>\n",
       "    <tr style=\"text-align: right;\">\n",
       "      <th></th>\n",
       "      <th>0</th>\n",
       "    </tr>\n",
       "  </thead>\n",
       "  <tbody>\n",
       "    <tr>\n",
       "      <th>0</th>\n",
       "      <td>0</td>\n",
       "    </tr>\n",
       "    <tr>\n",
       "      <th>1</th>\n",
       "      <td>0</td>\n",
       "    </tr>\n",
       "    <tr>\n",
       "      <th>2</th>\n",
       "      <td>0</td>\n",
       "    </tr>\n",
       "    <tr>\n",
       "      <th>3</th>\n",
       "      <td>0</td>\n",
       "    </tr>\n",
       "    <tr>\n",
       "      <th>4</th>\n",
       "      <td>0</td>\n",
       "    </tr>\n",
       "  </tbody>\n",
       "</table>\n",
       "</div>"
      ],
      "text/plain": [
       "   0\n",
       "0  0\n",
       "1  0\n",
       "2  0\n",
       "3  0\n",
       "4  0"
      ]
     },
     "execution_count": 25,
     "metadata": {},
     "output_type": "execute_result"
    }
   ],
   "source": [
    "# creating logistic regression object\n",
    "m3_logit = LogisticRegression(random_state=123)\n",
    "\n",
    "# creating DF with selected features for logistic regression model\n",
    "m3_X_train = train[['is_automatic_payment','dependents','partner','monthly_charges']]\n",
    "m3_y_train = train['churn']\n",
    "\n",
    "# fitting model to data\n",
    "m3_logit.fit(m3_X_train, m3_y_train)\n",
    "\n",
    "# making predictions on train dataset\n",
    "m3_y_pred = pd.DataFrame(m3_logit.predict(m3_X_train))\n",
    "\n",
    "# previewing predictions of model\n",
    "m3_y_pred.head()"
   ]
  },
  {
   "cell_type": "code",
   "execution_count": 26,
   "metadata": {
    "scrolled": true
   },
   "outputs": [
    {
     "name": "stdout",
     "output_type": "stream",
     "text": [
      "              precision    recall  f1-score   support\n",
      "\n",
      "           0       0.76      0.94      0.84      2893\n",
      "           1       0.52      0.19      0.28      1050\n",
      "\n",
      "    accuracy                           0.74      3943\n",
      "   macro avg       0.64      0.56      0.56      3943\n",
      "weighted avg       0.70      0.74      0.69      3943\n",
      "\n",
      "Model 3s accuracy is 74%.\n",
      "\n",
      "Baseline models accuracy surpassed. This model may move to the validation.\n"
     ]
    }
   ],
   "source": [
    "print(classification_report(m3_y_train, m3_y_pred))\n",
    "\n",
    "print('Model 3''s accuracy is 74%.\\n')\n",
    "print('Baseline models accuracy surpassed. This model may move to the validation.')"
   ]
  },
  {
   "cell_type": "markdown",
   "metadata": {},
   "source": [
    "### Modeling (Training) Takeaways\n",
    "- Baseline model accuracy: 73%\n",
    "<br>\n",
    "- Model 1 accuracy (training): 80%\n",
    "<br>\n",
    "- Model 2 accuracy (training): 73%\n",
    "<br>\n",
    "- Model 3 accuracy (training): 74%\n",
    "<br>\n",
    "<br>\n",
    "- Models 1 and 3 outperformed the baseline, they will be used in the validation phase to discern which is our overall best model."
   ]
  },
  {
   "cell_type": "markdown",
   "metadata": {},
   "source": [
    "## Modeling (Validation)\n",
    "I will now be applying the most promising models, models 2 and 3 to the validation dataset. This will give me an idea of how the models perform on data they have not yet seen.\n",
    "***"
   ]
  },
  {
   "cell_type": "markdown",
   "metadata": {},
   "source": [
    "### Model 1 (K Nearest Neighbors)"
   ]
  },
  {
   "cell_type": "code",
   "execution_count": 27,
   "metadata": {},
   "outputs": [
    {
     "data": {
      "text/html": [
       "<div>\n",
       "<style scoped>\n",
       "    .dataframe tbody tr th:only-of-type {\n",
       "        vertical-align: middle;\n",
       "    }\n",
       "\n",
       "    .dataframe tbody tr th {\n",
       "        vertical-align: top;\n",
       "    }\n",
       "\n",
       "    .dataframe thead th {\n",
       "        text-align: right;\n",
       "    }\n",
       "</style>\n",
       "<table border=\"1\" class=\"dataframe\">\n",
       "  <thead>\n",
       "    <tr style=\"text-align: right;\">\n",
       "      <th></th>\n",
       "      <th>0</th>\n",
       "    </tr>\n",
       "  </thead>\n",
       "  <tbody>\n",
       "    <tr>\n",
       "      <th>0</th>\n",
       "      <td>0</td>\n",
       "    </tr>\n",
       "    <tr>\n",
       "      <th>1</th>\n",
       "      <td>0</td>\n",
       "    </tr>\n",
       "    <tr>\n",
       "      <th>2</th>\n",
       "      <td>0</td>\n",
       "    </tr>\n",
       "    <tr>\n",
       "      <th>3</th>\n",
       "      <td>0</td>\n",
       "    </tr>\n",
       "    <tr>\n",
       "      <th>4</th>\n",
       "      <td>0</td>\n",
       "    </tr>\n",
       "  </tbody>\n",
       "</table>\n",
       "</div>"
      ],
      "text/plain": [
       "   0\n",
       "0  0\n",
       "1  0\n",
       "2  0\n",
       "3  0\n",
       "4  0"
      ]
     },
     "execution_count": 27,
     "metadata": {},
     "output_type": "execute_result"
    }
   ],
   "source": [
    "# creating DF with selected features for logistic regression model\n",
    "m1_X_validate = validate[['is_automatic_payment','dependents','partner','monthly_charges']]\n",
    "m1_y_validate = validate['churn']\n",
    "\n",
    "# making predictions on x validate\n",
    "m1_y_pred_val = pd.DataFrame(knn.predict(m1_X_validate))\n",
    "\n",
    "# previewing predictions of model\n",
    "m1_y_pred.head()"
   ]
  },
  {
   "cell_type": "code",
   "execution_count": 40,
   "metadata": {
    "scrolled": false
   },
   "outputs": [
    {
     "name": "stdout",
     "output_type": "stream",
     "text": [
      "              precision    recall  f1-score   support\n",
      "\n",
      "           0       0.78      0.86      0.82      1249\n",
      "           1       0.44      0.31      0.37       442\n",
      "\n",
      "    accuracy                           0.72      1691\n",
      "   macro avg       0.61      0.59      0.59      1691\n",
      "weighted avg       0.69      0.72      0.70      1691\n",
      "\n",
      "Model 1's accuracy is 72%.\n",
      "\n",
      "The accuracy of this model has dropped ~10% from the training dataset results.\n"
     ]
    }
   ],
   "source": [
    "print(classification_report(m1_y_validate, m1_y_pred_val))\n",
    "\n",
    "print(\"Model 1's accuracy is 72%.\\n\")\n",
    "\n",
    "print('The accuracy of this model has dropped ~10% from the training dataset results.')"
   ]
  },
  {
   "cell_type": "markdown",
   "metadata": {},
   "source": [
    "### Model 3"
   ]
  },
  {
   "cell_type": "code",
   "execution_count": 29,
   "metadata": {},
   "outputs": [
    {
     "data": {
      "text/html": [
       "<div>\n",
       "<style scoped>\n",
       "    .dataframe tbody tr th:only-of-type {\n",
       "        vertical-align: middle;\n",
       "    }\n",
       "\n",
       "    .dataframe tbody tr th {\n",
       "        vertical-align: top;\n",
       "    }\n",
       "\n",
       "    .dataframe thead th {\n",
       "        text-align: right;\n",
       "    }\n",
       "</style>\n",
       "<table border=\"1\" class=\"dataframe\">\n",
       "  <thead>\n",
       "    <tr style=\"text-align: right;\">\n",
       "      <th></th>\n",
       "      <th>0</th>\n",
       "    </tr>\n",
       "  </thead>\n",
       "  <tbody>\n",
       "    <tr>\n",
       "      <th>0</th>\n",
       "      <td>0</td>\n",
       "    </tr>\n",
       "    <tr>\n",
       "      <th>1</th>\n",
       "      <td>0</td>\n",
       "    </tr>\n",
       "    <tr>\n",
       "      <th>2</th>\n",
       "      <td>0</td>\n",
       "    </tr>\n",
       "    <tr>\n",
       "      <th>3</th>\n",
       "      <td>0</td>\n",
       "    </tr>\n",
       "    <tr>\n",
       "      <th>4</th>\n",
       "      <td>0</td>\n",
       "    </tr>\n",
       "  </tbody>\n",
       "</table>\n",
       "</div>"
      ],
      "text/plain": [
       "   0\n",
       "0  0\n",
       "1  0\n",
       "2  0\n",
       "3  0\n",
       "4  0"
      ]
     },
     "execution_count": 29,
     "metadata": {},
     "output_type": "execute_result"
    }
   ],
   "source": [
    "# creating DF with selected features for logistic regression model\n",
    "m3_X_validate = validate[['is_automatic_payment','dependents','partner','monthly_charges']]\n",
    "m3_y_validate = validate['churn']\n",
    "\n",
    "# making predictions on validate dataset\n",
    "m3_y_pred_val = pd.DataFrame(m3_logit.predict(m3_X_validate))\n",
    "\n",
    "# previewing predictions of model\n",
    "m3_y_pred_val.head()"
   ]
  },
  {
   "cell_type": "code",
   "execution_count": 30,
   "metadata": {},
   "outputs": [
    {
     "name": "stdout",
     "output_type": "stream",
     "text": [
      "              precision    recall  f1-score   support\n",
      "\n",
      "           0       0.77      0.93      0.84      1249\n",
      "           1       0.51      0.22      0.31       442\n",
      "\n",
      "    accuracy                           0.74      1691\n",
      "   macro avg       0.64      0.57      0.58      1691\n",
      "weighted avg       0.70      0.74      0.70      1691\n",
      "\n",
      "Model 3's accuracy is 74%.\n",
      "\n",
      "This is our best model. It has outperformed every other model thus far. Its ready for use on the test data set.\n"
     ]
    }
   ],
   "source": [
    "print(classification_report(m3_y_validate, m3_y_pred_val))\n",
    "\n",
    "print(\"Model 3's accuracy is 74%.\\n\")\n",
    "print(\"This is our best model. It has outperformed every other model thus far. Its ready for use on the test data set.\")"
   ]
  },
  {
   "cell_type": "markdown",
   "metadata": {},
   "source": [
    "### Modeling (Validation) Takeaways\n",
    "\n",
    "- Model 1 accuracy (validation): 71%\n",
    "<br>\n",
    "- Model 3 accuracy (validation): 74%\n",
    "<br>\n",
    "<br>\n",
    "- Model 3 will be used on the test sample since it has the highest accuracy and is still outperforming the baseline model's accuracy."
   ]
  },
  {
   "cell_type": "markdown",
   "metadata": {},
   "source": [
    "## Test\n",
    "The best model, model 3, will now applied to the test dataset. \n",
    "***"
   ]
  },
  {
   "cell_type": "code",
   "execution_count": 31,
   "metadata": {},
   "outputs": [
    {
     "data": {
      "text/html": [
       "<div>\n",
       "<style scoped>\n",
       "    .dataframe tbody tr th:only-of-type {\n",
       "        vertical-align: middle;\n",
       "    }\n",
       "\n",
       "    .dataframe tbody tr th {\n",
       "        vertical-align: top;\n",
       "    }\n",
       "\n",
       "    .dataframe thead th {\n",
       "        text-align: right;\n",
       "    }\n",
       "</style>\n",
       "<table border=\"1\" class=\"dataframe\">\n",
       "  <thead>\n",
       "    <tr style=\"text-align: right;\">\n",
       "      <th></th>\n",
       "      <th>0</th>\n",
       "    </tr>\n",
       "  </thead>\n",
       "  <tbody>\n",
       "    <tr>\n",
       "      <th>0</th>\n",
       "      <td>0</td>\n",
       "    </tr>\n",
       "    <tr>\n",
       "      <th>1</th>\n",
       "      <td>0</td>\n",
       "    </tr>\n",
       "    <tr>\n",
       "      <th>2</th>\n",
       "      <td>0</td>\n",
       "    </tr>\n",
       "    <tr>\n",
       "      <th>3</th>\n",
       "      <td>0</td>\n",
       "    </tr>\n",
       "    <tr>\n",
       "      <th>4</th>\n",
       "      <td>0</td>\n",
       "    </tr>\n",
       "  </tbody>\n",
       "</table>\n",
       "</div>"
      ],
      "text/plain": [
       "   0\n",
       "0  0\n",
       "1  0\n",
       "2  0\n",
       "3  0\n",
       "4  0"
      ]
     },
     "execution_count": 31,
     "metadata": {},
     "output_type": "execute_result"
    }
   ],
   "source": [
    "# creating DF with selected features for logistic regression model\n",
    "m3_X_test = test[['is_automatic_payment','dependents','partner','monthly_charges']]\n",
    "m3_y_test = test['churn']\n",
    "\n",
    "# making predictions on test data set\n",
    "m3_y_pred_test = pd.DataFrame(m3_logit.predict(m3_X_test))\n",
    "\n",
    "# previewing predictions of model\n",
    "m3_y_pred_test.head()"
   ]
  },
  {
   "cell_type": "code",
   "execution_count": 41,
   "metadata": {},
   "outputs": [
    {
     "name": "stdout",
     "output_type": "stream",
     "text": [
      "              precision    recall  f1-score   support\n",
      "\n",
      "           0       0.76      0.93      0.84      1032\n",
      "           1       0.52      0.22      0.31       377\n",
      "\n",
      "    accuracy                           0.74      1409\n",
      "   macro avg       0.64      0.57      0.57      1409\n",
      "weighted avg       0.70      0.74      0.70      1409\n",
      "\n",
      "Model 3's accuracy is 74%.\n",
      "\n"
     ]
    }
   ],
   "source": [
    "print(classification_report(m3_y_test, m3_y_pred_test))\n",
    "\n",
    "print(\"Model 3's accuracy is 74%.\\n\")"
   ]
  },
  {
   "cell_type": "markdown",
   "metadata": {},
   "source": [
    "### Modeling (Test) Takeaways\n",
    "- Model 3 has proven to be the best model\n",
    "- I expect it to predict churn on unseen (out-of-sample) data with an accuracy of ~74%"
   ]
  },
  {
   "cell_type": "markdown",
   "metadata": {},
   "source": [
    "# Conclusion\n",
    "I'll now summarize what I learned from exploration and modeling, make recommendations, discuss what to do next, and summarize the model.\n",
    "***\n",
    "- Exploration uncovered that some the following features are related to churn:\n",
    "    - Dependents\n",
    "    - Partners\n",
    "    - Automatic vs Manual Payments\n",
    "    - Monthly Charges\n",
    "    \n",
    "- Recommendations to reduce churn:\n",
    "    - Lower monthly charges because our customers appear to be price sensitive\n",
    "    - Offer promotions that encourage clients to add partners and dependents to account. Once signed up, switching multiple people to a competitor becomes a barrier to exit and increases tenure.\n",
    "    - Invest in marketing that promotes the use of automatic payments because clients will leave Telco for a competitor if they don't feel Telco's services meet their convenience needs.\n",
    "\n",
    "- Created a model that uses these variables to make predictions about churn.\n",
    "    - The model maintained an accuracy of roughly 74% on both in and out-of-sample data\n",
    "    - I expect it to perform with similar accuracy on more unseen data in the future\n",
    "    \n",
    "- In the near future I would like to use what I learned from this project to build a new, more refined model that will improve it's ability to predict when a customer is churning, when they actually are (ie. improved recall) as this is the current model's largest area of opportunity."
   ]
  },
  {
   "cell_type": "code",
   "execution_count": null,
   "metadata": {},
   "outputs": [],
   "source": []
  }
 ],
 "metadata": {
  "kernelspec": {
   "display_name": "Python 3",
   "language": "python",
   "name": "python3"
  },
  "language_info": {
   "codemirror_mode": {
    "name": "ipython",
    "version": 3
   },
   "file_extension": ".py",
   "mimetype": "text/x-python",
   "name": "python",
   "nbconvert_exporter": "python",
   "pygments_lexer": "ipython3",
   "version": "3.7.6"
  }
 },
 "nbformat": 4,
 "nbformat_minor": 4
}
