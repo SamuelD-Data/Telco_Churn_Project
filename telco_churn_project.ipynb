{
 "cells": [
  {
   "cell_type": "markdown",
   "metadata": {},
   "source": [
    "# Identifying the Drivers of Churn at Telco\n",
    "***\n",
    "***\n",
    "# Goals\n",
    "***"
   ]
  },
  {
   "cell_type": "markdown",
   "metadata": {},
   "source": [
    "My goals for this project are as follows\n",
    "- Identify drivers of churn\n",
    "- Create a model that will acurrately predict customer churn using the customer data provided"
   ]
  },
  {
   "cell_type": "markdown",
   "metadata": {},
   "source": [
    "# Setup\n",
    "***"
   ]
  },
  {
   "cell_type": "code",
   "execution_count": 1,
   "metadata": {},
   "outputs": [],
   "source": [
    "# preparing environment\n",
    "import pandas as pd\n",
    "import numpy as np\n",
    "import scipy.stats as stats\n",
    "import matplotlib.pyplot as plt\n",
    "import seaborn as sns\n",
    "\n",
    "#import acquire as ac\n",
    "from acquire import get_telco_data\n",
    "from prepare import prepare_telco\n",
    "\n",
    "from sklearn.model_selection import train_test_split\n",
    "from sklearn.metrics import classification_report, confusion_matrix, recall_score\n",
    "from sklearn.linear_model import LogisticRegression\n",
    "from sklearn.tree import export_graphviz\n",
    "from sklearn.ensemble import RandomForestClassifier\n",
    "from sklearn.neighbors import KNeighborsClassifier\n",
    "from sklearn.metrics import f1_score\n",
    "\n",
    "import warnings\n",
    "warnings.filterwarnings(\"ignore\")"
   ]
  },
  {
   "cell_type": "markdown",
   "metadata": {},
   "source": [
    "\n",
    "# Acquire\n",
    "Acquire data from the customers table from the telco_churn database on the codeup data science database server.\n",
    "***"
   ]
  },
  {
   "cell_type": "code",
   "execution_count": 2,
   "metadata": {
    "scrolled": true
   },
   "outputs": [
    {
     "data": {
      "text/html": [
       "<div>\n",
       "<style scoped>\n",
       "    .dataframe tbody tr th:only-of-type {\n",
       "        vertical-align: middle;\n",
       "    }\n",
       "\n",
       "    .dataframe tbody tr th {\n",
       "        vertical-align: top;\n",
       "    }\n",
       "\n",
       "    .dataframe thead th {\n",
       "        text-align: right;\n",
       "    }\n",
       "</style>\n",
       "<table border=\"1\" class=\"dataframe\">\n",
       "  <thead>\n",
       "    <tr style=\"text-align: right;\">\n",
       "      <th></th>\n",
       "      <th>customer_id</th>\n",
       "      <th>gender</th>\n",
       "      <th>senior_citizen</th>\n",
       "      <th>partner</th>\n",
       "      <th>dependents</th>\n",
       "      <th>tenure</th>\n",
       "      <th>phone_service</th>\n",
       "      <th>multiple_lines</th>\n",
       "      <th>internet_service_type_id</th>\n",
       "      <th>online_security</th>\n",
       "      <th>...</th>\n",
       "      <th>device_protection</th>\n",
       "      <th>tech_support</th>\n",
       "      <th>streaming_tv</th>\n",
       "      <th>streaming_movies</th>\n",
       "      <th>contract_type_id</th>\n",
       "      <th>paperless_billing</th>\n",
       "      <th>payment_type_id</th>\n",
       "      <th>monthly_charges</th>\n",
       "      <th>total_charges</th>\n",
       "      <th>churn</th>\n",
       "    </tr>\n",
       "  </thead>\n",
       "  <tbody>\n",
       "    <tr>\n",
       "      <th>0</th>\n",
       "      <td>0002-ORFBO</td>\n",
       "      <td>Female</td>\n",
       "      <td>0</td>\n",
       "      <td>Yes</td>\n",
       "      <td>Yes</td>\n",
       "      <td>9</td>\n",
       "      <td>Yes</td>\n",
       "      <td>No</td>\n",
       "      <td>1</td>\n",
       "      <td>No</td>\n",
       "      <td>...</td>\n",
       "      <td>No</td>\n",
       "      <td>Yes</td>\n",
       "      <td>Yes</td>\n",
       "      <td>No</td>\n",
       "      <td>2</td>\n",
       "      <td>Yes</td>\n",
       "      <td>2</td>\n",
       "      <td>65.6</td>\n",
       "      <td>593.3</td>\n",
       "      <td>No</td>\n",
       "    </tr>\n",
       "    <tr>\n",
       "      <th>1</th>\n",
       "      <td>0003-MKNFE</td>\n",
       "      <td>Male</td>\n",
       "      <td>0</td>\n",
       "      <td>No</td>\n",
       "      <td>No</td>\n",
       "      <td>9</td>\n",
       "      <td>Yes</td>\n",
       "      <td>Yes</td>\n",
       "      <td>1</td>\n",
       "      <td>No</td>\n",
       "      <td>...</td>\n",
       "      <td>No</td>\n",
       "      <td>No</td>\n",
       "      <td>No</td>\n",
       "      <td>Yes</td>\n",
       "      <td>1</td>\n",
       "      <td>No</td>\n",
       "      <td>2</td>\n",
       "      <td>59.9</td>\n",
       "      <td>542.4</td>\n",
       "      <td>No</td>\n",
       "    </tr>\n",
       "    <tr>\n",
       "      <th>2</th>\n",
       "      <td>0004-TLHLJ</td>\n",
       "      <td>Male</td>\n",
       "      <td>0</td>\n",
       "      <td>No</td>\n",
       "      <td>No</td>\n",
       "      <td>4</td>\n",
       "      <td>Yes</td>\n",
       "      <td>No</td>\n",
       "      <td>2</td>\n",
       "      <td>No</td>\n",
       "      <td>...</td>\n",
       "      <td>Yes</td>\n",
       "      <td>No</td>\n",
       "      <td>No</td>\n",
       "      <td>No</td>\n",
       "      <td>1</td>\n",
       "      <td>Yes</td>\n",
       "      <td>1</td>\n",
       "      <td>73.9</td>\n",
       "      <td>280.85</td>\n",
       "      <td>Yes</td>\n",
       "    </tr>\n",
       "  </tbody>\n",
       "</table>\n",
       "<p>3 rows × 21 columns</p>\n",
       "</div>"
      ],
      "text/plain": [
       "  customer_id  gender  senior_citizen partner dependents  tenure  \\\n",
       "0  0002-ORFBO  Female               0     Yes        Yes       9   \n",
       "1  0003-MKNFE    Male               0      No         No       9   \n",
       "2  0004-TLHLJ    Male               0      No         No       4   \n",
       "\n",
       "  phone_service multiple_lines  internet_service_type_id online_security  ...  \\\n",
       "0           Yes             No                         1              No  ...   \n",
       "1           Yes            Yes                         1              No  ...   \n",
       "2           Yes             No                         2              No  ...   \n",
       "\n",
       "  device_protection tech_support streaming_tv streaming_movies  \\\n",
       "0                No          Yes          Yes               No   \n",
       "1                No           No           No              Yes   \n",
       "2               Yes           No           No               No   \n",
       "\n",
       "  contract_type_id  paperless_billing payment_type_id  monthly_charges  \\\n",
       "0                2                Yes               2             65.6   \n",
       "1                1                 No               2             59.9   \n",
       "2                1                Yes               1             73.9   \n",
       "\n",
       "   total_charges churn  \n",
       "0          593.3    No  \n",
       "1          542.4    No  \n",
       "2         280.85   Yes  \n",
       "\n",
       "[3 rows x 21 columns]"
      ]
     },
     "execution_count": 2,
     "metadata": {},
     "output_type": "execute_result"
    }
   ],
   "source": [
    "# display data frame\n",
    "df = get_telco_data()\n",
    "\n",
    "df.head(3)"
   ]
  },
  {
   "cell_type": "markdown",
   "metadata": {},
   "source": [
    "# Prepare\n",
    "Prepare, tidy, and clean the data so it can be explored and analyzed\n",
    "***"
   ]
  },
  {
   "cell_type": "markdown",
   "metadata": {},
   "source": [
    "### Checking column names, data types, and null counts"
   ]
  },
  {
   "cell_type": "code",
   "execution_count": 3,
   "metadata": {
    "scrolled": true
   },
   "outputs": [
    {
     "name": "stdout",
     "output_type": "stream",
     "text": [
      "<class 'pandas.core.frame.DataFrame'>\n",
      "RangeIndex: 7043 entries, 0 to 7042\n",
      "Data columns (total 21 columns):\n",
      " #   Column                    Non-Null Count  Dtype  \n",
      "---  ------                    --------------  -----  \n",
      " 0   customer_id               7043 non-null   object \n",
      " 1   gender                    7043 non-null   object \n",
      " 2   senior_citizen            7043 non-null   int64  \n",
      " 3   partner                   7043 non-null   object \n",
      " 4   dependents                7043 non-null   object \n",
      " 5   tenure                    7043 non-null   int64  \n",
      " 6   phone_service             7043 non-null   object \n",
      " 7   multiple_lines            7043 non-null   object \n",
      " 8   internet_service_type_id  7043 non-null   int64  \n",
      " 9   online_security           7043 non-null   object \n",
      " 10  online_backup             7043 non-null   object \n",
      " 11  device_protection         7043 non-null   object \n",
      " 12  tech_support              7043 non-null   object \n",
      " 13  streaming_tv              7043 non-null   object \n",
      " 14  streaming_movies          7043 non-null   object \n",
      " 15  contract_type_id          7043 non-null   int64  \n",
      " 16  paperless_billing         7043 non-null   object \n",
      " 17  payment_type_id           7043 non-null   int64  \n",
      " 18  monthly_charges           7043 non-null   float64\n",
      " 19  total_charges             7043 non-null   object \n",
      " 20  churn                     7043 non-null   object \n",
      "dtypes: float64(1), int64(5), object(15)\n",
      "memory usage: 1.1+ MB\n"
     ]
    }
   ],
   "source": [
    "df.info()"
   ]
  },
  {
   "cell_type": "markdown",
   "metadata": {},
   "source": [
    "- Categorical object variables such as gender, churn and dependents may need to be converted to 0s and 1s\n",
    "- No missing values\n",
    "    - Values with only white space may exist however\n",
    "- Rename tenure to reflect unit of measurement\n",
    "- Convert total_charges to float"
   ]
  },
  {
   "cell_type": "code",
   "execution_count": 4,
   "metadata": {
    "scrolled": false
   },
   "outputs": [
    {
     "name": "stdout",
     "output_type": "stream",
     "text": [
      "Male      3555\n",
      "Female    3488\n",
      "Name: gender, dtype: int64\n",
      "0    5901\n",
      "1    1142\n",
      "Name: senior_citizen, dtype: int64\n",
      "No     3641\n",
      "Yes    3402\n",
      "Name: partner, dtype: int64\n",
      "No     4933\n",
      "Yes    2110\n",
      "Name: dependents, dtype: int64\n",
      "Yes    6361\n",
      "No      682\n",
      "Name: phone_service, dtype: int64\n",
      "No                  3390\n",
      "Yes                 2971\n",
      "No phone service     682\n",
      "Name: multiple_lines, dtype: int64\n",
      "2    3096\n",
      "1    2421\n",
      "3    1526\n",
      "Name: internet_service_type_id, dtype: int64\n",
      "No                     3498\n",
      "Yes                    2019\n",
      "No internet service    1526\n",
      "Name: online_security, dtype: int64\n",
      "No                     3088\n",
      "Yes                    2429\n",
      "No internet service    1526\n",
      "Name: online_backup, dtype: int64\n",
      "No                     3095\n",
      "Yes                    2422\n",
      "No internet service    1526\n",
      "Name: device_protection, dtype: int64\n",
      "No                     3473\n",
      "Yes                    2044\n",
      "No internet service    1526\n",
      "Name: tech_support, dtype: int64\n",
      "No                     2810\n",
      "Yes                    2707\n",
      "No internet service    1526\n",
      "Name: streaming_tv, dtype: int64\n",
      "No                     2785\n",
      "Yes                    2732\n",
      "No internet service    1526\n",
      "Name: streaming_movies, dtype: int64\n",
      "1    3875\n",
      "3    1695\n",
      "2    1473\n",
      "Name: contract_type_id, dtype: int64\n",
      "Yes    4171\n",
      "No     2872\n",
      "Name: paperless_billing, dtype: int64\n",
      "1    2365\n",
      "2    1612\n",
      "3    1544\n",
      "4    1522\n",
      "Name: payment_type_id, dtype: int64\n",
      "No     5174\n",
      "Yes    1869\n",
      "Name: churn, dtype: int64\n"
     ]
    }
   ],
   "source": [
    "# displaying unique values per column to identify categorical variables\n",
    "for col in df:\n",
    "    if col != 'customer_id' and col != 'total_charges' and col != 'monthly_charges' and col != 'tenure':\n",
    "        print(df[col].value_counts())"
   ]
  },
  {
   "cell_type": "markdown",
   "metadata": {},
   "source": [
    "- convert columns with 2 values to 0s and 1s\n",
    "- \"no x service\" values can be converted to \"No\" (soon to be 0)"
   ]
  },
  {
   "cell_type": "markdown",
   "metadata": {},
   "source": [
    "### Preparing data with changes outlined in \"prepare takeaways\" section below using prepare_teclo function from prepare.py"
   ]
  },
  {
   "cell_type": "code",
   "execution_count": 5,
   "metadata": {},
   "outputs": [],
   "source": [
    "train, validate, test = prepare_telco(df)"
   ]
  },
  {
   "cell_type": "markdown",
   "metadata": {},
   "source": [
    "### Prepare Takeaways"
   ]
  },
  {
   "cell_type": "markdown",
   "metadata": {},
   "source": [
    "- converted object columns with binary values to 0s and 1s\n",
    "- renamed gender column to female (female = 1)\n",
    "- renamed tenure to tenure_months\n",
    "- added column for tenure years\n",
    "- removed duplicates\n",
    "- converted total_charges to float\n",
    "- no null values found\n",
    "- 11 white space values in total_charges filed with 0 since client has not been charged yet\n",
    "- split into train, validate, test"
   ]
  },
  {
   "cell_type": "markdown",
   "metadata": {},
   "source": [
    "# Explore\n",
    "I'll begin exploring the prepped data to identify drivers of churn and relationships between variables.\n",
    "***"
   ]
  },
  {
   "cell_type": "code",
   "execution_count": 6,
   "metadata": {
    "scrolled": true
   },
   "outputs": [
    {
     "data": {
      "text/html": [
       "<div>\n",
       "<style scoped>\n",
       "    .dataframe tbody tr th:only-of-type {\n",
       "        vertical-align: middle;\n",
       "    }\n",
       "\n",
       "    .dataframe tbody tr th {\n",
       "        vertical-align: top;\n",
       "    }\n",
       "\n",
       "    .dataframe thead th {\n",
       "        text-align: right;\n",
       "    }\n",
       "</style>\n",
       "<table border=\"1\" class=\"dataframe\">\n",
       "  <thead>\n",
       "    <tr style=\"text-align: right;\">\n",
       "      <th></th>\n",
       "      <th>count</th>\n",
       "      <th>mean</th>\n",
       "      <th>std</th>\n",
       "      <th>min</th>\n",
       "      <th>25%</th>\n",
       "      <th>50%</th>\n",
       "      <th>75%</th>\n",
       "      <th>max</th>\n",
       "    </tr>\n",
       "  </thead>\n",
       "  <tbody>\n",
       "    <tr>\n",
       "      <th>female</th>\n",
       "      <td>7043.0</td>\n",
       "      <td>0.495244</td>\n",
       "      <td>0.500013</td>\n",
       "      <td>0.00</td>\n",
       "      <td>0.00</td>\n",
       "      <td>0.00</td>\n",
       "      <td>1.00</td>\n",
       "      <td>1.00</td>\n",
       "    </tr>\n",
       "    <tr>\n",
       "      <th>senior_citizen</th>\n",
       "      <td>7043.0</td>\n",
       "      <td>0.162147</td>\n",
       "      <td>0.368612</td>\n",
       "      <td>0.00</td>\n",
       "      <td>0.00</td>\n",
       "      <td>0.00</td>\n",
       "      <td>0.00</td>\n",
       "      <td>1.00</td>\n",
       "    </tr>\n",
       "    <tr>\n",
       "      <th>partner</th>\n",
       "      <td>7043.0</td>\n",
       "      <td>0.483033</td>\n",
       "      <td>0.499748</td>\n",
       "      <td>0.00</td>\n",
       "      <td>0.00</td>\n",
       "      <td>0.00</td>\n",
       "      <td>1.00</td>\n",
       "      <td>1.00</td>\n",
       "    </tr>\n",
       "    <tr>\n",
       "      <th>dependents</th>\n",
       "      <td>7043.0</td>\n",
       "      <td>0.299588</td>\n",
       "      <td>0.458110</td>\n",
       "      <td>0.00</td>\n",
       "      <td>0.00</td>\n",
       "      <td>0.00</td>\n",
       "      <td>1.00</td>\n",
       "      <td>1.00</td>\n",
       "    </tr>\n",
       "    <tr>\n",
       "      <th>monthly_tenure</th>\n",
       "      <td>7043.0</td>\n",
       "      <td>32.371149</td>\n",
       "      <td>24.559481</td>\n",
       "      <td>0.00</td>\n",
       "      <td>9.00</td>\n",
       "      <td>29.00</td>\n",
       "      <td>55.00</td>\n",
       "      <td>72.00</td>\n",
       "    </tr>\n",
       "    <tr>\n",
       "      <th>phone_service</th>\n",
       "      <td>7043.0</td>\n",
       "      <td>0.903166</td>\n",
       "      <td>0.295752</td>\n",
       "      <td>0.00</td>\n",
       "      <td>1.00</td>\n",
       "      <td>1.00</td>\n",
       "      <td>1.00</td>\n",
       "      <td>1.00</td>\n",
       "    </tr>\n",
       "    <tr>\n",
       "      <th>multiple_lines</th>\n",
       "      <td>7043.0</td>\n",
       "      <td>0.421837</td>\n",
       "      <td>0.493888</td>\n",
       "      <td>0.00</td>\n",
       "      <td>0.00</td>\n",
       "      <td>0.00</td>\n",
       "      <td>1.00</td>\n",
       "      <td>1.00</td>\n",
       "    </tr>\n",
       "    <tr>\n",
       "      <th>internet_service_type_id</th>\n",
       "      <td>7043.0</td>\n",
       "      <td>1.872923</td>\n",
       "      <td>0.737796</td>\n",
       "      <td>1.00</td>\n",
       "      <td>1.00</td>\n",
       "      <td>2.00</td>\n",
       "      <td>2.00</td>\n",
       "      <td>3.00</td>\n",
       "    </tr>\n",
       "    <tr>\n",
       "      <th>online_security</th>\n",
       "      <td>7043.0</td>\n",
       "      <td>0.286668</td>\n",
       "      <td>0.452237</td>\n",
       "      <td>0.00</td>\n",
       "      <td>0.00</td>\n",
       "      <td>0.00</td>\n",
       "      <td>1.00</td>\n",
       "      <td>1.00</td>\n",
       "    </tr>\n",
       "    <tr>\n",
       "      <th>online_backup</th>\n",
       "      <td>7043.0</td>\n",
       "      <td>0.344881</td>\n",
       "      <td>0.475363</td>\n",
       "      <td>0.00</td>\n",
       "      <td>0.00</td>\n",
       "      <td>0.00</td>\n",
       "      <td>1.00</td>\n",
       "      <td>1.00</td>\n",
       "    </tr>\n",
       "    <tr>\n",
       "      <th>device_protection</th>\n",
       "      <td>7043.0</td>\n",
       "      <td>0.343888</td>\n",
       "      <td>0.475038</td>\n",
       "      <td>0.00</td>\n",
       "      <td>0.00</td>\n",
       "      <td>0.00</td>\n",
       "      <td>1.00</td>\n",
       "      <td>1.00</td>\n",
       "    </tr>\n",
       "    <tr>\n",
       "      <th>tech_support</th>\n",
       "      <td>7043.0</td>\n",
       "      <td>0.290217</td>\n",
       "      <td>0.453895</td>\n",
       "      <td>0.00</td>\n",
       "      <td>0.00</td>\n",
       "      <td>0.00</td>\n",
       "      <td>1.00</td>\n",
       "      <td>1.00</td>\n",
       "    </tr>\n",
       "    <tr>\n",
       "      <th>streaming_tv</th>\n",
       "      <td>7043.0</td>\n",
       "      <td>0.384353</td>\n",
       "      <td>0.486477</td>\n",
       "      <td>0.00</td>\n",
       "      <td>0.00</td>\n",
       "      <td>0.00</td>\n",
       "      <td>1.00</td>\n",
       "      <td>1.00</td>\n",
       "    </tr>\n",
       "    <tr>\n",
       "      <th>streaming_movies</th>\n",
       "      <td>7043.0</td>\n",
       "      <td>0.387903</td>\n",
       "      <td>0.487307</td>\n",
       "      <td>0.00</td>\n",
       "      <td>0.00</td>\n",
       "      <td>0.00</td>\n",
       "      <td>1.00</td>\n",
       "      <td>1.00</td>\n",
       "    </tr>\n",
       "    <tr>\n",
       "      <th>contract_type_id</th>\n",
       "      <td>7043.0</td>\n",
       "      <td>1.690473</td>\n",
       "      <td>0.833755</td>\n",
       "      <td>1.00</td>\n",
       "      <td>1.00</td>\n",
       "      <td>1.00</td>\n",
       "      <td>2.00</td>\n",
       "      <td>3.00</td>\n",
       "    </tr>\n",
       "    <tr>\n",
       "      <th>paperless_billing</th>\n",
       "      <td>7043.0</td>\n",
       "      <td>0.592219</td>\n",
       "      <td>0.491457</td>\n",
       "      <td>0.00</td>\n",
       "      <td>0.00</td>\n",
       "      <td>1.00</td>\n",
       "      <td>1.00</td>\n",
       "      <td>1.00</td>\n",
       "    </tr>\n",
       "    <tr>\n",
       "      <th>payment_type_id</th>\n",
       "      <td>7043.0</td>\n",
       "      <td>2.315633</td>\n",
       "      <td>1.148907</td>\n",
       "      <td>1.00</td>\n",
       "      <td>1.00</td>\n",
       "      <td>2.00</td>\n",
       "      <td>3.00</td>\n",
       "      <td>4.00</td>\n",
       "    </tr>\n",
       "    <tr>\n",
       "      <th>monthly_charges</th>\n",
       "      <td>7043.0</td>\n",
       "      <td>64.761692</td>\n",
       "      <td>30.090047</td>\n",
       "      <td>18.25</td>\n",
       "      <td>35.50</td>\n",
       "      <td>70.35</td>\n",
       "      <td>89.85</td>\n",
       "      <td>118.75</td>\n",
       "    </tr>\n",
       "    <tr>\n",
       "      <th>total_charges</th>\n",
       "      <td>7043.0</td>\n",
       "      <td>2279.734304</td>\n",
       "      <td>2266.794470</td>\n",
       "      <td>0.00</td>\n",
       "      <td>398.55</td>\n",
       "      <td>1394.55</td>\n",
       "      <td>3786.60</td>\n",
       "      <td>8684.80</td>\n",
       "    </tr>\n",
       "    <tr>\n",
       "      <th>churn</th>\n",
       "      <td>7043.0</td>\n",
       "      <td>0.265370</td>\n",
       "      <td>0.441561</td>\n",
       "      <td>0.00</td>\n",
       "      <td>0.00</td>\n",
       "      <td>0.00</td>\n",
       "      <td>1.00</td>\n",
       "      <td>1.00</td>\n",
       "    </tr>\n",
       "    <tr>\n",
       "      <th>is_automatic_payment</th>\n",
       "      <td>7043.0</td>\n",
       "      <td>0.435326</td>\n",
       "      <td>0.495835</td>\n",
       "      <td>0.00</td>\n",
       "      <td>0.00</td>\n",
       "      <td>0.00</td>\n",
       "      <td>1.00</td>\n",
       "      <td>1.00</td>\n",
       "    </tr>\n",
       "    <tr>\n",
       "      <th>tenure_years</th>\n",
       "      <td>7043.0</td>\n",
       "      <td>2.697970</td>\n",
       "      <td>2.045492</td>\n",
       "      <td>0.00</td>\n",
       "      <td>0.80</td>\n",
       "      <td>2.40</td>\n",
       "      <td>4.60</td>\n",
       "      <td>6.00</td>\n",
       "    </tr>\n",
       "  </tbody>\n",
       "</table>\n",
       "</div>"
      ],
      "text/plain": [
       "                           count         mean          std    min     25%  \\\n",
       "female                    7043.0     0.495244     0.500013   0.00    0.00   \n",
       "senior_citizen            7043.0     0.162147     0.368612   0.00    0.00   \n",
       "partner                   7043.0     0.483033     0.499748   0.00    0.00   \n",
       "dependents                7043.0     0.299588     0.458110   0.00    0.00   \n",
       "monthly_tenure            7043.0    32.371149    24.559481   0.00    9.00   \n",
       "phone_service             7043.0     0.903166     0.295752   0.00    1.00   \n",
       "multiple_lines            7043.0     0.421837     0.493888   0.00    0.00   \n",
       "internet_service_type_id  7043.0     1.872923     0.737796   1.00    1.00   \n",
       "online_security           7043.0     0.286668     0.452237   0.00    0.00   \n",
       "online_backup             7043.0     0.344881     0.475363   0.00    0.00   \n",
       "device_protection         7043.0     0.343888     0.475038   0.00    0.00   \n",
       "tech_support              7043.0     0.290217     0.453895   0.00    0.00   \n",
       "streaming_tv              7043.0     0.384353     0.486477   0.00    0.00   \n",
       "streaming_movies          7043.0     0.387903     0.487307   0.00    0.00   \n",
       "contract_type_id          7043.0     1.690473     0.833755   1.00    1.00   \n",
       "paperless_billing         7043.0     0.592219     0.491457   0.00    0.00   \n",
       "payment_type_id           7043.0     2.315633     1.148907   1.00    1.00   \n",
       "monthly_charges           7043.0    64.761692    30.090047  18.25   35.50   \n",
       "total_charges             7043.0  2279.734304  2266.794470   0.00  398.55   \n",
       "churn                     7043.0     0.265370     0.441561   0.00    0.00   \n",
       "is_automatic_payment      7043.0     0.435326     0.495835   0.00    0.00   \n",
       "tenure_years              7043.0     2.697970     2.045492   0.00    0.80   \n",
       "\n",
       "                              50%      75%      max  \n",
       "female                       0.00     1.00     1.00  \n",
       "senior_citizen               0.00     0.00     1.00  \n",
       "partner                      0.00     1.00     1.00  \n",
       "dependents                   0.00     1.00     1.00  \n",
       "monthly_tenure              29.00    55.00    72.00  \n",
       "phone_service                1.00     1.00     1.00  \n",
       "multiple_lines               0.00     1.00     1.00  \n",
       "internet_service_type_id     2.00     2.00     3.00  \n",
       "online_security              0.00     1.00     1.00  \n",
       "online_backup                0.00     1.00     1.00  \n",
       "device_protection            0.00     1.00     1.00  \n",
       "tech_support                 0.00     1.00     1.00  \n",
       "streaming_tv                 0.00     1.00     1.00  \n",
       "streaming_movies             0.00     1.00     1.00  \n",
       "contract_type_id             1.00     2.00     3.00  \n",
       "paperless_billing            1.00     1.00     1.00  \n",
       "payment_type_id              2.00     3.00     4.00  \n",
       "monthly_charges             70.35    89.85   118.75  \n",
       "total_charges             1394.55  3786.60  8684.80  \n",
       "churn                        0.00     1.00     1.00  \n",
       "is_automatic_payment         0.00     1.00     1.00  \n",
       "tenure_years                 2.40     4.60     6.00  "
      ]
     },
     "execution_count": 6,
     "metadata": {},
     "output_type": "execute_result"
    }
   ],
   "source": [
    "# displaying various values for numerical columns (average, quartiles, min, max, etc)\n",
    "# this allows us to get a rough idea of the values within the columns\n",
    "df.describe().T"
   ]
  },
  {
   "cell_type": "markdown",
   "metadata": {},
   "source": [
    "- Senior_citizen: seniors are a minority\n",
    "- Tenure: 72 month max means there are no records older than 6 years\n",
    "- Type_ids for internet_service, contract, and paymenta are already numerical so no need to convert\n",
    "- Monthly_charges: the average monthly payment is 64.76"
   ]
  },
  {
   "cell_type": "code",
   "execution_count": 7,
   "metadata": {},
   "outputs": [
    {
     "data": {
      "text/plain": [
       "<AxesSubplot:>"
      ]
     },
     "execution_count": 7,
     "metadata": {},
     "output_type": "execute_result"
    },
    {
     "data": {
      "image/png": "[encoded data removed]",
      "text/plain": [
       "<Figure size 936x792 with 2 Axes>"
      ]
     },
     "metadata": {
      "needs_background": "light"
     },
     "output_type": "display_data"
    }
   ],
   "source": [
    "# creating a heatmap that will show the correlation of the variables to one another\n",
    "# specifically, I'm interested in the correlation between churn and each other variable\n",
    "corr = train.corr()\n",
    "mask = np.triu(np.ones_like(corr, dtype=bool))\n",
    "f, ax = plt.subplots(figsize=(13, 11))\n",
    "cmap = sns.diverging_palette(230, 20, as_cmap=True)\n",
    "sns.heatmap(corr, mask=mask, cmap=cmap, vmax=.3, center=0, square=True, linewidths=.5, cbar_kws={\"shrink\": .5})"
   ]
  },
  {
   "cell_type": "markdown",
   "metadata": {},
   "source": [
    "These variables show strong connections to churn but I won't explore them for various reasons\n",
    "- contract_type_id\n",
    "    - Can't change per project specifications\n",
    "- monthly_tenure / tenure_years\n",
    "    - Increase as churn lowers but we can only influence it by convincing clients to stay via other variables\n",
    "- total_charges\n",
    "    - Builds up over time the longer a customer has been with us. Not something we can control directly.\n",
    "    \n",
    "The variables that I'll be exploring further because they appear to have strong correlations with churn are\n",
    "- senior citizen\n",
    "- partner\n",
    "- dependents\n",
    "- paperless_billing\n",
    "- is_automatic_payment\n",
    "- monthly_charges"
   ]
  },
  {
   "cell_type": "markdown",
   "metadata": {},
   "source": [
    "## Exploring Individual Variables\n",
    "Note: For all hypothesis tests, all assumptions were met. In cases of differing variance, the equal_var argument was set to \"false\".\n",
    "***"
   ]
  },
  {
   "cell_type": "markdown",
   "metadata": {},
   "source": [
    "## Variable: Monthly_Charges\n",
    "Clients may be cost sensitive and as a result, they may be leaving Telco in order to save money by paying less to a competitor."
   ]
  },
  {
   "cell_type": "markdown",
   "metadata": {},
   "source": [
    "### Monthly_charge (Plot)"
   ]
  },
  {
   "cell_type": "markdown",
   "metadata": {},
   "source": [
    "Plotting to see if a majority of clients who have churned have also had high monthly charges. "
   ]
  },
  {
   "cell_type": "code",
   "execution_count": 8,
   "metadata": {
    "scrolled": false
   },
   "outputs": [
    {
     "data": {
      "text/plain": [
       "Text(0.5, 1.0, 'Non-Churned Clients')"
      ]
     },
     "execution_count": 8,
     "metadata": {},
     "output_type": "execute_result"
    },
    {
     "data": {
      "image/png": "[encoded data removed]",
      "text/plain": [
       "<Figure size 1008x864 with 2 Axes>"
      ]
     },
     "metadata": {
      "needs_background": "light"
     },
     "output_type": "display_data"
    }
   ],
   "source": [
    "# setting figure size\n",
    "plt.figure(figsize=(14,12))\n",
    "\n",
    "# plotting churned customer monthly charges data\n",
    "plt.subplot(221)\n",
    "churn_vs_monthly_charges = train[train.churn == 1].monthly_charges\n",
    "churn_vs_monthly_charges.hist(color='orange')\n",
    "plt.xlabel('monthly_charge', fontsize = 20)\n",
    "plt.ylabel('# of clients', fontsize = 20)\n",
    "plt.title('Churned Clients', fontsize = 20)\n",
    "\n",
    "# plotting non-churned customer monthly charges data\n",
    "plt.subplot(222)\n",
    "churn_vs_monthly_charges = train[train.churn == 0].monthly_charges\n",
    "churn_vs_monthly_charges.hist(color = 'green')\n",
    "plt.xlabel('monthly_charge', fontsize = 20)\n",
    "plt.ylabel('# of clients', fontsize = 20)\n",
    "plt.title('Non-Churned Clients', fontsize = 20)"
   ]
  },
  {
   "cell_type": "markdown",
   "metadata": {},
   "source": [
    "- It appears that clients who have churned payed more per month that clients who have not churned."
   ]
  },
  {
   "cell_type": "markdown",
   "metadata": {},
   "source": [
    "### Monthly_charge (Hypothesis Test)\n",
    "Running a one-tailed, two-sample t-test to further explore this variable."
   ]
  },
  {
   "cell_type": "markdown",
   "metadata": {},
   "source": [
    "__Idea:__ I believe churned clients have had higher monthly charges on average than clients who have not churned\n",
    "<br>\n",
    "__H0:__ Churned customer average monthly_charges <=  Non-Churned customer average monthly_charges\n",
    "<br>\n",
    "__Ha:__ Churned customer average monthly_charges >  Non-Churned customer average monthly_charges"
   ]
  },
  {
   "cell_type": "code",
   "execution_count": 9,
   "metadata": {},
   "outputs": [
    {
     "name": "stdout",
     "output_type": "stream",
     "text": [
      "t =  13.714038979262032 \n",
      "\n",
      "p =  1.6002099781261748e-41 \n",
      "\n",
      "t > 0 and p < alpha so I reject the null hypothesis.\n",
      "\n",
      "The sign of the t value (negative or positive) matters since this is a \"greater than\" test.\n"
     ]
    }
   ],
   "source": [
    "# Running a one-tailed, two-sample t-test\n",
    "\n",
    "# setting alpha\n",
    "test_1_alpha = .05\n",
    "\n",
    "# creating DFs for churned and non-churned monthly charges\n",
    "churn_monthly_charge = train[(train.churn == 1)].monthly_charges\n",
    "no_churn_monthly_charge = train[(train.churn == 0)].monthly_charges\n",
    "\n",
    "# running test\n",
    "t_1, p_1 = stats.ttest_ind(churn_monthly_charge, no_churn_monthly_charge, equal_var = False)\n",
    "\n",
    "# printing results\n",
    "print('t = ',t_1,'\\n')\n",
    "print('p = ',p_1/2,'\\n')\n",
    "\n",
    "if p_1/2 > test_1_alpha:\n",
    "    print('We fail to reject H0, there is no difference in monthly charges between churned and non-churned clients')\n",
    "elif t_1 < 0:\n",
    "    print('We fail to reject H0, there is no difference in monthly charges between churned and non-churned clients')\n",
    "else:\n",
    "    print('t > 0 and p < alpha so I reject the null hypothesis.\\n')\n",
    "    print('The sign of the t value (negative or positive) matters since this is a \"greater than\" test.')"
   ]
  },
  {
   "cell_type": "markdown",
   "metadata": {},
   "source": [
    "###  Monthly Charges Takeaways\n",
    "- Plot showed that churned clients were paying more per month than non-churned customers on average.\n",
    "    - Hypothesis test reinforced this finding\n",
    "- This could mean that many of our customers are price sensitive and as a result, high monthly charges were at least a moderate factor in the decision to leave."
   ]
  },
  {
   "cell_type": "markdown",
   "metadata": {},
   "source": [
    "## Variable: Partner\n",
    "Partners being on an account together can create an exit barrier for clients because they prefer to be on an account with their partner and don't want to have to both go through the process of signing up for a new service. \n",
    "***"
   ]
  },
  {
   "cell_type": "markdown",
   "metadata": {},
   "source": [
    "### Partner (Plot)"
   ]
  },
  {
   "cell_type": "markdown",
   "metadata": {},
   "source": [
    "Plotting to see if clients who have a partner on their account are retained longer than clients without partners."
   ]
  },
  {
   "cell_type": "code",
   "execution_count": 10,
   "metadata": {
    "scrolled": false
   },
   "outputs": [
    {
     "data": {
      "text/plain": [
       "Text(0.5, 1.0, 'Clients w/o Partner')"
      ]
     },
     "execution_count": 10,
     "metadata": {},
     "output_type": "execute_result"
    },
    {
     "data": {
      "image/png": "[encoded data removed]",
      "text/plain": [
       "<Figure size 1008x864 with 2 Axes>"
      ]
     },
     "metadata": {
      "needs_background": "light"
     },
     "output_type": "display_data"
    }
   ],
   "source": [
    "# setting figure size\n",
    "plt.figure(figsize=(14,12))\n",
    "\n",
    "# creating plot of clients w/partner monthly tenure\n",
    "plt.subplot(221)\n",
    "partner_tenure = (train[train.partner == 1].monthly_tenure)\n",
    "partner_tenure.hist(color = 'purple')\n",
    "plt.xlabel('monthly_tenure', fontsize = 20)\n",
    "plt.ylabel('# of clients', fontsize = 20)\n",
    "plt.title('Clients w/ Partner', fontsize = 20)\n",
    "\n",
    "# creating plot of clients w/partner monthly tenure\n",
    "plt.subplot(222)\n",
    "no_partner_tenure = (train[train.partner == 0].monthly_tenure)\n",
    "no_partner_tenure.hist(color = 'teal')\n",
    "plt.xlabel('monthly_tenure', fontsize = 20)\n",
    "plt.ylabel('# of clients', fontsize = 20)\n",
    "plt.title('Clients w/o Partner', fontsize = 20)"
   ]
  },
  {
   "cell_type": "markdown",
   "metadata": {},
   "source": [
    "Plot takeaway: Clients with partners on their accounts seem to have higher monthly tenure than clients without partners."
   ]
  },
  {
   "cell_type": "markdown",
   "metadata": {},
   "source": [
    "### Partner (Hypothesis Test)\n",
    "Running a one-tailed, two-sample t-test to further explore this variable."
   ]
  },
  {
   "cell_type": "markdown",
   "metadata": {},
   "source": [
    "__Idea:__ Clients with partners stay with us longer than those without partners.\n",
    "<br>\n",
    "__H0:__ Average monthly tenure of clients with partners <= monthly tenure of clients without partners\n",
    "<br>\n",
    "__Ha:__ Average monthly tenure of clients with partners > monthly tenure of clients without partners"
   ]
  },
  {
   "cell_type": "code",
   "execution_count": 11,
   "metadata": {},
   "outputs": [
    {
     "name": "stdout",
     "output_type": "stream",
     "text": [
      "t =  26.69141466582996 \n",
      "\n",
      "p =  1.7388736395136545e-144 \n",
      "\n",
      "t > 0 and p < alpha so we reject the null hypothesis.\n",
      "\n",
      "The sign of the t value (negative or positive) matters since this is a \"greater than\" test\n"
     ]
    }
   ],
   "source": [
    "# Running a one-tailed, two-sample t-test \n",
    "\n",
    "# setting alpha\n",
    "test_2_alpha = .05\n",
    "\n",
    "# creating DFs for monthly tenure of clients with and without partners\n",
    "partner_tenure = train[(train.partner == 1)].monthly_tenure\n",
    "nopartner_tenure = train[(train.partner == 0)].monthly_tenure\n",
    "\n",
    "# running t-test\n",
    "t_2, p_2 = stats.ttest_ind(partner_tenure, nopartner_tenure, equal_var = False)\n",
    "\n",
    "\n",
    "# printing results\n",
    "print('t = ',t_2,'\\n')\n",
    "print('p = ',p_2/2,'\\n')\n",
    "\n",
    "if p_2/2 > test_2_alpha:\n",
    "    print('I fail to reject H0, there is no difference in monthly tenure between clients with partners and those without')\n",
    "elif t_2 < 0:\n",
    "    print('I fail to reject H0, there is no difference in monthly tenure between clients with partners and those without')\n",
    "else:\n",
    "    print('t > 0 and p < alpha so we reject the null hypothesis.\\n')\n",
    "    print('The sign of the t value (negative or positive) matters since this is a \"greater than\" test')"
   ]
  },
  {
   "cell_type": "markdown",
   "metadata": {},
   "source": [
    "### Partner Takeaways\n",
    "- Plots showed that clients with partners have longer monthly tenures than those without partners.\n",
    "    - Hypothesis tests gave further evidence of this\n",
    "- This could mean that customers are motivated to stay with Telco when their partner is on their account because they'd prefer to avoid the process of switching over both of their services a different provider."
   ]
  },
  {
   "cell_type": "markdown",
   "metadata": {},
   "source": [
    "## Variable: Dependents\n",
    "Just as having a partner on an account can create an exit barrier for a customer, the same can hold true for dependents. Some clients may prefer to remain with Telco in order to avoid having to switch all of their depedents along with themselves to a new service.\n",
    "***"
   ]
  },
  {
   "cell_type": "markdown",
   "metadata": {},
   "source": [
    "### Depedents (plot)\n",
    "Plotting to see if clients who have a partner on their account stay with Telco longer than clients without partners."
   ]
  },
  {
   "cell_type": "code",
   "execution_count": 12,
   "metadata": {},
   "outputs": [
    {
     "data": {
      "text/plain": [
       "Text(0.5, 1.0, 'Clients w/o dependent')"
      ]
     },
     "execution_count": 12,
     "metadata": {},
     "output_type": "execute_result"
    },
    {
     "data": {
      "image/png": "[encoded data removed]",
      "text/plain": [
       "<Figure size 1008x864 with 2 Axes>"
      ]
     },
     "metadata": {
      "needs_background": "light"
     },
     "output_type": "display_data"
    }
   ],
   "source": [
    "# setting figure size\n",
    "plt.figure(figsize=(14,12))\n",
    "\n",
    "# creating plot of clients w/dependents monthly tenure\n",
    "plt.subplot(221)\n",
    "dependent_tenure = (train[train.dependents == 1].monthly_tenure)\n",
    "dependent_tenure.hist(color = 'cyan')\n",
    "plt.xlabel('monthly_tenure', fontsize = 20)\n",
    "plt.ylabel('# of clients', fontsize = 20)\n",
    "plt.title('Clients w/ dependent', fontsize = 20)\n",
    "\n",
    "# creating plot of clients w/dependents monthly tenure\n",
    "plt.subplot(222)\n",
    "no_dependent_tenure = (train[train.dependents == 0].monthly_tenure)\n",
    "no_dependent_tenure.hist(color = 'brown')\n",
    "plt.xlabel('monthly_tenure', fontsize = 20)\n",
    "plt.ylabel('# of clients', fontsize = 20)\n",
    "plt.title('Clients w/o dependent', fontsize = 20)"
   ]
  },
  {
   "cell_type": "markdown",
   "metadata": {},
   "source": [
    "Plot takeaway: Clients with dependents on their accounts seem to have higher monthly tenure than clients without dependents."
   ]
  },
  {
   "cell_type": "markdown",
   "metadata": {},
   "source": [
    "### Dependent (Hypothesis Test)\n",
    "Running a one-tailed, two-sample t-test to further explore this variable."
   ]
  },
  {
   "cell_type": "markdown",
   "metadata": {},
   "source": [
    "__Idea__: Clients with dependents stay with Telco longer than those without dependents.\n",
    "<br>\n",
    "__H0__: Monthly tenure of clients with dependents <= monthly tenure of clients without dependents\n",
    "<br>\n",
    "__Ha__: Monthly tenure of clients with dependents > monthly tenure of clients without dependents"
   ]
  },
  {
   "cell_type": "code",
   "execution_count": 13,
   "metadata": {},
   "outputs": [
    {
     "name": "stdout",
     "output_type": "stream",
     "text": [
      "t =  11.308630261450755 \n",
      "\n",
      "p =  3.517064650495694e-29 \n",
      "\n",
      "t > 0 and p < alpha so we reject the null hypothesis.\n",
      "\n",
      "The sign of the t value (negative or positive) matters since this is a \"greater than\" test\n"
     ]
    }
   ],
   "source": [
    "# Running a one-tailed, two-sample t-test\n",
    "\n",
    "# setting alpha\n",
    "test_3_alpha = .05\n",
    "\n",
    "# creating DFs for monthly tenure of clients with and without dependents\n",
    "dependent_tenure = train[(train.dependents == 1)].monthly_tenure\n",
    "nodependent_tenure = train[(train.dependents == 0)].monthly_tenure\n",
    "\n",
    "# running t-test\n",
    "t_3, p_3 = stats.ttest_ind(dependent_tenure, nodependent_tenure, equal_var = False)\n",
    "\n",
    "\n",
    "# printing results\n",
    "print('t = ',t_3,'\\n')\n",
    "print('p = ',p_3/2,'\\n')\n",
    "\n",
    "if p_3/2 > test_3_alpha:\n",
    "    print('I fail to reject H0, there is no difference in monthly tenure between clients with dependents and those without')\n",
    "elif t_3 < 0:\n",
    "    print('I fail to reject H0, there is no difference in monthly tenure between clients with dependents and those without')\n",
    "else:\n",
    "    print('t > 0 and p < alpha so we reject the null hypothesis.\\n')\n",
    "    print('The sign of the t value (negative or positive) matters since this is a \"greater than\" test')"
   ]
  },
  {
   "cell_type": "markdown",
   "metadata": {},
   "source": [
    "### Dependents Takeaways\n",
    "- Plots showed that clients with dependents have longer monthly tenures than those without dependents.\n",
    "    - Hypothesis gave further evidence of this\n",
    "- This suggests Telco's customers are motivated to stay when a dependent is on their account because they'd prefer to avoid the process of switching their services to a different provider."
   ]
  },
  {
   "cell_type": "markdown",
   "metadata": {},
   "source": [
    "## Varialbe: Automatic_payment\n",
    "***\n",
    "Convenience is a major selling point for many consumers. The value that clients glean from using automatic payment methods may play a significant role in Telco's ability to retain them."
   ]
  },
  {
   "cell_type": "markdown",
   "metadata": {},
   "source": [
    "### Automatic_payment (plot)\n",
    "Plotting to see if clients who use automatic payments stay with Telco longer than clients who make payments manually."
   ]
  },
  {
   "cell_type": "code",
   "execution_count": 14,
   "metadata": {
    "scrolled": true
   },
   "outputs": [
    {
     "data": {
      "text/plain": [
       "Text(0.5, 1.0, 'Clients w/ Manual Payments')"
      ]
     },
     "execution_count": 14,
     "metadata": {},
     "output_type": "execute_result"
    },
    {
     "data": {
      "image/png": "[encoded data removed]",
      "text/plain": [
       "<Figure size 1008x864 with 2 Axes>"
      ]
     },
     "metadata": {
      "needs_background": "light"
     },
     "output_type": "display_data"
    }
   ],
   "source": [
    "# setting figure size\n",
    "plt.figure(figsize=(14,12))\n",
    "\n",
    "# creating plot of clients w/automatic payment monthly tenure\n",
    "plt.subplot(221)\n",
    "automatic_tenure = (train[train.is_automatic_payment == 1].monthly_tenure)\n",
    "automatic_tenure.hist(color = 'skyblue')\n",
    "plt.xlabel('monthly_tenure', fontsize = 20)\n",
    "plt.ylabel('# of clients', fontsize = 20)\n",
    "plt.title('Clients w/ Automatic Payments', fontsize = 20)\n",
    "\n",
    "# creating plot of clients w/manual payment monthly tenure\n",
    "plt.subplot(222)\n",
    "manual_tenure = (train[train.is_automatic_payment == 0].monthly_tenure)\n",
    "manual_tenure.hist(color = 'violet')\n",
    "plt.xlabel('monthly_tenure', fontsize = 20)\n",
    "plt.ylabel('# of clients', fontsize = 20)\n",
    "plt.title('Clients w/ Manual Payments', fontsize = 20)"
   ]
  },
  {
   "cell_type": "markdown",
   "metadata": {},
   "source": [
    "Plot takeaway: Clients with dependents on their accounts seem to have higher monthly tenure than clients without dependents."
   ]
  },
  {
   "cell_type": "markdown",
   "metadata": {},
   "source": [
    "### Automatic Payment (Hypothesis Test)\n",
    "Running a two-sample one-tailed t-test to explore this variable further"
   ]
  },
  {
   "cell_type": "markdown",
   "metadata": {},
   "source": [
    "__Idea:__ Clients who make payments automatically stay with us longer than those who make payments manually.\n",
    "<br>\n",
    "__H0:__ Monthly tenure of clients making automatic payments <= monthly tenure of clients making payments manually \n",
    "<br>\n",
    "__Ha:__ Monthly tenure of clients making automatic payments > monthly tenure of clients making payments manually "
   ]
  },
  {
   "cell_type": "code",
   "execution_count": 15,
   "metadata": {
    "scrolled": true
   },
   "outputs": [
    {
     "name": "stdout",
     "output_type": "stream",
     "text": [
      "t =  27.876885462659963 \n",
      "\n",
      "p =  2.1306049814062135e-155 \n",
      "\n",
      "t > 0 and p < alpha so we reject the null hypothesis.\n",
      "\n",
      "The sign of the t value (negative or positive) matters since this is a \"greater than\" test\n"
     ]
    }
   ],
   "source": [
    "# Running a one-tailed, two-sample t-test\n",
    "\n",
    "# setting alpha\n",
    "alpha = .05\n",
    "\n",
    "# creating DFs for monthly tenure of clients who make automatic and manual payments\n",
    "automatic_tenure = train[(train.is_automatic_payment == 1)].monthly_tenure\n",
    "manual_tenure = train[(train.is_automatic_payment  == 0)].monthly_tenure\n",
    "\n",
    "# running t-test\n",
    "t_4, p_4 = stats.ttest_ind(automatic_tenure, manual_tenure, equal_var = False)\n",
    "\n",
    "# printing results\n",
    "print('t = ',t_4,'\\n')\n",
    "print('p = ',p_4/2,'\\n')\n",
    "\n",
    "if p_4/2 > alpha:\n",
    "    print('I fail to reject H0, there is no difference in monthly tenure between clients with automatic payments and those with manual.')\n",
    "elif t_4 < 0:\n",
    "    print('I fail to reject H0, there is no difference in monthly tenure between clients with automatic payments and those with manual.')\n",
    "else:\n",
    "    print('t > 0 and p < alpha so we reject the null hypothesis.\\n')\n",
    "    print('The sign of the t value (negative or positive) matters since this is a \"greater than\" test')"
   ]
  },
  {
   "cell_type": "markdown",
   "metadata": {},
   "source": [
    "### Automatic Payment Takeaways\n",
    "- Plots showed that clients who make payments automatically have longer monthly tenures than those who do so manually.\n",
    "    -  Hypothesis test provided further evidence of this\n",
    "- It's possible that our customers appreciate the convenience of automatic payments and find value in it."
   ]
  },
  {
   "cell_type": "markdown",
   "metadata": {},
   "source": [
    "## Variable: Senior_Citizen"
   ]
  },
  {
   "cell_type": "markdown",
   "metadata": {},
   "source": [
    "### Senior Citizen (Hypothesis Test)\n",
    "Running a two-sample two-tailed t-test to explore this variable further"
   ]
  },
  {
   "cell_type": "markdown",
   "metadata": {},
   "source": [
    "__Idea:__ Are seniors leaving Telco sooner or later than non-seniors on average?\n",
    "<br>\n",
    "__H0:__ Monthly tenure of seniors = Monthly tenure of non seniors\n",
    "<br>\n",
    "__Ha:__ Monthly tenure of seniors != Monthly tenure of non seniors"
   ]
  },
  {
   "cell_type": "code",
   "execution_count": 16,
   "metadata": {},
   "outputs": [
    {
     "name": "stdout",
     "output_type": "stream",
     "text": [
      "alpha = .05\n",
      "p: 0.38648052790561027\n",
      "\n",
      "Since p > alpha (.05), I fail to reject the null hypothesis.\n"
     ]
    }
   ],
   "source": [
    "# creating DFs for seniors and non-seniors\n",
    "senior_tenure = train[(train.senior_citizen == 1)].monthly_tenure\n",
    "nonsenior_tenure = train[(train.senior_citizen == 0)].monthly_tenure\n",
    "\n",
    "# performing two-tailed, two-sample t-test\n",
    "t, p = stats.ttest_ind(senior_tenure, nonsenior_tenure, equal_var = False)\n",
    "\n",
    "# printing results\n",
    "print('alpha = .05')\n",
    "print(f'p: {p}')\n",
    "\n",
    "print('\\nSince p > alpha (.05), I fail to reject the null hypothesis.')"
   ]
  },
  {
   "cell_type": "markdown",
   "metadata": {},
   "source": [
    "- Hypothesis test shows there is no difference in monthly tenure between seniors and non-seniors. \n",
    "- Given this, I won't explore senior status further as a driver of churn."
   ]
  },
  {
   "cell_type": "markdown",
   "metadata": {},
   "source": [
    "## Variable: Paperless Billing"
   ]
  },
  {
   "cell_type": "markdown",
   "metadata": {},
   "source": [
    "### Paperless Billing (Hypothesis Test)\n",
    "Running a two-sample two-tailed t-test to explore this variable further"
   ]
  },
  {
   "cell_type": "markdown",
   "metadata": {},
   "source": [
    "__Idea:__ Are paperless billing customers leaving leaving us sooner or later than non-paperless billing customers on average?\n",
    "<br>\n",
    "__H0:__ Monthly tenure of paperless billing customers = Monthly tenure of non-paperless billing customers\n",
    "<br>\n",
    "__Ha:__ Monthly tenure of paperless billing customers != Monthly tenure of non-paperless billing customers"
   ]
  },
  {
   "cell_type": "code",
   "execution_count": 17,
   "metadata": {},
   "outputs": [
    {
     "name": "stdout",
     "output_type": "stream",
     "text": [
      "alpha = .05\n",
      "p: 0.5605403707371726\n",
      "\n",
      "Since p > alpha (.05), I fail to reject the null hypothesis. The monthly tenure of paperless billing customers is no different than the monthly tenure of non-paperless billing customers.\n"
     ]
    }
   ],
   "source": [
    "# creating DFs for customers with paperless billing and without paperless billing\n",
    "paperless_tenure = train[(train.paperless_billing == 1)].monthly_tenure\n",
    "nopaperless_tenure = train[(train.paperless_billing == 0)].monthly_tenure\n",
    "\n",
    "# performing two-sample two-tailed t-test\n",
    "t, p = stats.ttest_ind(paperless_tenure, nopaperless_tenure, equal_var = False)\n",
    "\n",
    "# printing results\n",
    "print('alpha = .05')\n",
    "print(f'p: {p}')\n",
    "\n",
    "print('\\nSince p > alpha (.05), I fail to reject the null hypothesis. The monthly tenure of paperless billing customers is no different than the monthly tenure of non-paperless billing customers.')"
   ]
  },
  {
   "cell_type": "markdown",
   "metadata": {},
   "source": [
    "- Hypothesis test shows there is no difference in monthly tenure between paperless billing and non-paperless billing customers\n",
    "- Given this, I won't explore paperless billing further as a driver of churn."
   ]
  },
  {
   "cell_type": "markdown",
   "metadata": {},
   "source": [
    "## Overall Exploration Takeaways\n",
    "\n",
    "- These variables were explored but were found to have weak or little connection to churn\n",
    "    * senior_citizen\n",
    "    * paperless_billing\n",
    "<br>\n",
    "<br>\n",
    "- These variables show strong connections to churn but I did not explore them further for various reasons\n",
    "    * contract_type_id \n",
    "        * Can't change per project specifications\n",
    "    * monthly_tenure / tenure_years \n",
    "        * Increases as churn lowers but we can only influence it by convincing clients to stay via other      variables\n",
    "    * total_charges\n",
    "        * Builds up over time the longer a customer has been with us. Not something we can control directly.\n",
    "<br>\n",
    "<br>\n",
    "- Via plotting and hypothesis testing I found evidence that suggests the following:\n",
    "    - Clients who have churned had larger monthly charges than those who have not churned\n",
    "    - Clients with partners stay with Telco longer than those without\n",
    "    - Clients with dependents stay with Telco longer than those without\n",
    "    - Clients who make automatic payments stay with Telco longer than those who make payments manually\n",
    "<br>\n",
    "<br>\n",
    "- These findings suggest that the following are drivers of churn:\n",
    "    - Large monthly charges (monthly_charges)\n",
    "    - No partner on account (partner)\n",
    "    - No dependents on account (dependents)\n",
    "    - Making payments manually (is_payment_automatic)"
   ]
  },
  {
   "cell_type": "markdown",
   "metadata": {},
   "source": [
    "# Modeling\n",
    "I will use the variables that I have found to be related to churn to create a model that will predict if a customer will churn.\n",
    "***"
   ]
  },
  {
   "cell_type": "markdown",
   "metadata": {},
   "source": [
    "### Calculating average number of churned customers in dataset"
   ]
  },
  {
   "cell_type": "code",
   "execution_count": 18,
   "metadata": {
    "scrolled": true
   },
   "outputs": [
    {
     "data": {
      "text/plain": [
       "0.2662946994674106"
      ]
     },
     "execution_count": 18,
     "metadata": {},
     "output_type": "execute_result"
    }
   ],
   "source": [
    "train['churn'].mean()"
   ]
  },
  {
   "cell_type": "markdown",
   "metadata": {},
   "source": [
    "### Choosing a performance metric (accuracy, recall, precision, f1-score, etc.)\n",
    "- False positives (expecting a customer will churn when they won't) can be costly since we may expend resources to keep them when they were going to stay anyway\n",
    "- False negatives (expecting a customer will stay when they will leave) can also be costly since we'll be losing a paying customer\n",
    "- Losing an existing customer is probably more expensive than using resources to keep a customer who intends to stay regardless\n",
    "\n",
    "In light of these points, I'll judge each model based on it's __accuracy__ and __recall__ scores\n",
    "- Accuracy gauges how often the model made a correct prediction overall\n",
    "- Recall guages the percent of true positives out of all actual positives. So it's a good metric to use if my aim is to avoid false negatives (since more false negatives = lower recall).\n",
    "    - This is valuable since I expect false negatives (model predicts customer will stay when they wont and we make no effort to retain them) to be the most costly outcome, thus I want to the model to capture as many actual positives (customers who will in fact churn) as it can, so we can make efforts to retain them\n"
   ]
  },
  {
   "cell_type": "markdown",
   "metadata": {},
   "source": [
    "# Modeling (Train)\n",
    "In this phase I will create 3 models that will attempt to predict which customers churn in the train data set. The two best models that surpass the baseline model's performance will be used on the validation data set.\n",
    "***"
   ]
  },
  {
   "cell_type": "markdown",
   "metadata": {},
   "source": [
    "## Baseline (Train)\n",
    "Constructing a baseline and gauge its accuracy to determine what accuracy an alternate model would need in order to be viable.\n",
    "\n",
    "Since most client's did not churn in the data, I'll make that the constant prediction of the baseline.\n",
    "***"
   ]
  },
  {
   "cell_type": "code",
   "execution_count": 19,
   "metadata": {},
   "outputs": [],
   "source": [
    "# copying train DF since I'm going to add a new column and I don't want to alter the train table yet\n",
    "train_bl = train\n",
    "\n",
    "# adding \"baseline_prediction column\"\n",
    "# predicts no one will churn since not churning (0) is the most common value\n",
    "train_bl['baseline_prediction'] = 0"
   ]
  },
  {
   "cell_type": "code",
   "execution_count": 20,
   "metadata": {},
   "outputs": [
    {
     "name": "stdout",
     "output_type": "stream",
     "text": [
      "              precision    recall  f1-score   support\n",
      "\n",
      "           0       0.73      1.00      0.85      2893\n",
      "           1       0.00      0.00      0.00      1050\n",
      "\n",
      "    accuracy                           0.73      3943\n",
      "   macro avg       0.37      0.50      0.42      3943\n",
      "weighted avg       0.54      0.73      0.62      3943\n",
      "\n"
     ]
    }
   ],
   "source": [
    "print(classification_report(train.churn, train.baseline_prediction))"
   ]
  },
  {
   "cell_type": "markdown",
   "metadata": {},
   "source": [
    "- Baseline Accuracy: 73%\n",
    "- Baseline Recall: 0%"
   ]
  },
  {
   "cell_type": "markdown",
   "metadata": {},
   "source": [
    "## Model 1 (Train)"
   ]
  },
  {
   "cell_type": "markdown",
   "metadata": {},
   "source": [
    "__Name__: Model 1\n",
    "<br>\n",
    "<br>\n",
    "__Type__: K-Nearest Neighbor\n",
    "<br>\n",
    "<br>\n",
    "__Features__:\n",
    "- is_automatic_payment\n",
    "- dependents\n",
    "- partner\n",
    "- monthly_charges\n",
    "<br>\n",
    "\n",
    "__Hyper Parameters__:\n",
    "- Default\n",
    "    - n_neighbors = 3\n",
    "    - weights = 'uniform'"
   ]
  },
  {
   "cell_type": "code",
   "execution_count": 21,
   "metadata": {},
   "outputs": [],
   "source": [
    "# creating logistic regression object\n",
    "knn = KNeighborsClassifier(n_neighbors=5, weights = 'uniform')\n",
    "\n",
    "# creating DF with selected features for logistic regression model\n",
    "m1_X_train = train[['is_automatic_payment','dependents','partner','monthly_charges']]\n",
    "m1_y_train = train['churn']\n",
    "\n",
    "# fitting model to data\n",
    "knn.fit(m1_X_train, m1_y_train)\n",
    "\n",
    "# making predictions on x train\n",
    "m1_y_pred = pd.DataFrame(knn.predict(m1_X_train))"
   ]
  },
  {
   "cell_type": "code",
   "execution_count": 22,
   "metadata": {},
   "outputs": [
    {
     "name": "stdout",
     "output_type": "stream",
     "text": [
      "              precision    recall  f1-score   support\n",
      "\n",
      "           0       0.84      0.91      0.87      2893\n",
      "           1       0.68      0.51      0.58      1050\n",
      "\n",
      "    accuracy                           0.80      3943\n",
      "   macro avg       0.76      0.71      0.73      3943\n",
      "weighted avg       0.79      0.80      0.80      3943\n",
      "\n"
     ]
    }
   ],
   "source": [
    "print(classification_report(m1_y_train, m1_y_pred))"
   ]
  },
  {
   "cell_type": "markdown",
   "metadata": {},
   "source": [
    "- Model 1 Accuracy: 80%\n",
    "- Model 1  Recall: 51%"
   ]
  },
  {
   "cell_type": "markdown",
   "metadata": {},
   "source": [
    "## Model 2"
   ]
  },
  {
   "cell_type": "markdown",
   "metadata": {},
   "source": [
    "__Name__: Model 2\n",
    "<br>\n",
    "<br>\n",
    "__Type__: Random Forest\n",
    "<br>\n",
    "<br>\n",
    "__Features__:\n",
    "- is_automatic_payment\n",
    "- monthly_charges\n",
    "<br>\n",
    "\n",
    "__Hyper Parameters__:\n",
    "- max depth = 5\n",
    "- random_state = 123"
   ]
  },
  {
   "cell_type": "code",
   "execution_count": 23,
   "metadata": {},
   "outputs": [],
   "source": [
    "# creating random forest object\n",
    "m2_rf = RandomForestClassifier(max_depth = 5, random_state=123)\n",
    "\n",
    "# creating DF with selected features for d tree\n",
    "m2_X_train = train[['is_automatic_payment','dependents','partner','monthly_charges']]\n",
    "m2_y_train = train['churn']\n",
    "\n",
    "# fitting d tree to data\n",
    "m2_rf.fit(m2_X_train, m2_y_train)\n",
    "\n",
    "# making predictions about churn on train data\n",
    "m2_y_pred = pd.DataFrame(m2_rf.predict(m2_X_train))"
   ]
  },
  {
   "cell_type": "code",
   "execution_count": 24,
   "metadata": {},
   "outputs": [
    {
     "name": "stdout",
     "output_type": "stream",
     "text": [
      "              precision    recall  f1-score   support\n",
      "\n",
      "           0       0.78      0.91      0.84      2893\n",
      "           1       0.57      0.31      0.40      1050\n",
      "\n",
      "    accuracy                           0.75      3943\n",
      "   macro avg       0.68      0.61      0.62      3943\n",
      "weighted avg       0.73      0.75      0.73      3943\n",
      "\n"
     ]
    }
   ],
   "source": [
    "print(classification_report(m2_y_train, m2_y_pred))"
   ]
  },
  {
   "cell_type": "markdown",
   "metadata": {},
   "source": [
    "- Model 2 Accuracy: 75%\n",
    "- Model 2 Recall: 31%"
   ]
  },
  {
   "cell_type": "markdown",
   "metadata": {},
   "source": [
    "## Model 3"
   ]
  },
  {
   "cell_type": "markdown",
   "metadata": {},
   "source": [
    "__Name__: Model 3\n",
    "<br>\n",
    "<br>\n",
    "__Type__: Logistic Regression\n",
    "<br>\n",
    "<br>\n",
    "__Features__:\n",
    "- is_automatic_payment\n",
    "- dependents\n",
    "- partner\n",
    "- monthly_charges\n",
    "<br>\n",
    "\n",
    "\n",
    "__Hyper Parameters__:\n",
    " - random_state = 123\n",
    "\n",
    "__Note__: Changed model type to Logistic Regression from Decision Tree"
   ]
  },
  {
   "cell_type": "code",
   "execution_count": 25,
   "metadata": {},
   "outputs": [],
   "source": [
    "# creating logistic regression object\n",
    "m3_logit = LogisticRegression(random_state=123)\n",
    "\n",
    "# creating DF with selected features for logistic regression model\n",
    "m3_X_train = train[['is_automatic_payment','dependents','partner','monthly_charges']]\n",
    "m3_y_train = train['churn']\n",
    "\n",
    "# fitting model to data\n",
    "m3_logit.fit(m3_X_train, m3_y_train)\n",
    "\n",
    "# making predictions on train dataset\n",
    "m3_y_pred = pd.DataFrame(m3_logit.predict(m3_X_train))"
   ]
  },
  {
   "cell_type": "code",
   "execution_count": 26,
   "metadata": {
    "scrolled": true
   },
   "outputs": [
    {
     "name": "stdout",
     "output_type": "stream",
     "text": [
      "              precision    recall  f1-score   support\n",
      "\n",
      "           0       0.76      0.94      0.84      2893\n",
      "           1       0.52      0.19      0.28      1050\n",
      "\n",
      "    accuracy                           0.74      3943\n",
      "   macro avg       0.64      0.56      0.56      3943\n",
      "weighted avg       0.70      0.74      0.69      3943\n",
      "\n"
     ]
    }
   ],
   "source": [
    "print(classification_report(m3_y_train, m3_y_pred))"
   ]
  },
  {
   "cell_type": "markdown",
   "metadata": {},
   "source": [
    "- Model 3 Accuracy: 74%\n",
    "- Model 3 Recall: 19%"
   ]
  },
  {
   "cell_type": "markdown",
   "metadata": {},
   "source": [
    "### Modeling (Training) Takeaways\n",
    "- Baseline Model (Training) \n",
    "    - Accuracy: 73%\n",
    "    - Recall: 0%\n",
    "<br>\n",
    "- Model 1 (Training): \n",
    "    - Accuracy: 80%\n",
    "    - Recall: 51%\n",
    "<br>\n",
    "- Model 2 (Training): \n",
    "    - Accuracy: 75%\n",
    "    - Recall: 31%\n",
    "<br>\n",
    "- Model 3 (Training): \n",
    "    - Accuracy: 74%\n",
    "    - Recall: 19%\n",
    "<br>\n",
    "<br>\n",
    "- All models surpassed both of the key metrics produced by the baseline model\n",
    "- Model 1 performed higher in both key metrics than any other model\n",
    "- Model 2 performed higher in both key metrics than model 3\n",
    "\n",
    "\n",
    "In light of these results, models 1 and 2 will be used on the validation data set"
   ]
  },
  {
   "cell_type": "markdown",
   "metadata": {},
   "source": [
    "## Modeling (Validate)\n",
    "I will now be applying the most promising models, models 1 and 2 to the validation dataset. This will give me an idea of how the models perform on data they have not yet seen (out-of-sample).\n",
    "***"
   ]
  },
  {
   "cell_type": "markdown",
   "metadata": {},
   "source": [
    "### Model 1 - K Nearest Neighbors - No Hyper Parameter Tuning - (Validate)"
   ]
  },
  {
   "cell_type": "code",
   "execution_count": 27,
   "metadata": {},
   "outputs": [
    {
     "name": "stdout",
     "output_type": "stream",
     "text": [
      "              precision    recall  f1-score   support\n",
      "\n",
      "           0       0.78      0.86      0.82      1249\n",
      "           1       0.44      0.31      0.37       442\n",
      "\n",
      "    accuracy                           0.72      1691\n",
      "   macro avg       0.61      0.59      0.59      1691\n",
      "weighted avg       0.69      0.72      0.70      1691\n",
      "\n"
     ]
    }
   ],
   "source": [
    "# creating DF with selected features for logistic regression model\n",
    "m1_X_validate = validate[['is_automatic_payment','dependents','partner','monthly_charges']]\n",
    "m1_y_validate = validate['churn']\n",
    "\n",
    "# making predictions on x validate\n",
    "m1_y_pred_val = pd.DataFrame(knn.predict(m1_X_validate))\n",
    "\n",
    "print(classification_report(m1_y_validate, m1_y_pred_val))"
   ]
  },
  {
   "cell_type": "markdown",
   "metadata": {},
   "source": [
    "### Model 1 - K Nearest Neighbors - With Hyper Parameter Tuning - (Validate)"
   ]
  },
  {
   "cell_type": "code",
   "execution_count": 28,
   "metadata": {},
   "outputs": [
    {
     "name": "stdout",
     "output_type": "stream",
     "text": [
      "              precision    recall  f1-score   support\n",
      "\n",
      "           0       0.78      0.86      0.82      1249\n",
      "           1       0.45      0.32      0.37       442\n",
      "\n",
      "    accuracy                           0.72      1691\n",
      "   macro avg       0.62      0.59      0.60      1691\n",
      "weighted avg       0.69      0.72      0.70      1691\n",
      "\n"
     ]
    }
   ],
   "source": [
    "# creating logistic regression object\n",
    "knn = KNeighborsClassifier(n_neighbors = 5, weights = 'uniform', algorithm = 'brute')\n",
    "\n",
    "# fitting model to data\n",
    "knn.fit(m1_X_train, m1_y_train)\n",
    "\n",
    "# making predictions on x validate\n",
    "m1_y_pred_val = pd.DataFrame(knn.predict(m1_X_validate))\n",
    "\n",
    "print(classification_report(m1_y_validate, m1_y_pred_val))"
   ]
  },
  {
   "cell_type": "markdown",
   "metadata": {},
   "source": [
    "- After tuning the model with variety of different hyper parameter settings, I was able to improve it's recall score by 1%, by adjusting it's algorithm to \"Brute\" (uses brute-force search) instead of the default, \"auto\" (picks algo based on fitting).\n",
    "\n",
    "\n",
    "- Model 1 (Validation) \n",
    "    - Accuracy: 72%\n",
    "    - Recall: 32%"
   ]
  },
  {
   "cell_type": "markdown",
   "metadata": {},
   "source": [
    "### Model 2 - Random Forest - No Hyper Parameter Tuning - (Validate)"
   ]
  },
  {
   "cell_type": "code",
   "execution_count": 29,
   "metadata": {},
   "outputs": [
    {
     "name": "stdout",
     "output_type": "stream",
     "text": [
      "              precision    recall  f1-score   support\n",
      "\n",
      "           0       0.79      0.91      0.85      1249\n",
      "           1       0.55      0.32      0.40       442\n",
      "\n",
      "    accuracy                           0.75      1691\n",
      "   macro avg       0.67      0.61      0.62      1691\n",
      "weighted avg       0.73      0.75      0.73      1691\n",
      "\n"
     ]
    }
   ],
   "source": [
    "# creating DF with selected features for random forest model\n",
    "m2_X_validate = validate[['is_automatic_payment','dependents','partner','monthly_charges']]\n",
    "m2_y_validate = validate['churn']\n",
    "\n",
    "# making predictions on validate dataset\n",
    "m2_y_pred_val = pd.DataFrame(m2_rf.predict(m2_X_validate))\n",
    "\n",
    "print(classification_report(m2_y_validate, m2_y_pred_val))"
   ]
  },
  {
   "cell_type": "markdown",
   "metadata": {},
   "source": [
    "### Model 2 - Random Forest - With Hyper Parameter Tuning - (Validate)"
   ]
  },
  {
   "cell_type": "code",
   "execution_count": 30,
   "metadata": {},
   "outputs": [
    {
     "name": "stdout",
     "output_type": "stream",
     "text": [
      "              precision    recall  f1-score   support\n",
      "\n",
      "           0       0.80      0.88      0.84      1249\n",
      "           1       0.52      0.38      0.44       442\n",
      "\n",
      "    accuracy                           0.75      1691\n",
      "   macro avg       0.66      0.63      0.64      1691\n",
      "weighted avg       0.73      0.75      0.73      1691\n",
      "\n"
     ]
    }
   ],
   "source": [
    "# creating random forest object\n",
    "m2_rf = RandomForestClassifier(max_depth = 7, random_state=123)\n",
    "\n",
    "# fitting model to data\n",
    "m2_rf.fit(m1_X_train, m1_y_train)\n",
    "\n",
    "# making predictions on x validate\n",
    "m2_y_pred_val = pd.DataFrame(m2_rf.predict(m2_X_validate))\n",
    "\n",
    "print(classification_report(m2_y_validate, m2_y_pred_val))"
   ]
  },
  {
   "cell_type": "markdown",
   "metadata": {},
   "source": [
    "- After tuning the model with variety of different hyper parameter settings, I was able to improve it's recall score by 6% and it's precision score by 1% by increasing it's max_depth to 7\n",
    "\n",
    "- Model 2 (Validation)\n",
    "    - Accuracy: 75%\n",
    "    - Recall: 38%"
   ]
  },
  {
   "cell_type": "markdown",
   "metadata": {},
   "source": [
    "### Modeling (Validation) Takeaways\n",
    "\n",
    "- Model 1 (Validation)\n",
    "    - Accuracy: 72%\n",
    "    - Recall: 32%\n",
    "<br>\n",
    "- Model 2 (Validation)\n",
    "    - Accuracy: 75%\n",
    "    - Recall 38%\n",
    "<br>\n",
    "<br>\n",
    "- Model 2 will be used on the test sample since it outperformed model 1 in both of the key metrics"
   ]
  },
  {
   "cell_type": "markdown",
   "metadata": {},
   "source": [
    "## Test\n",
    "The best model, model 2, will now applied to the test dataset. \n",
    "***"
   ]
  },
  {
   "cell_type": "code",
   "execution_count": 31,
   "metadata": {},
   "outputs": [
    {
     "name": "stdout",
     "output_type": "stream",
     "text": [
      "              precision    recall  f1-score   support\n",
      "\n",
      "           0       0.79      0.87      0.83      1032\n",
      "           1       0.51      0.37      0.43       377\n",
      "\n",
      "    accuracy                           0.74      1409\n",
      "   macro avg       0.65      0.62      0.63      1409\n",
      "weighted avg       0.72      0.74      0.72      1409\n",
      "\n"
     ]
    }
   ],
   "source": [
    "# creating DF with selected features for random forest model\n",
    "m2_X_test = test[['is_automatic_payment','dependents','partner','monthly_charges']]\n",
    "m2_y_test = test['churn']\n",
    "\n",
    "# making predictions on test data set\n",
    "m2_y_pred_test = pd.DataFrame(m2_rf.predict(m2_X_test))\n",
    "\n",
    "print(classification_report(m2_y_test, m2_y_pred_test))"
   ]
  },
  {
   "cell_type": "markdown",
   "metadata": {},
   "source": [
    "### Modeling (Test) Takeaways\n",
    "- Model 2 (Test)\n",
    "    - Accuracy: 74%\n",
    "    - Recall 37%\n",
    "    \n",
    "- Very similar performance to the validation set in terms of the key metrics (accuracy, recall)\n",
    "- Still outperforming the baseline in both key metrics"
   ]
  },
  {
   "cell_type": "markdown",
   "metadata": {},
   "source": [
    "# Conclusion\n",
    "I'll now summarize what I learned from exploration and modeling, make recommendations, summarize my best model's performance, steps going forward.\n",
    "***\n",
    "- Exploration uncovered that some the following features are related to churn:\n",
    "    - Dependents\n",
    "    - Partners\n",
    "    - Automatic vs Manual Payments\n",
    "    - Monthly Charges\n",
    "    \n",
    "    \n",
    "- Recommendations to reduce churn:\n",
    "    - Lower monthly charges because our customers appear to be price sensitive\n",
    "    - Offer promotions that encourage clients to add partners and dependents to account. Once signed up, switching multiple people to a competitor becomes a barrier to exit and increases tenure.\n",
    "    - Invest in marketing that promotes the use of automatic payments because clients will leave Telco for a competitor if they don't feel Telco's services meet their convenience needs.\n",
    "\n",
    "\n",
    "- Created a random forest model that make predictions about churn.\n",
    "    - The model's performance can be summarized as follows \n",
    "        - Accuracy of roughly 75% on both in-sample (train) and out-of-sample data (validate, test)\n",
    "        - Recall score of 31% on in-sample (train) and ~37% out-of-sample data (validate, test)\n",
    "   \n",
    "   \n",
    "- In the near future I would like to use what I learned from this project to build a new, more refined model that will improve it's ability to predict when a customer is churning, when they actually are (ie. improved recall) as this is the current model's largest area of opportunity."
   ]
  },
  {
   "cell_type": "code",
   "execution_count": null,
   "metadata": {},
   "outputs": [],
   "source": []
  }
 ],
 "metadata": {
  "kernelspec": {
   "display_name": "Python 3",
   "language": "python",
   "name": "python3"
  },
  "language_info": {
   "codemirror_mode": {
    "name": "ipython",
    "version": 3
   },
   "file_extension": ".py",
   "mimetype": "text/x-python",
   "name": "python",
   "nbconvert_exporter": "python",
   "pygments_lexer": "ipython3",
   "version": "3.7.6"
  }
 },
 "nbformat": 4,
 "nbformat_minor": 4
}
